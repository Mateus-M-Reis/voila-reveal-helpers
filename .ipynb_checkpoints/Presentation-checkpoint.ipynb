{
 "cells": [
  {
   "cell_type": "code",
   "execution_count": 1,
   "id": "9a1aeac9-ca59-42a2-a1cf-e8d3d76630f5",
   "metadata": {},
   "outputs": [],
   "source": [
    "%reload_ext autoreload\n",
    "%autoreload 2"
   ]
  },
  {
   "cell_type": "code",
   "execution_count": 12,
   "id": "33f2f9f3-daec-4ca7-8afa-ed0237313aec",
   "metadata": {},
   "outputs": [],
   "source": [
    "from ipywidgets import HTMLMath\n",
    "import bqplot.pyplot as plt\n",
    "\n",
    "from templates.html_templates import return_title_slide, return_index_slide\n",
    "from templates.slides_templates import return_slide_11"
   ]
  },
  {
   "cell_type": "code",
   "execution_count": 27,
   "id": "cb38d0af-1dbd-4cf1-8de0-dca6cf97e4dd",
   "metadata": {
    "collapsed": true,
    "jupyter": {
     "outputs_hidden": true
    },
    "slideshow": {
     "slide_type": "slide"
    },
    "tags": []
   },
   "outputs": [
    {
     "data": {
      "application/vnd.jupyter.widget-view+json": {
       "model_id": "14eedd84edbb4570b20810c67a57b02c",
       "version_major": 2,
       "version_minor": 0
      },
      "text/plain": [
       "HTMLMath(value='\\n\\t<div style=\"height:100%; min-height:700px; width:100%; min-width:600px\">\\n\\t\\t<div style=\"…"
      ]
     },
     "metadata": {},
     "output_type": "display_data"
    }
   ],
   "source": [
    "return_title_slide(\n",
    "    'Title of Your Presentation. <br>A long title', \n",
    "    'Your name, ...'\n",
    ")\n"
   ]
  },
  {
   "cell_type": "code",
   "execution_count": 4,
   "id": "353cd761-1483-4cd2-8ed2-fefe6eaf677f",
   "metadata": {
    "collapsed": true,
    "jupyter": {
     "outputs_hidden": true
    },
    "slideshow": {
     "slide_type": "slide"
    },
    "tags": []
   },
   "outputs": [
    {
     "data": {
      "application/vnd.jupyter.widget-view+json": {
       "model_id": "7854e066776c461ba001973bca7ca79a",
       "version_major": 2,
       "version_minor": 0
      },
      "text/plain": [
       "HTMLMath(value='\\n\\t<div style=\"height:100%; min-height:700px; width:100%; min-width:600px\">\\n\\t\\t<div style=\"…"
      ]
     },
     "metadata": {},
     "output_type": "display_data"
    }
   ],
   "source": [
    "return_index_slide(\n",
    "    'Introduction', \n",
    "    \"\"\"<ul>\n",
    "        <li>Item 1</li>\n",
    "        <li>Item 2</li>\n",
    "        <li>Item 3</li>\n",
    "    </ul>\"\"\",\n",
    ")\n"
   ]
  },
  {
   "cell_type": "code",
   "execution_count": 33,
   "id": "38047aaf-b310-4ece-a12e-365af2a8eccb",
   "metadata": {
    "slideshow": {
     "slide_type": "slide"
    },
    "tags": []
   },
   "outputs": [
    {
     "data": {
      "application/vnd.jupyter.widget-view+json": {
       "model_id": "8958853cf1d64663b0cdf0423c30f816",
       "version_major": 2,
       "version_minor": 0
      },
      "text/plain": [
       "GridspecLayout(children=(HTMLMath(value='<h1>Testing</h1>', layout=Layout(grid_area='widget001')), HTMLMath(va…"
      ]
     },
     "metadata": {},
     "output_type": "display_data"
    }
   ],
   "source": [
    "fig_1 = plt.figure()\n",
    "plt.plot([1,2,3],[4,5,6])\n",
    "fig_2 = plt.figure()\n",
    "plt.plot([1,2,3],[1,2,3])\n",
    "\n",
    "return_slide_11(\"Testing\", \"<h1>Test_1</h1>\", fig_1)"
   ]
  }
 ],
 "metadata": {
  "kernelspec": {
   "display_name": "Python 3 (ipykernel)",
   "language": "python",
   "name": "python3"
  },
  "language_info": {
   "codemirror_mode": {
    "name": "ipython",
    "version": 3
   },
   "file_extension": ".py",
   "mimetype": "text/x-python",
   "name": "python",
   "nbconvert_exporter": "python",
   "pygments_lexer": "ipython3",
   "version": "3.10.4"
  },
  "widgets": {
   "application/vnd.jupyter.widget-state+json": {
    "state": {
     "01f9c363ef2a4d719ac61a95d476b895": {
      "model_module": "@jupyter-widgets/controls",
      "model_module_version": "1.5.0",
      "model_name": "GridBoxModel",
      "state": {
       "children": [
        "IPY_MODEL_2d413c7c28394299ab4c6a4944298695"
       ],
       "layout": "IPY_MODEL_492d5ab6b874494eb7dfc3e536eecf2e"
      }
     },
     "02d885c0058d4b8495efef64006117da": {
      "model_module": "bqplot",
      "model_module_version": "^0.5.34",
      "model_name": "LinearScaleModel",
      "state": {
       "allow_padding": false,
       "max": 1,
       "min": 0,
       "stabilized": false
      }
     },
     "032eae62c8444987aa8aaa2211a752c0": {
      "model_module": "bqplot",
      "model_module_version": "^0.5.34",
      "model_name": "LinearScaleModel",
      "state": {
       "stabilized": false
      }
     },
     "0449a440393c456f8b59653aa66fb473": {
      "model_module": "@jupyter-widgets/controls",
      "model_module_version": "1.5.0",
      "model_name": "DescriptionStyleModel",
      "state": {
       "description_width": ""
      }
     },
     "054817d2ddcb41e8abd9f20b5a4eae94": {
      "model_module": "@jupyter-widgets/controls",
      "model_module_version": "1.5.0",
      "model_name": "HTMLModel",
      "state": {
       "layout": "IPY_MODEL_c57adae694c9493ca76c9efc6ff7c61f",
       "style": "IPY_MODEL_8eb4ba06ba8840fe875cd1f4d0899e03",
       "value": "# Testing"
      }
     },
     "05855cd909e644b488ecc65ed6902a88": {
      "model_module": "bqplot",
      "model_module_version": "^0.5.34",
      "model_name": "LinearScaleModel",
      "state": {
       "stabilized": false
      }
     },
     "060f1b5b0a314b08a32c9d8b01d40ef4": {
      "model_module": "bqplot",
      "model_module_version": "^0.5.34",
      "model_name": "FigureModel",
      "state": {
       "axes": [
        "IPY_MODEL_66a18137f4524b9b978d362d1160dba6",
        "IPY_MODEL_8cb74f48952c40aaa23f43287ccea325"
       ],
       "layout": "IPY_MODEL_cad6bc9b111e4188a0186776e3c3a87a",
       "marks": [
        "IPY_MODEL_90b0e3b58a444511a8dc1d5c93a10ffc"
       ],
       "scale_x": "IPY_MODEL_e1fd7be546a4462bbcabc681ee4858c6",
       "scale_y": "IPY_MODEL_9ae8756c7a284106b952cc5f02606a0b"
      }
     },
     "090f276e33274995912c7fc34646beec": {
      "model_module": "bqplot",
      "model_module_version": "^0.5.34",
      "model_name": "AxisModel",
      "state": {
       "scale": "IPY_MODEL_7ce60f381f7a44f08180485617686944",
       "side": "bottom",
       "tick_values": null
      }
     },
     "0a61f435c7044003bc13e6331f44c4f4": {
      "model_module": "bqplot",
      "model_module_version": "^0.5.34",
      "model_name": "AxisModel",
      "state": {
       "orientation": "vertical",
       "scale": "IPY_MODEL_cda01e30035f4f77a5178bfae01bb678",
       "side": "left",
       "tick_values": null
      }
     },
     "0a8fcb291ca74bc5b039f5d26c81cdfe": {
      "model_module": "@jupyter-widgets/base",
      "model_module_version": "1.2.0",
      "model_name": "LayoutModel",
      "state": {}
     },
     "0b112e8e27ec4d1ead51842fb0ad6200": {
      "model_module": "@jupyter-widgets/controls",
      "model_module_version": "1.5.0",
      "model_name": "HTMLMathModel",
      "state": {
       "layout": "IPY_MODEL_bb8fefc38a5e4c0fb4a73368a4405ccd",
       "style": "IPY_MODEL_4e9a19076e8a4ef6acd9d922f14ffe16",
       "value": "Test_1"
      }
     },
     "0bb0f733e0fd4a2facf08d1db5d2e7cf": {
      "model_module": "@jupyter-widgets/controls",
      "model_module_version": "1.5.0",
      "model_name": "HTMLMathModel",
      "state": {
       "layout": "IPY_MODEL_6c5d94bf27bf4e9fb826ee4c6e20b858",
       "style": "IPY_MODEL_c1ee902cd64a4587a97e1a7d5a4ee3cf",
       "value": "<h1>Testing</h1>"
      }
     },
     "0ccbd0369e9e44f2bd35e7ea3daff105": {
      "buffers": [
       {
        "data": "AQAAAAIAAAADAAAA",
        "encoding": "base64",
        "path": [
         "x",
         "value"
        ]
       },
       {
        "data": "AQAAAAIAAAADAAAA",
        "encoding": "base64",
        "path": [
         "y",
         "value"
        ]
       }
      ],
      "model_module": "bqplot",
      "model_module_version": "^0.5.34",
      "model_name": "LinesModel",
      "state": {
       "fill_colors": [],
       "labels": [
        "C1"
       ],
       "scales": {
        "x": "IPY_MODEL_57ede13ad5174135a4901df42b2910a1",
        "y": "IPY_MODEL_579f729731394b95992c8a43b88349a1"
       },
       "x": {
        "dtype": "int32",
        "shape": [
         3
        ],
        "type": null
       },
       "y": {
        "dtype": "int32",
        "shape": [
         3
        ],
        "type": null
       }
      }
     },
     "0d41770c90d24b74a96b7223e4528725": {
      "model_module": "bqplot",
      "model_module_version": "^0.5.34",
      "model_name": "LinearScaleModel",
      "state": {
       "allow_padding": false,
       "max": 1,
       "min": 0,
       "stabilized": false
      }
     },
     "0de1c68ae1b448ef9a61dae18bec1443": {
      "model_module": "@jupyter-widgets/output",
      "model_module_version": "1.0.0",
      "model_name": "OutputModel",
      "state": {
       "layout": "IPY_MODEL_a3ccc7fb1ec440ab88cde9ab6465e7f0",
       "outputs": [
        {
         "data": {
          "text/markdown": "# Test",
          "text/plain": "<IPython.core.display.Markdown object>"
         },
         "metadata": {},
         "output_type": "display_data"
        }
       ]
      }
     },
     "132b519351eb4d26bbe7408be8067496": {
      "buffers": [
       {
        "data": "AQAAAAIAAAADAAAA",
        "encoding": "base64",
        "path": [
         "x",
         "value"
        ]
       },
       {
        "data": "AQAAAAIAAAADAAAA",
        "encoding": "base64",
        "path": [
         "y",
         "value"
        ]
       }
      ],
      "model_module": "bqplot",
      "model_module_version": "^0.5.34",
      "model_name": "LinesModel",
      "state": {
       "fill_colors": [],
       "labels": [
        "C1"
       ],
       "scales": {
        "x": "IPY_MODEL_2b650c4aa4c94a21b0f9a9f4196cf0fd",
        "y": "IPY_MODEL_219c9931402d4f52bbac19c3a91d4935"
       },
       "x": {
        "dtype": "int32",
        "shape": [
         3
        ],
        "type": null
       },
       "y": {
        "dtype": "int32",
        "shape": [
         3
        ],
        "type": null
       }
      }
     },
     "148d9542803947e0807b976e7b4aec31": {
      "model_module": "bqplot",
      "model_module_version": "^0.5.34",
      "model_name": "LinearScaleModel",
      "state": {
       "stabilized": false
      }
     },
     "14eedd84edbb4570b20810c67a57b02c": {
      "model_module": "@jupyter-widgets/controls",
      "model_module_version": "1.5.0",
      "model_name": "HTMLMathModel",
      "state": {
       "layout": "IPY_MODEL_8e1fb750833d4bf59e9bd20b3796182e",
       "style": "IPY_MODEL_b81e6ce8b80f4f0eb4ef38312fba5438",
       "value": "\n\t<div style=\"height:100%; min-height:700px; width:100%; min-width:600px\">\n\t\t<div style=\"\n\t\theight: 50%; \n\t\tmin-height: 450px; \n\t\tbackground-color: red; \n\t\twidth: 85%; min-width: 700px; \n\t\tdisplay: flex; \n\t\talign-items: center; \n\t\tpadding:20px\n\t\t\">\n\t\t\t<h1 style=\"color:white; font-size: 40px\">\n\t\t\t\tTitle of Your Presentation. <br>A long title\n\t\t\t</h1>\n\t\t</div>\n\t\t<div \n\t\tstyle=\"display: flex; \n\t\tjustify-content: flex-end; \n\t\talign-items: center; \n\t\tmin-height: 100px; \n\t\tpadding-right: 50px\n\t\t\">\n\t\t\t<h4 style=\"\n\t\t\tfont-size: 20px;\n\t\t\t\">\n\t\t\t\tYour name, ...\n\t\t\t</h4>\n\t\t</div>\n\t</div>\n\t"
      }
     },
     "14ff74519ee540158deb865ffc1d668d": {
      "model_module": "bqplot",
      "model_module_version": "^0.5.34",
      "model_name": "AxisModel",
      "state": {
       "scale": "IPY_MODEL_a78e36c527e44db591e7886bd080ad85",
       "side": "bottom",
       "tick_values": null
      }
     },
     "189fe632b0d844cb97b963a8a0a125be": {
      "model_module": "@jupyter-widgets/base",
      "model_module_version": "1.2.0",
      "model_name": "LayoutModel",
      "state": {
       "grid_area": "widget003"
      }
     },
     "197997595ac24c43bf26a2c691a8bce9": {
      "model_module": "bqplot",
      "model_module_version": "^0.5.34",
      "model_name": "FigureModel",
      "state": {
       "axes": [
        "IPY_MODEL_212b6f5df9a34fafacf51ebc66f9ff1f",
        "IPY_MODEL_399947dae9e144009fc74b8c7e4a2c0c"
       ],
       "layout": "IPY_MODEL_3ea0b554917a4352b630ad31a92e3cb5",
       "marks": [
        "IPY_MODEL_f81844104514459a96bcd2e3e8553e5b"
       ],
       "scale_x": "IPY_MODEL_d980bfb15d2546c19d64861c305afc48",
       "scale_y": "IPY_MODEL_2cdb7c2704fe4b32bdc3fc8eadd13dd5"
      }
     },
     "1ad5c7ec5b264e77adcd6b53c0e4a69c": {
      "model_module": "bqplot",
      "model_module_version": "^0.5.34",
      "model_name": "LinearScaleModel",
      "state": {
       "allow_padding": false,
       "max": 1,
       "min": 0,
       "stabilized": false
      }
     },
     "1af27677c7a046cbbb959dd787abf95d": {
      "model_module": "bqplot",
      "model_module_version": "^0.5.34",
      "model_name": "LinearScaleModel",
      "state": {
       "allow_padding": false,
       "max": 1,
       "min": 0,
       "stabilized": false
      }
     },
     "1b23f8d94dac4436a7d99144aa3ee1d5": {
      "model_module": "bqplot",
      "model_module_version": "^0.5.34",
      "model_name": "LinearScaleModel",
      "state": {
       "allow_padding": false,
       "max": 1,
       "min": 0,
       "stabilized": false
      }
     },
     "1b77f5f31afc4dcb971646bdc6cf087f": {
      "model_module": "bqplot",
      "model_module_version": "^0.5.34",
      "model_name": "FigureModel",
      "state": {
       "axes": [
        "IPY_MODEL_60326f20f1ac4ed7b9ff1c965255af53",
        "IPY_MODEL_cbd61ab08cb14f748d2c8a06b83c32e4"
       ],
       "layout": "IPY_MODEL_e26b21989e964e6caf9f1856697a7644",
       "marks": [
        "IPY_MODEL_422f3cc10bf246cd8a4ea0525006cb6a"
       ],
       "scale_x": "IPY_MODEL_7d61aa332b89447cb911047ad0dd4707",
       "scale_y": "IPY_MODEL_8d6fec78a66042a597ba7a5600a5e014"
      }
     },
     "1d983c98607d4b138d466bc08138a84d": {
      "model_module": "bqplot",
      "model_module_version": "^0.5.34",
      "model_name": "LinearScaleModel",
      "state": {
       "stabilized": false
      }
     },
     "1e042723cd774174a76327a1913dee09": {
      "model_module": "@jupyter-widgets/controls",
      "model_module_version": "1.5.0",
      "model_name": "HTMLModel",
      "state": {
       "layout": "IPY_MODEL_901a3e8ffcb74f2e937dd40924b145a6",
       "style": "IPY_MODEL_5de1ec900cd54a9aaf35e349f624ab80",
       "value": "# Testing"
      }
     },
     "1e6692cb74a84ad292bcb5889773bc36": {
      "model_module": "bqplot",
      "model_module_version": "^0.5.34",
      "model_name": "FigureModel",
      "state": {
       "axes": [
        "IPY_MODEL_272b3da97f2649a881ff212706fa1658",
        "IPY_MODEL_8958a5a56d0b459b81641efa792ffa1d"
       ],
       "layout": "IPY_MODEL_27b8c19934534f37b61c5ca612d15991",
       "marks": [
        "IPY_MODEL_6538a314eaf148059d946692e9dda294"
       ],
       "scale_x": "IPY_MODEL_8f01149ffaed45048a2146098a13fe75",
       "scale_y": "IPY_MODEL_5ea1a13a0929436694ee42eb64d0e345"
      }
     },
     "212b6f5df9a34fafacf51ebc66f9ff1f": {
      "model_module": "bqplot",
      "model_module_version": "^0.5.34",
      "model_name": "AxisModel",
      "state": {
       "scale": "IPY_MODEL_b30453ed8a344ee0871a0c1ee3c71758",
       "side": "bottom",
       "tick_values": null
      }
     },
     "219c9931402d4f52bbac19c3a91d4935": {
      "model_module": "bqplot",
      "model_module_version": "^0.5.34",
      "model_name": "LinearScaleModel",
      "state": {
       "stabilized": false
      }
     },
     "24290e0fad994426a2410ab9d574dbb9": {
      "model_module": "bqplot",
      "model_module_version": "^0.5.34",
      "model_name": "LinearScaleModel",
      "state": {
       "stabilized": false
      }
     },
     "24b62263280045259afe1b3e5eb74c0c": {
      "model_module": "@jupyter-widgets/base",
      "model_module_version": "1.2.0",
      "model_name": "LayoutModel",
      "state": {}
     },
     "272b3da97f2649a881ff212706fa1658": {
      "model_module": "bqplot",
      "model_module_version": "^0.5.34",
      "model_name": "AxisModel",
      "state": {
       "scale": "IPY_MODEL_d0b407aba04946429108e21f9bb9253d",
       "side": "bottom",
       "tick_values": null
      }
     },
     "2741e6aaf27849878f47b8ae1e9d7bde": {
      "model_module": "@jupyter-widgets/base",
      "model_module_version": "1.2.0",
      "model_name": "LayoutModel",
      "state": {}
     },
     "27b8c19934534f37b61c5ca612d15991": {
      "model_module": "@jupyter-widgets/base",
      "model_module_version": "1.2.0",
      "model_name": "LayoutModel",
      "state": {}
     },
     "27ecc87f04f747f1a950c9c439f3dd94": {
      "model_module": "bqplot",
      "model_module_version": "^0.5.34",
      "model_name": "AxisModel",
      "state": {
       "orientation": "vertical",
       "scale": "IPY_MODEL_579f729731394b95992c8a43b88349a1",
       "side": "left",
       "tick_values": null
      }
     },
     "2941d956c2d54939be21186c3989f6f6": {
      "model_module": "@jupyter-widgets/base",
      "model_module_version": "1.2.0",
      "model_name": "LayoutModel",
      "state": {
       "grid_area": "widget001"
      }
     },
     "2a515a33af74456685aeedd289d0dfcb": {
      "model_module": "@jupyter-widgets/base",
      "model_module_version": "1.2.0",
      "model_name": "LayoutModel",
      "state": {
       "grid_area": "widget003"
      }
     },
     "2b650c4aa4c94a21b0f9a9f4196cf0fd": {
      "model_module": "bqplot",
      "model_module_version": "^0.5.34",
      "model_name": "LinearScaleModel",
      "state": {
       "stabilized": false
      }
     },
     "2b847571497845718f19397ad203a358": {
      "model_module": "@jupyter-widgets/base",
      "model_module_version": "1.2.0",
      "model_name": "LayoutModel",
      "state": {}
     },
     "2cdb7c2704fe4b32bdc3fc8eadd13dd5": {
      "model_module": "bqplot",
      "model_module_version": "^0.5.34",
      "model_name": "LinearScaleModel",
      "state": {
       "allow_padding": false,
       "max": 1,
       "min": 0,
       "stabilized": false
      }
     },
     "2cf97de697eb478381321bf2dd9177d8": {
      "model_module": "bqplot",
      "model_module_version": "^0.5.34",
      "model_name": "FigureModel",
      "state": {
       "axes": [
        "IPY_MODEL_45905f53db3648fa8d14d703d25e3fd4",
        "IPY_MODEL_fbeca3f23aa8474da6597f13f39ca13f"
       ],
       "layout": "IPY_MODEL_3cb2e2dd7c9c4f0e862ff27a1a447e3a",
       "marks": [
        "IPY_MODEL_d7905facef564f58b64885ff9c0d3d75"
       ],
       "scale_x": "IPY_MODEL_966b4ce8239c49f5829f47637d6030ff",
       "scale_y": "IPY_MODEL_ccb5068807e84807bd4e416fa2ca0b09"
      }
     },
     "2d2f4d9782604edfb2c7f1850a7c9f7f": {
      "model_module": "bqplot",
      "model_module_version": "^0.5.34",
      "model_name": "FigureModel",
      "state": {
       "axes": [
        "IPY_MODEL_e093bd8c77094d9d88949db0dfb30677",
        "IPY_MODEL_ede341a3b23d42cbbfec501f57fea788"
       ],
       "layout": "IPY_MODEL_64f0cf0582c643f7ab235bba5abbf321",
       "marks": [
        "IPY_MODEL_9250738c94ea4776a925703a92060f1b"
       ],
       "scale_x": "IPY_MODEL_85efb1c43ecd4e4293b9ac185d53b27b",
       "scale_y": "IPY_MODEL_468854a13c2248488bfe0d9eb0e743e2"
      }
     },
     "2d413c7c28394299ab4c6a4944298695": {
      "model_module": "@jupyter-widgets/controls",
      "model_module_version": "1.5.0",
      "model_name": "HTMLModel",
      "state": {
       "layout": "IPY_MODEL_5a827716cba74a79a38f13cdfb63c3d3",
       "style": "IPY_MODEL_b094d6a94f5846df9c7c2eb4291fcd39",
       "value": "# Testing"
      }
     },
     "2eb8573e83ee4b2cbc21ad52e47cf793": {
      "model_module": "bqplot",
      "model_module_version": "^0.5.34",
      "model_name": "LinearScaleModel",
      "state": {
       "allow_padding": false,
       "max": 1,
       "min": 0,
       "stabilized": false
      }
     },
     "2ed163b3b92f4939b81557013156715d": {
      "model_module": "@jupyter-widgets/base",
      "model_module_version": "1.2.0",
      "model_name": "LayoutModel",
      "state": {
       "grid_area": "widget002"
      }
     },
     "2f195ef84d6a4ee69729e9cc12e0ce13": {
      "model_module": "bqplot",
      "model_module_version": "^0.5.34",
      "model_name": "LinearScaleModel",
      "state": {
       "allow_padding": false,
       "max": 1,
       "min": 0,
       "stabilized": false
      }
     },
     "2f5b291a70554a23909151f9be06de33": {
      "model_module": "bqplot",
      "model_module_version": "^0.5.34",
      "model_name": "AxisModel",
      "state": {
       "orientation": "vertical",
       "scale": "IPY_MODEL_4d0af45d2df143ad9fdfc25ff7ad58b3",
       "side": "left",
       "tick_values": null
      }
     },
     "2f91f9ca34b849c5984c783bd94ce740": {
      "model_module": "@jupyter-widgets/base",
      "model_module_version": "1.2.0",
      "model_name": "LayoutModel",
      "state": {
       "grid_template_areas": "\"widget001 widget001\"\n\"widget002 widget003\"\n\"widget002 widget003\"\n\"widget002 widget003\"\n\"widget002 widget003\"",
       "grid_template_columns": "repeat(2, 1fr)",
       "grid_template_rows": "repeat(5, 1fr)"
      }
     },
     "310c6328b40247c0b8beacbe6ddff314": {
      "model_module": "@jupyter-widgets/base",
      "model_module_version": "1.2.0",
      "model_name": "LayoutModel",
      "state": {
       "grid_area": "widget003"
      }
     },
     "31ee276736a44ff0bb01db1d8f834407": {
      "model_module": "@jupyter-widgets/controls",
      "model_module_version": "1.5.0",
      "model_name": "DescriptionStyleModel",
      "state": {
       "description_width": ""
      }
     },
     "32b56ca3815445ca86c1971d37becddb": {
      "model_module": "@jupyter-widgets/base",
      "model_module_version": "1.2.0",
      "model_name": "LayoutModel",
      "state": {
       "grid_template_areas": "\"widget001 widget001\"\n\". .\"\n\". .\"\n\". .\"\n\". .\"\n\". .\"\n\". .\"",
       "grid_template_columns": "repeat(2, 1fr)",
       "grid_template_rows": "repeat(7, 1fr)"
      }
     },
     "336821779fb3444cbb9c38f936bb10a4": {
      "model_module": "@jupyter-widgets/controls",
      "model_module_version": "1.5.0",
      "model_name": "HTMLMathModel",
      "state": {
       "layout": "IPY_MODEL_d6a95753bfc940c3b5a0d689860215e1",
       "style": "IPY_MODEL_d7b46bba76794dd8be8b76a7be9464b5",
       "value": "# Testing"
      }
     },
     "33e355912ef94c7fadaab7b1a2d871e8": {
      "model_module": "bqplot",
      "model_module_version": "^0.5.34",
      "model_name": "LinearScaleModel",
      "state": {
       "allow_padding": false,
       "max": 1,
       "min": 0,
       "stabilized": false
      }
     },
     "366c82a89c704884a33a97852642046e": {
      "model_module": "bqplot",
      "model_module_version": "^0.5.34",
      "model_name": "LinearScaleModel",
      "state": {
       "allow_padding": false,
       "max": 1,
       "min": 0,
       "stabilized": false
      }
     },
     "36f1128363244b3094260d6e4b63ef8c": {
      "model_module": "bqplot",
      "model_module_version": "^0.5.34",
      "model_name": "AxisModel",
      "state": {
       "scale": "IPY_MODEL_49347af86c7e4e4fa539135e04d38805",
       "side": "bottom",
       "tick_values": null
      }
     },
     "3884f701dba1481fba01061bd153b9c7": {
      "buffers": [
       {
        "data": "AQAAAAIAAAADAAAA",
        "encoding": "base64",
        "path": [
         "x",
         "value"
        ]
       },
       {
        "data": "AQAAAAIAAAADAAAA",
        "encoding": "base64",
        "path": [
         "y",
         "value"
        ]
       }
      ],
      "model_module": "bqplot",
      "model_module_version": "^0.5.34",
      "model_name": "LinesModel",
      "state": {
       "fill_colors": [],
       "labels": [
        "C1"
       ],
       "scales": {
        "x": "IPY_MODEL_1d983c98607d4b138d466bc08138a84d",
        "y": "IPY_MODEL_5de68a28b3d242db9301d2375cf1d3bf"
       },
       "x": {
        "dtype": "int32",
        "shape": [
         3
        ],
        "type": null
       },
       "y": {
        "dtype": "int32",
        "shape": [
         3
        ],
        "type": null
       }
      }
     },
     "38e1cfe7ab0344f6868a8559788a5c8e": {
      "model_module": "bqplot",
      "model_module_version": "^0.5.34",
      "model_name": "LinearScaleModel",
      "state": {
       "stabilized": false
      }
     },
     "3919a0ad29814dc697a69a8f33647a4f": {
      "model_module": "bqplot",
      "model_module_version": "^0.5.34",
      "model_name": "LinearScaleModel",
      "state": {
       "allow_padding": false,
       "max": 1,
       "min": 0,
       "stabilized": false
      }
     },
     "393f24dd6e6c42efb180ee1fdc34141b": {
      "model_module": "@jupyter-widgets/controls",
      "model_module_version": "1.5.0",
      "model_name": "HTMLMathModel",
      "state": {
       "layout": "IPY_MODEL_4e761f7ab8014659a8054f03c2df551a",
       "style": "IPY_MODEL_6f577cda9a3742b2bd5d8769c9e8053e",
       "value": "<h1>Testing</h1>"
      }
     },
     "394fffcfb3cf4c8fbf8863075dbc19f2": {
      "model_module": "@jupyter-widgets/controls",
      "model_module_version": "1.5.0",
      "model_name": "HTMLModel",
      "state": {
       "layout": "IPY_MODEL_ed6cbcba6cb04817ac35248b98570b2f",
       "style": "IPY_MODEL_0449a440393c456f8b59653aa66fb473",
       "value": "Test_1"
      }
     },
     "399947dae9e144009fc74b8c7e4a2c0c": {
      "model_module": "bqplot",
      "model_module_version": "^0.5.34",
      "model_name": "AxisModel",
      "state": {
       "orientation": "vertical",
       "scale": "IPY_MODEL_ad167d73f03b47b6adc67dee590ad999",
       "side": "left",
       "tick_values": null
      }
     },
     "3cb2e2dd7c9c4f0e862ff27a1a447e3a": {
      "model_module": "@jupyter-widgets/base",
      "model_module_version": "1.2.0",
      "model_name": "LayoutModel",
      "state": {}
     },
     "3e19a1e7ba08486f86b5c154dc661211": {
      "model_module": "@jupyter-widgets/output",
      "model_module_version": "1.0.0",
      "model_name": "OutputModel",
      "state": {
       "layout": "IPY_MODEL_efd57cd115274b37b49174133fca07fc",
       "outputs": [
        {
         "data": {
          "text/markdown": "# Test",
          "text/plain": "<IPython.core.display.Markdown object>"
         },
         "metadata": {},
         "output_type": "display_data"
        }
       ]
      }
     },
     "3e9dcd0302da40cf981445fec3f00a6d": {
      "model_module": "bqplot",
      "model_module_version": "^0.5.34",
      "model_name": "AxisModel",
      "state": {
       "scale": "IPY_MODEL_e2473ed7e1f24851ae56899e24bc9421",
       "side": "bottom",
       "tick_values": null
      }
     },
     "3ea0b554917a4352b630ad31a92e3cb5": {
      "model_module": "@jupyter-widgets/base",
      "model_module_version": "1.2.0",
      "model_name": "LayoutModel",
      "state": {
       "grid_area": "widget003"
      }
     },
     "3ea2c23666cf4a88aa6125179b0f37f5": {
      "model_module": "@jupyter-widgets/base",
      "model_module_version": "1.2.0",
      "model_name": "LayoutModel",
      "state": {
       "grid_area": "widget002"
      }
     },
     "412b7b13f5ce495daa6d2a44c516fe17": {
      "model_module": "bqplot",
      "model_module_version": "^0.5.34",
      "model_name": "LinearScaleModel",
      "state": {
       "stabilized": false
      }
     },
     "42248a3a5ed444cc9393e67e95c76956": {
      "model_module": "@jupyter-widgets/base",
      "model_module_version": "1.2.0",
      "model_name": "LayoutModel",
      "state": {
       "grid_template_areas": "\"widget001 widget001\"\n\"widget002 widget003\"\n\"widget002 widget003\"\n\"widget002 widget003\"\n\"widget002 widget003\"\n\"widget002 widget003\"\n\"widget002 widget003\"",
       "grid_template_columns": "repeat(2, 1fr)",
       "grid_template_rows": "repeat(7, 1fr)"
      }
     },
     "422f3cc10bf246cd8a4ea0525006cb6a": {
      "buffers": [
       {
        "data": "AQAAAAIAAAADAAAA",
        "encoding": "base64",
        "path": [
         "x",
         "value"
        ]
       },
       {
        "data": "AQAAAAIAAAADAAAA",
        "encoding": "base64",
        "path": [
         "y",
         "value"
        ]
       }
      ],
      "model_module": "bqplot",
      "model_module_version": "^0.5.34",
      "model_name": "LinesModel",
      "state": {
       "fill_colors": [],
       "labels": [
        "C1"
       ],
       "scales": {
        "x": "IPY_MODEL_50190c49145c42f08b941bc1f16d7643",
        "y": "IPY_MODEL_4b440826adb3408d9a99581e0382a896"
       },
       "x": {
        "dtype": "int32",
        "shape": [
         3
        ],
        "type": null
       },
       "y": {
        "dtype": "int32",
        "shape": [
         3
        ],
        "type": null
       }
      }
     },
     "438721122c004fc6af73ccefa30d51f9": {
      "model_module": "@jupyter-widgets/base",
      "model_module_version": "1.2.0",
      "model_name": "LayoutModel",
      "state": {
       "grid_area": "widget003"
      }
     },
     "450e326ca42f4aaab97611d5f4984641": {
      "model_module": "@jupyter-widgets/controls",
      "model_module_version": "1.5.0",
      "model_name": "GridBoxModel",
      "state": {
       "children": [
        "IPY_MODEL_0bb0f733e0fd4a2facf08d1db5d2e7cf"
       ],
       "layout": "IPY_MODEL_32b56ca3815445ca86c1971d37becddb"
      }
     },
     "4530e11e082f45278b3eb66fdd14a505": {
      "model_module": "@jupyter-widgets/controls",
      "model_module_version": "1.5.0",
      "model_name": "DescriptionStyleModel",
      "state": {
       "description_width": ""
      }
     },
     "45788955fe0c4b859455fb3ba0f3f832": {
      "model_module": "@jupyter-widgets/controls",
      "model_module_version": "1.5.0",
      "model_name": "DescriptionStyleModel",
      "state": {
       "description_width": ""
      }
     },
     "45905f53db3648fa8d14d703d25e3fd4": {
      "model_module": "bqplot",
      "model_module_version": "^0.5.34",
      "model_name": "AxisModel",
      "state": {
       "scale": "IPY_MODEL_9ddbd04e45a14245b61bd0191dc15fe4",
       "side": "bottom",
       "tick_values": null
      }
     },
     "468854a13c2248488bfe0d9eb0e743e2": {
      "model_module": "bqplot",
      "model_module_version": "^0.5.34",
      "model_name": "LinearScaleModel",
      "state": {
       "allow_padding": false,
       "max": 1,
       "min": 0,
       "stabilized": false
      }
     },
     "47438a7fc17f4426a05cd108425f978e": {
      "buffers": [
       {
        "data": "AQAAAAIAAAADAAAA",
        "encoding": "base64",
        "path": [
         "x",
         "value"
        ]
       },
       {
        "data": "BAAAAAUAAAAGAAAA",
        "encoding": "base64",
        "path": [
         "y",
         "value"
        ]
       }
      ],
      "model_module": "bqplot",
      "model_module_version": "^0.5.34",
      "model_name": "LinesModel",
      "state": {
       "fill_colors": [],
       "labels": [
        "C1"
       ],
       "scales": {
        "x": "IPY_MODEL_5407bf7246b041ed8c10ec2150c439d1",
        "y": "IPY_MODEL_b9434eea035142d8a51bdf0a7709fbd0"
       },
       "x": {
        "dtype": "int32",
        "shape": [
         3
        ],
        "type": null
       },
       "y": {
        "dtype": "int32",
        "shape": [
         3
        ],
        "type": null
       }
      }
     },
     "492d5ab6b874494eb7dfc3e536eecf2e": {
      "model_module": "@jupyter-widgets/base",
      "model_module_version": "1.2.0",
      "model_name": "LayoutModel",
      "state": {
       "grid_template_areas": "\"widget001 widget001\"\n\". .\"\n\". .\"\n\". .\"\n\". .\"\n\". .\"\n\". .\"",
       "grid_template_columns": "repeat(2, 1fr)",
       "grid_template_rows": "repeat(7, 1fr)"
      }
     },
     "49347af86c7e4e4fa539135e04d38805": {
      "model_module": "bqplot",
      "model_module_version": "^0.5.34",
      "model_name": "LinearScaleModel",
      "state": {
       "stabilized": false
      }
     },
     "49a69afb80854d4a8cdac672deabf758": {
      "model_module": "@jupyter-widgets/controls",
      "model_module_version": "1.5.0",
      "model_name": "HTMLMathModel",
      "state": {
       "layout": "IPY_MODEL_2ed163b3b92f4939b81557013156715d",
       "style": "IPY_MODEL_31ee276736a44ff0bb01db1d8f834407",
       "value": "<h1>Test_1</h1>"
      }
     },
     "4b14eee2b85546489817d0ef1b6eff16": {
      "model_module": "bqplot",
      "model_module_version": "^0.5.34",
      "model_name": "AxisModel",
      "state": {
       "orientation": "vertical",
       "scale": "IPY_MODEL_032eae62c8444987aa8aaa2211a752c0",
       "side": "left",
       "tick_values": null
      }
     },
     "4b440826adb3408d9a99581e0382a896": {
      "model_module": "bqplot",
      "model_module_version": "^0.5.34",
      "model_name": "LinearScaleModel",
      "state": {
       "stabilized": false
      }
     },
     "4c9f8bf6b17b40c58ac2d6a557b811be": {
      "model_module": "@jupyter-widgets/controls",
      "model_module_version": "1.5.0",
      "model_name": "DescriptionStyleModel",
      "state": {
       "description_width": ""
      }
     },
     "4ce82da0433d4f63a8aa88c506a0d5f0": {
      "buffers": [
       {
        "data": "AQAAAAIAAAADAAAA",
        "encoding": "base64",
        "path": [
         "x",
         "value"
        ]
       },
       {
        "data": "AQAAAAIAAAADAAAA",
        "encoding": "base64",
        "path": [
         "y",
         "value"
        ]
       }
      ],
      "model_module": "bqplot",
      "model_module_version": "^0.5.34",
      "model_name": "LinesModel",
      "state": {
       "fill_colors": [],
       "labels": [
        "C1"
       ],
       "scales": {
        "x": "IPY_MODEL_c4a320c3bdf14429ac6f3d95d4f18d44",
        "y": "IPY_MODEL_8f5cd98fbedf46e9875fd7e04504aa8d"
       },
       "x": {
        "dtype": "int32",
        "shape": [
         3
        ],
        "type": null
       },
       "y": {
        "dtype": "int32",
        "shape": [
         3
        ],
        "type": null
       }
      }
     },
     "4d0af45d2df143ad9fdfc25ff7ad58b3": {
      "model_module": "bqplot",
      "model_module_version": "^0.5.34",
      "model_name": "LinearScaleModel",
      "state": {
       "stabilized": false
      }
     },
     "4e761f7ab8014659a8054f03c2df551a": {
      "model_module": "@jupyter-widgets/base",
      "model_module_version": "1.2.0",
      "model_name": "LayoutModel",
      "state": {
       "grid_area": "widget001"
      }
     },
     "4e9a19076e8a4ef6acd9d922f14ffe16": {
      "model_module": "@jupyter-widgets/controls",
      "model_module_version": "1.5.0",
      "model_name": "DescriptionStyleModel",
      "state": {
       "description_width": ""
      }
     },
     "4ff3be2db0274bc0938d997516a20366": {
      "model_module": "bqplot",
      "model_module_version": "^0.5.34",
      "model_name": "LinearScaleModel",
      "state": {
       "stabilized": false
      }
     },
     "50190c49145c42f08b941bc1f16d7643": {
      "model_module": "bqplot",
      "model_module_version": "^0.5.34",
      "model_name": "LinearScaleModel",
      "state": {
       "stabilized": false
      }
     },
     "50cd18612f8647d1adef3188650b203e": {
      "model_module": "bqplot",
      "model_module_version": "^0.5.34",
      "model_name": "LinearScaleModel",
      "state": {
       "allow_padding": false,
       "max": 1,
       "min": 0,
       "stabilized": false
      }
     },
     "50d3abcb6af14c9db849c963beab02cf": {
      "model_module": "bqplot",
      "model_module_version": "^0.5.34",
      "model_name": "LinearScaleModel",
      "state": {
       "allow_padding": false,
       "max": 1,
       "min": 0,
       "stabilized": false
      }
     },
     "50fab576106948f5b0caa9af10f36282": {
      "model_module": "bqplot",
      "model_module_version": "^0.5.34",
      "model_name": "LinearScaleModel",
      "state": {
       "stabilized": false
      }
     },
     "51e525eae34f4a0493844f3db0c74590": {
      "model_module": "@jupyter-widgets/base",
      "model_module_version": "1.2.0",
      "model_name": "LayoutModel",
      "state": {
       "grid_template_areas": "\"widget001 widget001\"\n\"widget002 widget003\"\n\"widget002 widget003\"\n\"widget002 widget003\"\n\"widget002 widget003\"\n\"widget002 widget003\"\n\"widget002 widget003\"",
       "grid_template_columns": "repeat(2, 1fr)",
       "grid_template_rows": "repeat(7, 1fr)"
      }
     },
     "5232c5fb97414299b7a0e4b194b78466": {
      "model_module": "bqplot",
      "model_module_version": "^0.5.34",
      "model_name": "LinearScaleModel",
      "state": {
       "allow_padding": false,
       "max": 1,
       "min": 0,
       "stabilized": false
      }
     },
     "52e9900936c146c695a9fa8a648a3060": {
      "model_module": "@jupyter-widgets/base",
      "model_module_version": "1.2.0",
      "model_name": "LayoutModel",
      "state": {}
     },
     "53612c1dc50147529758cfdaba35ef77": {
      "model_module": "bqplot",
      "model_module_version": "^0.5.34",
      "model_name": "LinearScaleModel",
      "state": {
       "stabilized": false
      }
     },
     "5407bf7246b041ed8c10ec2150c439d1": {
      "model_module": "bqplot",
      "model_module_version": "^0.5.34",
      "model_name": "LinearScaleModel",
      "state": {
       "stabilized": false
      }
     },
     "5457d4be86e44f21ab950581991dea48": {
      "model_module": "bqplot",
      "model_module_version": "^0.5.34",
      "model_name": "LinearScaleModel",
      "state": {
       "stabilized": false
      }
     },
     "55096ea6050b47e4a240e25fcc5758a6": {
      "model_module": "bqplot",
      "model_module_version": "^0.5.34",
      "model_name": "LinearScaleModel",
      "state": {
       "allow_padding": false,
       "max": 1,
       "min": 0,
       "stabilized": false
      }
     },
     "555644d0fd3b44d5946bd9191fceaec0": {
      "model_module": "bqplot",
      "model_module_version": "^0.5.34",
      "model_name": "LinearScaleModel",
      "state": {
       "allow_padding": false,
       "max": 1,
       "min": 0,
       "stabilized": false
      }
     },
     "55ccb4e2de8c46719552b8ec2fe5dfba": {
      "model_module": "@jupyter-widgets/base",
      "model_module_version": "1.2.0",
      "model_name": "LayoutModel",
      "state": {
       "grid_template_areas": "\"widget001 widget001\"\n\"widget002 widget003\"\n\"widget002 widget003\"\n\"widget002 widget003\"\n\"widget002 widget003\"\n\"widget002 widget003\"\n\"widget002 widget003\"",
       "grid_template_columns": "repeat(2, 1fr)",
       "grid_template_rows": "repeat(7, 1fr)"
      }
     },
     "55f9d8b2819340c98e5dcffe98cb05ff": {
      "model_module": "@jupyter-widgets/controls",
      "model_module_version": "1.5.0",
      "model_name": "DescriptionStyleModel",
      "state": {
       "description_width": ""
      }
     },
     "579c693e83664b34af3395381883356c": {
      "model_module": "bqplot",
      "model_module_version": "^0.5.34",
      "model_name": "FigureModel",
      "state": {
       "axes": [
        "IPY_MODEL_867eafb4f1d24303b1ead489df5615c8",
        "IPY_MODEL_ab07409709f9428d8666e99aefa14dcd"
       ],
       "layout": "IPY_MODEL_189fe632b0d844cb97b963a8a0a125be",
       "marks": [
        "IPY_MODEL_cfac8d5b710f454da3c7e94289767cd0"
       ],
       "scale_x": "IPY_MODEL_5c4326baf1384cfaac19514da4baadb9",
       "scale_y": "IPY_MODEL_66951720ec654aeb9a0f34404097a3a1"
      }
     },
     "579f729731394b95992c8a43b88349a1": {
      "model_module": "bqplot",
      "model_module_version": "^0.5.34",
      "model_name": "LinearScaleModel",
      "state": {
       "stabilized": false
      }
     },
     "57ede13ad5174135a4901df42b2910a1": {
      "model_module": "bqplot",
      "model_module_version": "^0.5.34",
      "model_name": "LinearScaleModel",
      "state": {
       "stabilized": false
      }
     },
     "5a6ad9b9451641e6b46702707af1289b": {
      "model_module": "bqplot",
      "model_module_version": "^0.5.34",
      "model_name": "AxisModel",
      "state": {
       "orientation": "vertical",
       "scale": "IPY_MODEL_6f1850669a604fd4b3f2a688dab71f63",
       "side": "left",
       "tick_values": null
      }
     },
     "5a827716cba74a79a38f13cdfb63c3d3": {
      "model_module": "@jupyter-widgets/base",
      "model_module_version": "1.2.0",
      "model_name": "LayoutModel",
      "state": {
       "grid_area": "widget001"
      }
     },
     "5bce2340664846b8bb3f803419f414f9": {
      "model_module": "bqplot",
      "model_module_version": "^0.5.34",
      "model_name": "LinearScaleModel",
      "state": {
       "stabilized": false
      }
     },
     "5c4326baf1384cfaac19514da4baadb9": {
      "model_module": "bqplot",
      "model_module_version": "^0.5.34",
      "model_name": "LinearScaleModel",
      "state": {
       "allow_padding": false,
       "max": 1,
       "min": 0,
       "stabilized": false
      }
     },
     "5de1ec900cd54a9aaf35e349f624ab80": {
      "model_module": "@jupyter-widgets/controls",
      "model_module_version": "1.5.0",
      "model_name": "DescriptionStyleModel",
      "state": {
       "description_width": ""
      }
     },
     "5de68a28b3d242db9301d2375cf1d3bf": {
      "model_module": "bqplot",
      "model_module_version": "^0.5.34",
      "model_name": "LinearScaleModel",
      "state": {
       "stabilized": false
      }
     },
     "5ea1a13a0929436694ee42eb64d0e345": {
      "model_module": "bqplot",
      "model_module_version": "^0.5.34",
      "model_name": "LinearScaleModel",
      "state": {
       "allow_padding": false,
       "max": 1,
       "min": 0,
       "stabilized": false
      }
     },
     "5f68f36844234d27acb708afb68ba85d": {
      "model_module": "bqplot",
      "model_module_version": "^0.5.34",
      "model_name": "LinearScaleModel",
      "state": {
       "allow_padding": false,
       "max": 1,
       "min": 0,
       "stabilized": false
      }
     },
     "5f9d2cf6956742d08a95fb4c8fc3d677": {
      "model_module": "@jupyter-widgets/base",
      "model_module_version": "1.2.0",
      "model_name": "LayoutModel",
      "state": {
       "grid_template_areas": "\"widget001 widget001\"\n\". .\"\n\". .\"\n\". .\"\n\". .\"\n\". .\"\n\". .\"",
       "grid_template_columns": "repeat(2, 1fr)",
       "grid_template_rows": "repeat(7, 1fr)"
      }
     },
     "60326f20f1ac4ed7b9ff1c965255af53": {
      "model_module": "bqplot",
      "model_module_version": "^0.5.34",
      "model_name": "AxisModel",
      "state": {
       "scale": "IPY_MODEL_50190c49145c42f08b941bc1f16d7643",
       "side": "bottom",
       "tick_values": null
      }
     },
     "60366bb8857e47b298efe1614261dd4a": {
      "model_module": "@jupyter-widgets/output",
      "model_module_version": "1.0.0",
      "model_name": "OutputModel",
      "state": {
       "layout": "IPY_MODEL_2741e6aaf27849878f47b8ae1e9d7bde"
      }
     },
     "61844e896aff430a8229119b40b33ef6": {
      "model_module": "bqplot",
      "model_module_version": "^0.5.34",
      "model_name": "AxisModel",
      "state": {
       "orientation": "vertical",
       "scale": "IPY_MODEL_5de68a28b3d242db9301d2375cf1d3bf",
       "side": "left",
       "tick_values": null
      }
     },
     "61ce481c94464d398940465db0936c55": {
      "model_module": "@jupyter-widgets/base",
      "model_module_version": "1.2.0",
      "model_name": "LayoutModel",
      "state": {}
     },
     "62687d11648a474c8585f5546337f7f5": {
      "model_module": "@jupyter-widgets/controls",
      "model_module_version": "1.5.0",
      "model_name": "HTMLMathModel",
      "state": {
       "layout": "IPY_MODEL_c5882bee223e4a6488943b6e6c4938f2",
       "style": "IPY_MODEL_faa4037534124265b9e7a715accaa6a5",
       "value": "\n\t<div style=\"height:100%; min-height:700px; width:100%; min-width:600px\">\n\t\t<div style=\"\n\t\theight: 50%; \n\t\tmin-height: 450px; \n\t\tbackground-color: red; \n\t\twidth: 85%; min-width: 700px; \n\t\tdisplay: flex; \n\t\talign-items: center; \n\t\tpadding:20px\n\t\t\">\n\t\t\t<h1 style=\"color:white; font-size: 40px\">\n\t\t\t\tTitle of Your Presentation. \nA long, very long Title\n\t\t\t</h1>\n\t\t</div>\n\t\t<div \n\t\tstyle=\"display: flex; \n\t\tjustify-content: flex-end; \n\t\talign-items: center; \n\t\tmin-height: 100px; \n\t\tpadding-right: 50px\n\t\t\">\n\t\t\t<h4 style=\"\n\t\t\tfont-size: 20px;\n\t\t\t\">\n\t\t\t\tYour name, ...\n\t\t\t</h4>\n\t\t</div>\n\t</div>\n\t"
      }
     },
     "62aa5d6cbe6f413b882e3253aae63f35": {
      "model_module": "@jupyter-widgets/controls",
      "model_module_version": "1.5.0",
      "model_name": "DescriptionStyleModel",
      "state": {
       "description_width": ""
      }
     },
     "63df97f2032e4b2ab6f656b21d1d7c1a": {
      "model_module": "@jupyter-widgets/controls",
      "model_module_version": "1.5.0",
      "model_name": "HTMLModel",
      "state": {
       "layout": "IPY_MODEL_8d30dcd781cb4087b978cad5744e0dd1",
       "style": "IPY_MODEL_7e0b644998db4d44b3178654d6f02e0a",
       "value": "Test_1"
      }
     },
     "6434ecef73474d9cabaad310a3eee7ed": {
      "model_module": "bqplot",
      "model_module_version": "^0.5.34",
      "model_name": "FigureModel",
      "state": {
       "axes": [
        "IPY_MODEL_090f276e33274995912c7fc34646beec",
        "IPY_MODEL_0a61f435c7044003bc13e6331f44c4f4"
       ],
       "layout": "IPY_MODEL_9ef78fe6738040c0857d29ff89d43d2b",
       "marks": [
        "IPY_MODEL_f33ff63501074ddfa51a749f77a0a5d8"
       ],
       "scale_x": "IPY_MODEL_5232c5fb97414299b7a0e4b194b78466",
       "scale_y": "IPY_MODEL_785e7171dcd044bd9b212df92a80209e"
      }
     },
     "64b28efec1f24148a0298e88815a36f1": {
      "model_module": "bqplot",
      "model_module_version": "^0.5.34",
      "model_name": "FigureModel",
      "state": {
       "axes": [
        "IPY_MODEL_ca444627d8084e65bd8ca56d1f588e2c",
        "IPY_MODEL_e7a82e23b956436292b90b9f4629815a"
       ],
       "layout": "IPY_MODEL_2a515a33af74456685aeedd289d0dfcb",
       "marks": [
        "IPY_MODEL_e42572b419e44804b86de09c0656efec"
       ],
       "scale_x": "IPY_MODEL_afdf9943da3d4338ad0e401f1733e4f2",
       "scale_y": "IPY_MODEL_a6c5a635bd514d7186ac4e2dde11d3b8"
      }
     },
     "64ece291e1334b6d8c4477573946fd33": {
      "model_module": "@jupyter-widgets/controls",
      "model_module_version": "1.5.0",
      "model_name": "DescriptionStyleModel",
      "state": {
       "description_width": ""
      }
     },
     "64f0cf0582c643f7ab235bba5abbf321": {
      "model_module": "@jupyter-widgets/base",
      "model_module_version": "1.2.0",
      "model_name": "LayoutModel",
      "state": {
       "grid_area": "widget003"
      }
     },
     "6538a314eaf148059d946692e9dda294": {
      "buffers": [
       {
        "data": "AQAAAAIAAAADAAAA",
        "encoding": "base64",
        "path": [
         "x",
         "value"
        ]
       },
       {
        "data": "BAAAAAUAAAAGAAAA",
        "encoding": "base64",
        "path": [
         "y",
         "value"
        ]
       }
      ],
      "model_module": "bqplot",
      "model_module_version": "^0.5.34",
      "model_name": "LinesModel",
      "state": {
       "fill_colors": [],
       "labels": [
        "C1"
       ],
       "scales": {
        "x": "IPY_MODEL_d0b407aba04946429108e21f9bb9253d",
        "y": "IPY_MODEL_84c029a9a4b64bf4b9dde30d8aaa7389"
       },
       "x": {
        "dtype": "int32",
        "shape": [
         3
        ],
        "type": null
       },
       "y": {
        "dtype": "int32",
        "shape": [
         3
        ],
        "type": null
       }
      }
     },
     "65b9d79b6d544171a48daa4fa566d36e": {
      "model_module": "@jupyter-widgets/controls",
      "model_module_version": "1.5.0",
      "model_name": "DescriptionStyleModel",
      "state": {
       "description_width": ""
      }
     },
     "66951720ec654aeb9a0f34404097a3a1": {
      "model_module": "bqplot",
      "model_module_version": "^0.5.34",
      "model_name": "LinearScaleModel",
      "state": {
       "allow_padding": false,
       "max": 1,
       "min": 0,
       "stabilized": false
      }
     },
     "66a18137f4524b9b978d362d1160dba6": {
      "model_module": "bqplot",
      "model_module_version": "^0.5.34",
      "model_name": "AxisModel",
      "state": {
       "scale": "IPY_MODEL_dc43a73101e04d3bb64f4c81b313f819",
       "side": "bottom",
       "tick_values": null
      }
     },
     "67991c6f006d48c28b8a02e02a6b21c6": {
      "model_module": "@jupyter-widgets/base",
      "model_module_version": "1.2.0",
      "model_name": "LayoutModel",
      "state": {}
     },
     "6942602235eb4ac98e9a83ceda8e4df7": {
      "model_module": "bqplot",
      "model_module_version": "^0.5.34",
      "model_name": "AxisModel",
      "state": {
       "orientation": "vertical",
       "scale": "IPY_MODEL_8f5cd98fbedf46e9875fd7e04504aa8d",
       "side": "left",
       "tick_values": null
      }
     },
     "695f19cc9bb840ae9b9b67f6eba9a14a": {
      "model_module": "bqplot",
      "model_module_version": "^0.5.34",
      "model_name": "LinearScaleModel",
      "state": {
       "allow_padding": false,
       "max": 1,
       "min": 0,
       "stabilized": false
      }
     },
     "6a231057386b497d93dd4a16dbbcdcd4": {
      "model_module": "@jupyter-widgets/base",
      "model_module_version": "1.2.0",
      "model_name": "LayoutModel",
      "state": {}
     },
     "6b0295914a864efc96a78538b838454b": {
      "model_module": "bqplot",
      "model_module_version": "^0.5.34",
      "model_name": "LinearScaleModel",
      "state": {
       "allow_padding": false,
       "max": 1,
       "min": 0,
       "stabilized": false
      }
     },
     "6bbe000008624acf84aa35e479b4b5f1": {
      "buffers": [
       {
        "data": "AQAAAAIAAAADAAAA",
        "encoding": "base64",
        "path": [
         "x",
         "value"
        ]
       },
       {
        "data": "BAAAAAUAAAAGAAAA",
        "encoding": "base64",
        "path": [
         "y",
         "value"
        ]
       }
      ],
      "model_module": "bqplot",
      "model_module_version": "^0.5.34",
      "model_name": "LinesModel",
      "state": {
       "fill_colors": [],
       "labels": [
        "C1"
       ],
       "scales": {
        "x": "IPY_MODEL_ab3063abdb134722890cbb37a4823a65",
        "y": "IPY_MODEL_4d0af45d2df143ad9fdfc25ff7ad58b3"
       },
       "x": {
        "dtype": "int32",
        "shape": [
         3
        ],
        "type": null
       },
       "y": {
        "dtype": "int32",
        "shape": [
         3
        ],
        "type": null
       }
      }
     },
     "6be57fcad24b404bb29133ff029c6bfa": {
      "model_module": "@jupyter-widgets/base",
      "model_module_version": "1.2.0",
      "model_name": "LayoutModel",
      "state": {
       "grid_template_areas": "\"widget001 widget001\"\n\"widget002 widget003\"\n\"widget002 widget003\"\n\"widget002 widget003\"\n\"widget002 widget003\"",
       "grid_template_columns": "repeat(2, 1fr)",
       "grid_template_rows": "repeat(5, 1fr)"
      }
     },
     "6c1dcdc145694deca0d5609a6f6f8d94": {
      "model_module": "bqplot",
      "model_module_version": "^0.5.34",
      "model_name": "FigureModel",
      "state": {
       "axes": [
        "IPY_MODEL_3e9dcd0302da40cf981445fec3f00a6d",
        "IPY_MODEL_c0b1b50f270f4e12a630e485bf2971cf"
       ],
       "layout": "IPY_MODEL_67991c6f006d48c28b8a02e02a6b21c6",
       "marks": [
        "IPY_MODEL_7c1cf052583944ae9a0f7388fc071e12"
       ],
       "scale_x": "IPY_MODEL_3919a0ad29814dc697a69a8f33647a4f",
       "scale_y": "IPY_MODEL_2eb8573e83ee4b2cbc21ad52e47cf793"
      }
     },
     "6c5d94bf27bf4e9fb826ee4c6e20b858": {
      "model_module": "@jupyter-widgets/base",
      "model_module_version": "1.2.0",
      "model_name": "LayoutModel",
      "state": {
       "grid_area": "widget001"
      }
     },
     "6ca685713de74ddd8b52cd3ab8df78b2": {
      "model_module": "bqplot",
      "model_module_version": "^0.5.34",
      "model_name": "AxisModel",
      "state": {
       "scale": "IPY_MODEL_5407bf7246b041ed8c10ec2150c439d1",
       "side": "bottom",
       "tick_values": null
      }
     },
     "6f1850669a604fd4b3f2a688dab71f63": {
      "model_module": "bqplot",
      "model_module_version": "^0.5.34",
      "model_name": "LinearScaleModel",
      "state": {
       "stabilized": false
      }
     },
     "6f577cda9a3742b2bd5d8769c9e8053e": {
      "model_module": "@jupyter-widgets/controls",
      "model_module_version": "1.5.0",
      "model_name": "DescriptionStyleModel",
      "state": {
       "description_width": ""
      }
     },
     "700718618a2e4708a2ee22aae61e9057": {
      "model_module": "bqplot",
      "model_module_version": "^0.5.34",
      "model_name": "LinearScaleModel",
      "state": {
       "stabilized": false
      }
     },
     "701c66e1ad304082abc21b2fde52c218": {
      "model_module": "bqplot",
      "model_module_version": "^0.5.34",
      "model_name": "AxisModel",
      "state": {
       "scale": "IPY_MODEL_c4a320c3bdf14429ac6f3d95d4f18d44",
       "side": "bottom",
       "tick_values": null
      }
     },
     "70a6a1f8f7184b639c6d331aa997c528": {
      "model_module": "@jupyter-widgets/base",
      "model_module_version": "1.2.0",
      "model_name": "LayoutModel",
      "state": {
       "grid_area": "widget002"
      }
     },
     "71b919a5416a47c798ddd91607b87dd2": {
      "model_module": "bqplot",
      "model_module_version": "^0.5.34",
      "model_name": "FigureModel",
      "state": {
       "axes": [
        "IPY_MODEL_d71e4bdb3aa94594b1bc764b92743e88",
        "IPY_MODEL_c3b230aa11cc47549adb9f638fb6c491"
       ],
       "layout": "IPY_MODEL_72899936e99646ad91c0a48c6d4f9091",
       "marks": [
        "IPY_MODEL_bedd604f06d74a3499ca4ee91494cfd7"
       ],
       "scale_x": "IPY_MODEL_cd39e8d9e81941179dc67982da9bc911",
       "scale_y": "IPY_MODEL_366c82a89c704884a33a97852642046e"
      }
     },
     "72899936e99646ad91c0a48c6d4f9091": {
      "model_module": "@jupyter-widgets/base",
      "model_module_version": "1.2.0",
      "model_name": "LayoutModel",
      "state": {}
     },
     "74ce9a0c038b4f4db77197824b1f1c04": {
      "model_module": "@jupyter-widgets/base",
      "model_module_version": "1.2.0",
      "model_name": "LayoutModel",
      "state": {
       "grid_template_areas": "\"widget001 widget001\"\n\"widget002 widget003\"\n\"widget002 widget003\"\n\"widget002 widget003\"\n\"widget002 widget003\"\n\"widget002 widget003\"\n\"widget002 widget003\"",
       "grid_template_columns": "repeat(2, 1fr)",
       "grid_template_rows": "repeat(7, 1fr)"
      }
     },
     "7840eed8119c46c0bba564a09c5ecf8e": {
      "buffers": [
       {
        "data": "AQAAAAIAAAADAAAA",
        "encoding": "base64",
        "path": [
         "x",
         "value"
        ]
       },
       {
        "data": "AQAAAAIAAAADAAAA",
        "encoding": "base64",
        "path": [
         "y",
         "value"
        ]
       }
      ],
      "model_module": "bqplot",
      "model_module_version": "^0.5.34",
      "model_name": "LinesModel",
      "state": {
       "fill_colors": [],
       "labels": [
        "C1"
       ],
       "scales": {
        "x": "IPY_MODEL_849551221fb64232b5a08754882f6a4c",
        "y": "IPY_MODEL_24290e0fad994426a2410ab9d574dbb9"
       },
       "x": {
        "dtype": "int32",
        "shape": [
         3
        ],
        "type": null
       },
       "y": {
        "dtype": "int32",
        "shape": [
         3
        ],
        "type": null
       }
      }
     },
     "7854e066776c461ba001973bca7ca79a": {
      "model_module": "@jupyter-widgets/controls",
      "model_module_version": "1.5.0",
      "model_name": "HTMLMathModel",
      "state": {
       "layout": "IPY_MODEL_d764b44401c94e8a997fc4f264bb3e04",
       "style": "IPY_MODEL_bbecdcdb3b96499986fc4a164f16dbf7",
       "value": "\n\t<div style=\"height:100%; min-height:700px; width:100%; min-width:600px\">\n\t\t<div style=\"\n\t\theight: 20%; \n\t\tmin-height: 150px; \n\t\tbackground-color: red; \n\t\twidth: 85%; min-width: 700px; \n\t\tdisplay: flex; \n\t\talign-items: center; \n\t\tpadding:20px\n\t\t\">\n\t\t\t<h1 style=\"color:white; font-size: 40px\">\n\t\t\t\tIntroduction\n\t\t\t</h1>\n\t\t</div>\n\t\t<div \n\t\tstyle=\"display: flex; \n\t\tjustify-content: flex-end; \n\t\talign-items: center; \n\t\theight: 50%;\n\t\tmin-height: 400px; \n\t\tpadding-right: 50px;\n\t\t\">\n\t\t\t<h4 style=\"\n\t\t\tfont-size: 20px;\n\t\t\t\">\n\t\t\t\t<ul>\n        <li>Item 1</li>\n        <li>Item 2</li>\n        <li>Item 3</li>\n    </ul>\n\t\t\t</h4>\n\t\t</div>\n\t</div>\n\t"
      }
     },
     "785e7171dcd044bd9b212df92a80209e": {
      "model_module": "bqplot",
      "model_module_version": "^0.5.34",
      "model_name": "LinearScaleModel",
      "state": {
       "allow_padding": false,
       "max": 1,
       "min": 0,
       "stabilized": false
      }
     },
     "791fff802e6741e4a8bce9375ef0c3e7": {
      "model_module": "bqplot",
      "model_module_version": "^0.5.34",
      "model_name": "AxisModel",
      "state": {
       "scale": "IPY_MODEL_ab3063abdb134722890cbb37a4823a65",
       "side": "bottom",
       "tick_values": null
      }
     },
     "7c1cf052583944ae9a0f7388fc071e12": {
      "buffers": [
       {
        "data": "AQAAAAIAAAADAAAA",
        "encoding": "base64",
        "path": [
         "x",
         "value"
        ]
       },
       {
        "data": "BAAAAAUAAAAGAAAA",
        "encoding": "base64",
        "path": [
         "y",
         "value"
        ]
       }
      ],
      "model_module": "bqplot",
      "model_module_version": "^0.5.34",
      "model_name": "LinesModel",
      "state": {
       "fill_colors": [],
       "labels": [
        "C1"
       ],
       "scales": {
        "x": "IPY_MODEL_e2473ed7e1f24851ae56899e24bc9421",
        "y": "IPY_MODEL_5457d4be86e44f21ab950581991dea48"
       },
       "x": {
        "dtype": "int32",
        "shape": [
         3
        ],
        "type": null
       },
       "y": {
        "dtype": "int32",
        "shape": [
         3
        ],
        "type": null
       }
      }
     },
     "7ce60f381f7a44f08180485617686944": {
      "model_module": "bqplot",
      "model_module_version": "^0.5.34",
      "model_name": "LinearScaleModel",
      "state": {
       "stabilized": false
      }
     },
     "7d61aa332b89447cb911047ad0dd4707": {
      "model_module": "bqplot",
      "model_module_version": "^0.5.34",
      "model_name": "LinearScaleModel",
      "state": {
       "allow_padding": false,
       "max": 1,
       "min": 0,
       "stabilized": false
      }
     },
     "7e0b644998db4d44b3178654d6f02e0a": {
      "model_module": "@jupyter-widgets/controls",
      "model_module_version": "1.5.0",
      "model_name": "DescriptionStyleModel",
      "state": {
       "description_width": ""
      }
     },
     "81229a2324c645248fea80c65d68621c": {
      "model_module": "@jupyter-widgets/controls",
      "model_module_version": "1.5.0",
      "model_name": "GridBoxModel",
      "state": {
       "layout": "IPY_MODEL_24b62263280045259afe1b3e5eb74c0c"
      }
     },
     "8131c14c5e9a40f2a4462a36db00f98f": {
      "model_module": "bqplot",
      "model_module_version": "^0.5.34",
      "model_name": "LinearScaleModel",
      "state": {
       "allow_padding": false,
       "max": 1,
       "min": 0,
       "stabilized": false
      }
     },
     "849551221fb64232b5a08754882f6a4c": {
      "model_module": "bqplot",
      "model_module_version": "^0.5.34",
      "model_name": "LinearScaleModel",
      "state": {
       "stabilized": false
      }
     },
     "84c029a9a4b64bf4b9dde30d8aaa7389": {
      "model_module": "bqplot",
      "model_module_version": "^0.5.34",
      "model_name": "LinearScaleModel",
      "state": {
       "stabilized": false
      }
     },
     "85a9648870d1495495d51a7d854ce0e9": {
      "model_module": "@jupyter-widgets/controls",
      "model_module_version": "1.5.0",
      "model_name": "HTMLMathModel",
      "state": {
       "layout": "IPY_MODEL_cc4dc6c0c57447d88fbd2bc1d8d4f681",
       "style": "IPY_MODEL_a9ac765ebb934374a8dd8b244540c230",
       "value": "<h1>Testing</h1>"
      }
     },
     "85efb1c43ecd4e4293b9ac185d53b27b": {
      "model_module": "bqplot",
      "model_module_version": "^0.5.34",
      "model_name": "LinearScaleModel",
      "state": {
       "allow_padding": false,
       "max": 1,
       "min": 0,
       "stabilized": false
      }
     },
     "867eafb4f1d24303b1ead489df5615c8": {
      "model_module": "bqplot",
      "model_module_version": "^0.5.34",
      "model_name": "AxisModel",
      "state": {
       "scale": "IPY_MODEL_38e1cfe7ab0344f6868a8559788a5c8e",
       "side": "bottom",
       "tick_values": null
      }
     },
     "871ded2e4cf34f9e9864e02c72baa9be": {
      "model_module": "@jupyter-widgets/base",
      "model_module_version": "1.2.0",
      "model_name": "LayoutModel",
      "state": {}
     },
     "87623dcea223495ea0beb635dd0a2dfc": {
      "model_module": "bqplot",
      "model_module_version": "^0.5.34",
      "model_name": "AxisModel",
      "state": {
       "scale": "IPY_MODEL_412b7b13f5ce495daa6d2a44c516fe17",
       "side": "bottom",
       "tick_values": null
      }
     },
     "8958853cf1d64663b0cdf0423c30f816": {
      "model_module": "@jupyter-widgets/controls",
      "model_module_version": "1.5.0",
      "model_name": "GridBoxModel",
      "state": {
       "children": [
        "IPY_MODEL_393f24dd6e6c42efb180ee1fdc34141b",
        "IPY_MODEL_49a69afb80854d4a8cdac672deabf758",
        "IPY_MODEL_c1c16b3b4b7c4637887e7926084e5e0e"
       ],
       "layout": "IPY_MODEL_74ce9a0c038b4f4db77197824b1f1c04"
      }
     },
     "8958a5a56d0b459b81641efa792ffa1d": {
      "model_module": "bqplot",
      "model_module_version": "^0.5.34",
      "model_name": "AxisModel",
      "state": {
       "orientation": "vertical",
       "scale": "IPY_MODEL_84c029a9a4b64bf4b9dde30d8aaa7389",
       "side": "left",
       "tick_values": null
      }
     },
     "8995d05f1a8e4cdbb9d6c142cc2c3ffa": {
      "model_module": "@jupyter-widgets/base",
      "model_module_version": "1.2.0",
      "model_name": "LayoutModel",
      "state": {
       "grid_area": "widget001"
      }
     },
     "8ac731a8c98e49b58014baa8b9a6cbf4": {
      "model_module": "@jupyter-widgets/controls",
      "model_module_version": "1.5.0",
      "model_name": "HTMLMathModel",
      "state": {
       "layout": "IPY_MODEL_6a231057386b497d93dd4a16dbbcdcd4",
       "style": "IPY_MODEL_8b2a92c01cd54b95aa91022d3324e7c8",
       "value": "\n\t<div style=\"height:100%; min-height:700px; width:100%; min-width:600px\">\n\t\t<div style=\"\n\t\theight: 50%; \n\t\tmin-height: 450px; \n\t\tbackground-color: red; \n\t\twidth: 85%; min-width: 700px; \n\t\tdisplay: flex; \n\t\talign-items: center; \n\t\tpadding:20px\n\t\t\">\n\t\t\t<h1 style=\"color:white; font-size: 40px\">\n\t\t\t\tTitle of Your Presentation\n\t\t\t</h1>\n\t\t</div>\n\t\t<div \n\t\tstyle=\"display: flex; \n\t\tjustify-content: flex-end; \n\t\talign-items: center; \n\t\tmin-height: 100px; \n\t\tpadding-right: 50px\n\t\t\">\n\t\t\t<h4 style=\"\n\t\t\tfont-size: 20px;\n\t\t\t\">\n\t\t\t\tYour name, ...\n\t\t\t</h4>\n\t\t</div>\n\t</div>\n\t"
      }
     },
     "8b2a92c01cd54b95aa91022d3324e7c8": {
      "model_module": "@jupyter-widgets/controls",
      "model_module_version": "1.5.0",
      "model_name": "DescriptionStyleModel",
      "state": {
       "description_width": ""
      }
     },
     "8b9b976c86834c6682b8f6e2f75cf1d5": {
      "model_module": "@jupyter-widgets/controls",
      "model_module_version": "1.5.0",
      "model_name": "GridBoxModel",
      "state": {
       "children": [
        "IPY_MODEL_1e042723cd774174a76327a1913dee09",
        "IPY_MODEL_916d47c7c3404a3bbfb113e2c3a8bf67",
        "IPY_MODEL_b263056ea4fa4df399fd36fc7eb75f35"
       ],
       "layout": "IPY_MODEL_51e525eae34f4a0493844f3db0c74590"
      }
     },
     "8cb74f48952c40aaa23f43287ccea325": {
      "model_module": "bqplot",
      "model_module_version": "^0.5.34",
      "model_name": "AxisModel",
      "state": {
       "orientation": "vertical",
       "scale": "IPY_MODEL_959aa889101d4a76a7046a68165bd98d",
       "side": "left",
       "tick_values": null
      }
     },
     "8d30dcd781cb4087b978cad5744e0dd1": {
      "model_module": "@jupyter-widgets/base",
      "model_module_version": "1.2.0",
      "model_name": "LayoutModel",
      "state": {
       "grid_area": "widget002"
      }
     },
     "8d616ff7c1764b468d1ef9153f5daaa5": {
      "model_module": "@jupyter-widgets/base",
      "model_module_version": "1.2.0",
      "model_name": "LayoutModel",
      "state": {
       "grid_area": "widget001"
      }
     },
     "8d6fec78a66042a597ba7a5600a5e014": {
      "model_module": "bqplot",
      "model_module_version": "^0.5.34",
      "model_name": "LinearScaleModel",
      "state": {
       "allow_padding": false,
       "max": 1,
       "min": 0,
       "stabilized": false
      }
     },
     "8d960f548c9d4b55a5df4f5ea37b0cf5": {
      "model_module": "bqplot",
      "model_module_version": "^0.5.34",
      "model_name": "FigureModel",
      "state": {
       "axes": [
        "IPY_MODEL_f21a84fe17924fb1967ea6f6300a589c",
        "IPY_MODEL_27ecc87f04f747f1a950c9c439f3dd94"
       ],
       "layout": "IPY_MODEL_b44b26e2ea7f4d34b4c3bfc05ed5fada",
       "marks": [
        "IPY_MODEL_0ccbd0369e9e44f2bd35e7ea3daff105"
       ],
       "scale_x": "IPY_MODEL_02d885c0058d4b8495efef64006117da",
       "scale_y": "IPY_MODEL_e6abb8e06019418d82537f437760ccf8"
      }
     },
     "8e1fb750833d4bf59e9bd20b3796182e": {
      "model_module": "@jupyter-widgets/base",
      "model_module_version": "1.2.0",
      "model_name": "LayoutModel",
      "state": {}
     },
     "8e44df8b1f834be99b86171961202b3c": {
      "model_module": "bqplot",
      "model_module_version": "^0.5.34",
      "model_name": "AxisModel",
      "state": {
       "orientation": "vertical",
       "scale": "IPY_MODEL_b9434eea035142d8a51bdf0a7709fbd0",
       "side": "left",
       "tick_values": null
      }
     },
     "8eb4ba06ba8840fe875cd1f4d0899e03": {
      "model_module": "@jupyter-widgets/controls",
      "model_module_version": "1.5.0",
      "model_name": "DescriptionStyleModel",
      "state": {
       "description_width": ""
      }
     },
     "8f01149ffaed45048a2146098a13fe75": {
      "model_module": "bqplot",
      "model_module_version": "^0.5.34",
      "model_name": "LinearScaleModel",
      "state": {
       "allow_padding": false,
       "max": 1,
       "min": 0,
       "stabilized": false
      }
     },
     "8f5cd98fbedf46e9875fd7e04504aa8d": {
      "model_module": "bqplot",
      "model_module_version": "^0.5.34",
      "model_name": "LinearScaleModel",
      "state": {
       "stabilized": false
      }
     },
     "901a3e8ffcb74f2e937dd40924b145a6": {
      "model_module": "@jupyter-widgets/base",
      "model_module_version": "1.2.0",
      "model_name": "LayoutModel",
      "state": {
       "grid_area": "widget001"
      }
     },
     "90b0e3b58a444511a8dc1d5c93a10ffc": {
      "buffers": [
       {
        "data": "AQAAAAIAAAADAAAA",
        "encoding": "base64",
        "path": [
         "x",
         "value"
        ]
       },
       {
        "data": "AQAAAAIAAAADAAAA",
        "encoding": "base64",
        "path": [
         "y",
         "value"
        ]
       }
      ],
      "model_module": "bqplot",
      "model_module_version": "^0.5.34",
      "model_name": "LinesModel",
      "state": {
       "fill_colors": [],
       "labels": [
        "C1"
       ],
       "scales": {
        "x": "IPY_MODEL_dc43a73101e04d3bb64f4c81b313f819",
        "y": "IPY_MODEL_959aa889101d4a76a7046a68165bd98d"
       },
       "x": {
        "dtype": "int32",
        "shape": [
         3
        ],
        "type": null
       },
       "y": {
        "dtype": "int32",
        "shape": [
         3
        ],
        "type": null
       }
      }
     },
     "916d47c7c3404a3bbfb113e2c3a8bf67": {
      "model_module": "@jupyter-widgets/controls",
      "model_module_version": "1.5.0",
      "model_name": "HTMLModel",
      "state": {
       "layout": "IPY_MODEL_da276191ee3f494fba77f968f8ec5622",
       "style": "IPY_MODEL_64ece291e1334b6d8c4477573946fd33",
       "value": "Test_1"
      }
     },
     "9250738c94ea4776a925703a92060f1b": {
      "buffers": [
       {
        "data": "AQAAAAIAAAADAAAA",
        "encoding": "base64",
        "path": [
         "x",
         "value"
        ]
       },
       {
        "data": "BAAAAAUAAAAGAAAA",
        "encoding": "base64",
        "path": [
         "y",
         "value"
        ]
       }
      ],
      "model_module": "bqplot",
      "model_module_version": "^0.5.34",
      "model_name": "LinesModel",
      "state": {
       "fill_colors": [],
       "labels": [
        "C1"
       ],
       "scales": {
        "x": "IPY_MODEL_53612c1dc50147529758cfdaba35ef77",
        "y": "IPY_MODEL_5bce2340664846b8bb3f803419f414f9"
       },
       "x": {
        "dtype": "int32",
        "shape": [
         3
        ],
        "type": null
       },
       "y": {
        "dtype": "int32",
        "shape": [
         3
        ],
        "type": null
       }
      }
     },
     "9258c03d3a96493b8d657a539da9e94d": {
      "model_module": "bqplot",
      "model_module_version": "^0.5.34",
      "model_name": "LinearScaleModel",
      "state": {
       "stabilized": false
      }
     },
     "95310556a80f47dc9f5871167cdf794e": {
      "model_module": "bqplot",
      "model_module_version": "^0.5.34",
      "model_name": "AxisModel",
      "state": {
       "scale": "IPY_MODEL_1d983c98607d4b138d466bc08138a84d",
       "side": "bottom",
       "tick_values": null
      }
     },
     "959aa889101d4a76a7046a68165bd98d": {
      "model_module": "bqplot",
      "model_module_version": "^0.5.34",
      "model_name": "LinearScaleModel",
      "state": {
       "stabilized": false
      }
     },
     "966b4ce8239c49f5829f47637d6030ff": {
      "model_module": "bqplot",
      "model_module_version": "^0.5.34",
      "model_name": "LinearScaleModel",
      "state": {
       "allow_padding": false,
       "max": 1,
       "min": 0,
       "stabilized": false
      }
     },
     "96ffaaaefdf5442fbbcc45fa5fadf870": {
      "model_module": "bqplot",
      "model_module_version": "^0.5.34",
      "model_name": "AxisModel",
      "state": {
       "scale": "IPY_MODEL_148d9542803947e0807b976e7b4aec31",
       "side": "bottom",
       "tick_values": null
      }
     },
     "9a5c45f6dbed414ca413fb0307a501cc": {
      "model_module": "@jupyter-widgets/output",
      "model_module_version": "1.0.0",
      "model_name": "OutputModel",
      "state": {
       "layout": "IPY_MODEL_d66450d554ca4712bfc9ba923f4f1c64",
       "outputs": [
        {
         "data": {
          "text/plain": "'# Test'"
         },
         "metadata": {},
         "output_type": "display_data"
        }
       ]
      }
     },
     "9a967578f0e24428838e6b4dd00e56d7": {
      "model_module": "bqplot",
      "model_module_version": "^0.5.34",
      "model_name": "AxisModel",
      "state": {
       "orientation": "vertical",
       "scale": "IPY_MODEL_ef4eeb85aabe4d21a75519d89f2f704e",
       "side": "left",
       "tick_values": null
      }
     },
     "9ae8756c7a284106b952cc5f02606a0b": {
      "model_module": "bqplot",
      "model_module_version": "^0.5.34",
      "model_name": "LinearScaleModel",
      "state": {
       "allow_padding": false,
       "max": 1,
       "min": 0,
       "stabilized": false
      }
     },
     "9ddbd04e45a14245b61bd0191dc15fe4": {
      "model_module": "bqplot",
      "model_module_version": "^0.5.34",
      "model_name": "LinearScaleModel",
      "state": {
       "stabilized": false
      }
     },
     "9ef78fe6738040c0857d29ff89d43d2b": {
      "model_module": "@jupyter-widgets/base",
      "model_module_version": "1.2.0",
      "model_name": "LayoutModel",
      "state": {}
     },
     "9f2b88e95303432a85ca74319dafa400": {
      "model_module": "@jupyter-widgets/controls",
      "model_module_version": "1.5.0",
      "model_name": "GridBoxModel",
      "state": {
       "children": [
        "IPY_MODEL_d77d82c93cfa45179f55d26e14fab9c9",
        "IPY_MODEL_bca9c8ef2e934630b38fcf5de2f60c6c",
        "IPY_MODEL_64b28efec1f24148a0298e88815a36f1"
       ],
       "layout": "IPY_MODEL_6be57fcad24b404bb29133ff029c6bfa"
      }
     },
     "a2211da3c4d74d0bb87b0c09ead16498": {
      "model_module": "@jupyter-widgets/controls",
      "model_module_version": "1.5.0",
      "model_name": "GridBoxModel",
      "state": {
       "children": [
        "IPY_MODEL_ddfb6facc9314f2498597620d49e2fa9",
        "IPY_MODEL_394fffcfb3cf4c8fbf8863075dbc19f2",
        "IPY_MODEL_579c693e83664b34af3395381883356c"
       ],
       "layout": "IPY_MODEL_2f91f9ca34b849c5984c783bd94ce740"
      }
     },
     "a3ccc7fb1ec440ab88cde9ab6465e7f0": {
      "model_module": "@jupyter-widgets/base",
      "model_module_version": "1.2.0",
      "model_name": "LayoutModel",
      "state": {}
     },
     "a6c5a635bd514d7186ac4e2dde11d3b8": {
      "model_module": "bqplot",
      "model_module_version": "^0.5.34",
      "model_name": "LinearScaleModel",
      "state": {
       "allow_padding": false,
       "max": 1,
       "min": 0,
       "stabilized": false
      }
     },
     "a7188e55229941e081b93d96ab44797c": {
      "model_module": "@jupyter-widgets/controls",
      "model_module_version": "1.5.0",
      "model_name": "HTMLMathModel",
      "state": {
       "layout": "IPY_MODEL_f56b4779f7464b88a3348568a8e38cc1",
       "style": "IPY_MODEL_65b9d79b6d544171a48daa4fa566d36e",
       "value": "\n\t<div style=\"height:100%; min-height:700px; width:100%; min-width:600px\">\n\t\t<div style=\"\n\t\theight: 50%; \n\t\tmin-height: 450px; \n\t\tbackground-color: red; \n\t\twidth: 85%; min-width: 700px; \n\t\tdisplay: flex; \n\t\talign-items: center; \n\t\tpadding:20px\n\t\t\">\n\t\t\t<h1 style=\"color:white; font-size: 40px\">\n\t\t\t\tTitle of Your Presentation. A long Title\n\t\t\t</h1>\n\t\t</div>\n\t\t<div \n\t\tstyle=\"display: flex; \n\t\tjustify-content: flex-end; \n\t\talign-items: center; \n\t\tmin-height: 100px; \n\t\tpadding-right: 50px\n\t\t\">\n\t\t\t<h4 style=\"\n\t\t\tfont-size: 20px;\n\t\t\t\">\n\t\t\t\tYour name, ...\n\t\t\t</h4>\n\t\t</div>\n\t</div>\n\t"
      }
     },
     "a77fd6f4bf3648b6917c54208eefe9e7": {
      "model_module": "@jupyter-widgets/controls",
      "model_module_version": "1.5.0",
      "model_name": "HTMLMathModel",
      "state": {
       "layout": "IPY_MODEL_ccdd38a64cc4448eb3bca25720cc5e33",
       "style": "IPY_MODEL_cf5c3a3f3dbd4286aa928c8ae1304c43",
       "value": "test"
      }
     },
     "a78e36c527e44db591e7886bd080ad85": {
      "model_module": "bqplot",
      "model_module_version": "^0.5.34",
      "model_name": "LinearScaleModel",
      "state": {
       "stabilized": false
      }
     },
     "a92c46348af64daa8294c6ce3eeacb02": {
      "model_module": "@jupyter-widgets/base",
      "model_module_version": "1.2.0",
      "model_name": "LayoutModel",
      "state": {}
     },
     "a9ac765ebb934374a8dd8b244540c230": {
      "model_module": "@jupyter-widgets/controls",
      "model_module_version": "1.5.0",
      "model_name": "DescriptionStyleModel",
      "state": {
       "description_width": ""
      }
     },
     "ab07409709f9428d8666e99aefa14dcd": {
      "model_module": "bqplot",
      "model_module_version": "^0.5.34",
      "model_name": "AxisModel",
      "state": {
       "orientation": "vertical",
       "scale": "IPY_MODEL_4ff3be2db0274bc0938d997516a20366",
       "side": "left",
       "tick_values": null
      }
     },
     "ab3063abdb134722890cbb37a4823a65": {
      "model_module": "bqplot",
      "model_module_version": "^0.5.34",
      "model_name": "LinearScaleModel",
      "state": {
       "stabilized": false
      }
     },
     "ad167d73f03b47b6adc67dee590ad999": {
      "model_module": "bqplot",
      "model_module_version": "^0.5.34",
      "model_name": "LinearScaleModel",
      "state": {
       "stabilized": false
      }
     },
     "af7ca28ad1364ca0b48300eb7657a7e3": {
      "model_module": "@jupyter-widgets/controls",
      "model_module_version": "1.5.0",
      "model_name": "DescriptionStyleModel",
      "state": {
       "description_width": ""
      }
     },
     "afdf9943da3d4338ad0e401f1733e4f2": {
      "model_module": "bqplot",
      "model_module_version": "^0.5.34",
      "model_name": "LinearScaleModel",
      "state": {
       "allow_padding": false,
       "max": 1,
       "min": 0,
       "stabilized": false
      }
     },
     "b017461202994e1d9023240d32983aa8": {
      "model_module": "bqplot",
      "model_module_version": "^0.5.34",
      "model_name": "FigureModel",
      "state": {
       "axes": [
        "IPY_MODEL_14ff74519ee540158deb865ffc1d668d",
        "IPY_MODEL_4b14eee2b85546489817d0ef1b6eff16"
       ],
       "layout": "IPY_MODEL_e86238d7a00c46e6a7d992c1885f2ab4",
       "marks": [
        "IPY_MODEL_c6937fa15a5a439e9269bfa4b58a38cf"
       ],
       "scale_x": "IPY_MODEL_50d3abcb6af14c9db849c963beab02cf",
       "scale_y": "IPY_MODEL_6b0295914a864efc96a78538b838454b"
      }
     },
     "b094d6a94f5846df9c7c2eb4291fcd39": {
      "model_module": "@jupyter-widgets/controls",
      "model_module_version": "1.5.0",
      "model_name": "DescriptionStyleModel",
      "state": {
       "description_width": ""
      }
     },
     "b0f7ccddc51b4122af34870105e09834": {
      "model_module": "@jupyter-widgets/base",
      "model_module_version": "1.2.0",
      "model_name": "LayoutModel",
      "state": {}
     },
     "b263056ea4fa4df399fd36fc7eb75f35": {
      "model_module": "bqplot",
      "model_module_version": "^0.5.34",
      "model_name": "FigureModel",
      "state": {
       "axes": [
        "IPY_MODEL_6ca685713de74ddd8b52cd3ab8df78b2",
        "IPY_MODEL_8e44df8b1f834be99b86171961202b3c"
       ],
       "layout": "IPY_MODEL_310c6328b40247c0b8beacbe6ddff314",
       "marks": [
        "IPY_MODEL_47438a7fc17f4426a05cd108425f978e"
       ],
       "scale_x": "IPY_MODEL_0d41770c90d24b74a96b7223e4528725",
       "scale_y": "IPY_MODEL_695f19cc9bb840ae9b9b67f6eba9a14a"
      }
     },
     "b30453ed8a344ee0871a0c1ee3c71758": {
      "model_module": "bqplot",
      "model_module_version": "^0.5.34",
      "model_name": "LinearScaleModel",
      "state": {
       "stabilized": false
      }
     },
     "b42d0fda3a8e4328a7caba7583e554f6": {
      "model_module": "bqplot",
      "model_module_version": "^0.5.34",
      "model_name": "FigureModel",
      "state": {
       "axes": [
        "IPY_MODEL_87623dcea223495ea0beb635dd0a2dfc",
        "IPY_MODEL_5a6ad9b9451641e6b46702707af1289b"
       ],
       "layout": "IPY_MODEL_52e9900936c146c695a9fa8a648a3060",
       "marks": [
        "IPY_MODEL_d237429f87974ab18fd8c46fbdfb7b05"
       ],
       "scale_x": "IPY_MODEL_e0f28632ce5440538253544b03ffae1a",
       "scale_y": "IPY_MODEL_1af27677c7a046cbbb959dd787abf95d"
      }
     },
     "b44b26e2ea7f4d34b4c3bfc05ed5fada": {
      "model_module": "@jupyter-widgets/base",
      "model_module_version": "1.2.0",
      "model_name": "LayoutModel",
      "state": {}
     },
     "b690509824f94e68b9cda0409c55c84c": {
      "model_module": "@jupyter-widgets/base",
      "model_module_version": "1.2.0",
      "model_name": "LayoutModel",
      "state": {
       "grid_area": "widget003"
      }
     },
     "b802954af6a54b5a8d3b8087cb714365": {
      "model_module": "@jupyter-widgets/controls",
      "model_module_version": "1.5.0",
      "model_name": "GridBoxModel",
      "state": {
       "children": [
        "IPY_MODEL_336821779fb3444cbb9c38f936bb10a4",
        "IPY_MODEL_e6ed11eb1f6f405dbc96a74d0cfd2088",
        "IPY_MODEL_c13518c9d24d42d49fa246a8b824110e"
       ],
       "layout": "IPY_MODEL_c46f247f14ed4957997fa4e933ed7d08"
      }
     },
     "b81e6ce8b80f4f0eb4ef38312fba5438": {
      "model_module": "@jupyter-widgets/controls",
      "model_module_version": "1.5.0",
      "model_name": "DescriptionStyleModel",
      "state": {
       "description_width": ""
      }
     },
     "b9434eea035142d8a51bdf0a7709fbd0": {
      "model_module": "bqplot",
      "model_module_version": "^0.5.34",
      "model_name": "LinearScaleModel",
      "state": {
       "stabilized": false
      }
     },
     "b9678cc8d7b04ee99814709ebcf0a80d": {
      "model_module": "bqplot",
      "model_module_version": "^0.5.34",
      "model_name": "FigureModel",
      "state": {
       "axes": [
        "IPY_MODEL_95310556a80f47dc9f5871167cdf794e",
        "IPY_MODEL_61844e896aff430a8229119b40b33ef6"
       ],
       "layout": "IPY_MODEL_b0f7ccddc51b4122af34870105e09834",
       "marks": [
        "IPY_MODEL_3884f701dba1481fba01061bd153b9c7"
       ],
       "scale_x": "IPY_MODEL_ba570b5c86fd456ea37c845365c87c32",
       "scale_y": "IPY_MODEL_5f68f36844234d27acb708afb68ba85d"
      }
     },
     "b9cadf9563064eacb4af5010a2b90544": {
      "model_module": "bqplot",
      "model_module_version": "^0.5.34",
      "model_name": "AxisModel",
      "state": {
       "orientation": "vertical",
       "scale": "IPY_MODEL_24290e0fad994426a2410ab9d574dbb9",
       "side": "left",
       "tick_values": null
      }
     },
     "ba570b5c86fd456ea37c845365c87c32": {
      "model_module": "bqplot",
      "model_module_version": "^0.5.34",
      "model_name": "LinearScaleModel",
      "state": {
       "allow_padding": false,
       "max": 1,
       "min": 0,
       "stabilized": false
      }
     },
     "bb8fefc38a5e4c0fb4a73368a4405ccd": {
      "model_module": "@jupyter-widgets/base",
      "model_module_version": "1.2.0",
      "model_name": "LayoutModel",
      "state": {
       "grid_area": "widget002"
      }
     },
     "bbecdcdb3b96499986fc4a164f16dbf7": {
      "model_module": "@jupyter-widgets/controls",
      "model_module_version": "1.5.0",
      "model_name": "DescriptionStyleModel",
      "state": {
       "description_width": ""
      }
     },
     "bca9c8ef2e934630b38fcf5de2f60c6c": {
      "model_module": "@jupyter-widgets/controls",
      "model_module_version": "1.5.0",
      "model_name": "HTMLModel",
      "state": {
       "layout": "IPY_MODEL_3ea2c23666cf4a88aa6125179b0f37f5",
       "style": "IPY_MODEL_55f9d8b2819340c98e5dcffe98cb05ff",
       "value": "Test_1"
      }
     },
     "bedd604f06d74a3499ca4ee91494cfd7": {
      "buffers": [
       {
        "data": "AQAAAAIAAAADAAAA",
        "encoding": "base64",
        "path": [
         "x",
         "value"
        ]
       },
       {
        "data": "AQAAAAIAAAADAAAA",
        "encoding": "base64",
        "path": [
         "y",
         "value"
        ]
       }
      ],
      "model_module": "bqplot",
      "model_module_version": "^0.5.34",
      "model_name": "LinesModel",
      "state": {
       "fill_colors": [],
       "labels": [
        "C1"
       ],
       "scales": {
        "x": "IPY_MODEL_f863a9fa4d4b4fc087c9d61fd91221e7",
        "y": "IPY_MODEL_50fab576106948f5b0caa9af10f36282"
       },
       "x": {
        "dtype": "int32",
        "shape": [
         3
        ],
        "type": null
       },
       "y": {
        "dtype": "int32",
        "shape": [
         3
        ],
        "type": null
       }
      }
     },
     "bffc1132d0d54f8cb23e48a9dc195859": {
      "model_module": "bqplot",
      "model_module_version": "^0.5.34",
      "model_name": "LinearScaleModel",
      "state": {
       "allow_padding": false,
       "max": 1,
       "min": 0,
       "stabilized": false
      }
     },
     "c0b1b50f270f4e12a630e485bf2971cf": {
      "model_module": "bqplot",
      "model_module_version": "^0.5.34",
      "model_name": "AxisModel",
      "state": {
       "orientation": "vertical",
       "scale": "IPY_MODEL_5457d4be86e44f21ab950581991dea48",
       "side": "left",
       "tick_values": null
      }
     },
     "c13518c9d24d42d49fa246a8b824110e": {
      "model_module": "bqplot",
      "model_module_version": "^0.5.34",
      "model_name": "FigureModel",
      "state": {
       "axes": [
        "IPY_MODEL_791fff802e6741e4a8bce9375ef0c3e7",
        "IPY_MODEL_2f5b291a70554a23909151f9be06de33"
       ],
       "layout": "IPY_MODEL_b690509824f94e68b9cda0409c55c84c",
       "marks": [
        "IPY_MODEL_6bbe000008624acf84aa35e479b4b5f1"
       ],
       "scale_x": "IPY_MODEL_8131c14c5e9a40f2a4462a36db00f98f",
       "scale_y": "IPY_MODEL_50cd18612f8647d1adef3188650b203e"
      }
     },
     "c1c16b3b4b7c4637887e7926084e5e0e": {
      "model_module": "bqplot",
      "model_module_version": "^0.5.34",
      "model_name": "FigureModel",
      "state": {
       "axes": [
        "IPY_MODEL_96ffaaaefdf5442fbbcc45fa5fadf870",
        "IPY_MODEL_c6af4c79554b42e892d062bbef32dafe"
       ],
       "layout": "IPY_MODEL_438721122c004fc6af73ccefa30d51f9",
       "marks": [
        "IPY_MODEL_d5f254c5068f4caaa1ad1f33fecc5383"
       ],
       "scale_x": "IPY_MODEL_bffc1132d0d54f8cb23e48a9dc195859",
       "scale_y": "IPY_MODEL_555644d0fd3b44d5946bd9191fceaec0"
      }
     },
     "c1ee902cd64a4587a97e1a7d5a4ee3cf": {
      "model_module": "@jupyter-widgets/controls",
      "model_module_version": "1.5.0",
      "model_name": "DescriptionStyleModel",
      "state": {
       "description_width": ""
      }
     },
     "c2491de8108d48319c828cd3fc69e216": {
      "model_module": "bqplot",
      "model_module_version": "^0.5.34",
      "model_name": "LinearScaleModel",
      "state": {
       "allow_padding": false,
       "max": 1,
       "min": 0,
       "stabilized": false
      }
     },
     "c3a815bbe3274fd5baa89b9ed0b18b46": {
      "model_module": "@jupyter-widgets/base",
      "model_module_version": "1.2.0",
      "model_name": "LayoutModel",
      "state": {}
     },
     "c3b230aa11cc47549adb9f638fb6c491": {
      "model_module": "bqplot",
      "model_module_version": "^0.5.34",
      "model_name": "AxisModel",
      "state": {
       "orientation": "vertical",
       "scale": "IPY_MODEL_50fab576106948f5b0caa9af10f36282",
       "side": "left",
       "tick_values": null
      }
     },
     "c46f247f14ed4957997fa4e933ed7d08": {
      "model_module": "@jupyter-widgets/base",
      "model_module_version": "1.2.0",
      "model_name": "LayoutModel",
      "state": {
       "grid_template_areas": "\"widget001 widget001\"\n\"widget002 widget003\"\n\"widget002 widget003\"\n\"widget002 widget003\"\n\"widget002 widget003\"\n\"widget002 widget003\"\n\"widget002 widget003\"",
       "grid_template_columns": "repeat(2, 1fr)",
       "grid_template_rows": "repeat(7, 1fr)"
      }
     },
     "c4a320c3bdf14429ac6f3d95d4f18d44": {
      "model_module": "bqplot",
      "model_module_version": "^0.5.34",
      "model_name": "LinearScaleModel",
      "state": {
       "stabilized": false
      }
     },
     "c57adae694c9493ca76c9efc6ff7c61f": {
      "model_module": "@jupyter-widgets/base",
      "model_module_version": "1.2.0",
      "model_name": "LayoutModel",
      "state": {
       "grid_area": "widget001"
      }
     },
     "c5882bee223e4a6488943b6e6c4938f2": {
      "model_module": "@jupyter-widgets/base",
      "model_module_version": "1.2.0",
      "model_name": "LayoutModel",
      "state": {}
     },
     "c6937fa15a5a439e9269bfa4b58a38cf": {
      "buffers": [
       {
        "data": "AQAAAAIAAAADAAAA",
        "encoding": "base64",
        "path": [
         "x",
         "value"
        ]
       },
       {
        "data": "AQAAAAIAAAADAAAA",
        "encoding": "base64",
        "path": [
         "y",
         "value"
        ]
       }
      ],
      "model_module": "bqplot",
      "model_module_version": "^0.5.34",
      "model_name": "LinesModel",
      "state": {
       "fill_colors": [],
       "labels": [
        "C1"
       ],
       "scales": {
        "x": "IPY_MODEL_a78e36c527e44db591e7886bd080ad85",
        "y": "IPY_MODEL_032eae62c8444987aa8aaa2211a752c0"
       },
       "x": {
        "dtype": "int32",
        "shape": [
         3
        ],
        "type": null
       },
       "y": {
        "dtype": "int32",
        "shape": [
         3
        ],
        "type": null
       }
      }
     },
     "c6af4c79554b42e892d062bbef32dafe": {
      "model_module": "bqplot",
      "model_module_version": "^0.5.34",
      "model_name": "AxisModel",
      "state": {
       "orientation": "vertical",
       "scale": "IPY_MODEL_9258c03d3a96493b8d657a539da9e94d",
       "side": "left",
       "tick_values": null
      }
     },
     "c6b3a4271fd14883b676d640609fd5e1": {
      "buffers": [
       {
        "data": "AQAAAAIAAAADAAAA",
        "encoding": "base64",
        "path": [
         "x",
         "value"
        ]
       },
       {
        "data": "AQAAAAIAAAADAAAA",
        "encoding": "base64",
        "path": [
         "y",
         "value"
        ]
       }
      ],
      "model_module": "bqplot",
      "model_module_version": "^0.5.34",
      "model_name": "LinesModel",
      "state": {
       "fill_colors": [],
       "labels": [
        "C1"
       ],
       "scales": {
        "x": "IPY_MODEL_49347af86c7e4e4fa539135e04d38805",
        "y": "IPY_MODEL_ef4eeb85aabe4d21a75519d89f2f704e"
       },
       "x": {
        "dtype": "int32",
        "shape": [
         3
        ],
        "type": null
       },
       "y": {
        "dtype": "int32",
        "shape": [
         3
        ],
        "type": null
       }
      }
     },
     "c80c65e7f1bb41478ccd6c3dc624192d": {
      "model_module": "@jupyter-widgets/controls",
      "model_module_version": "1.5.0",
      "model_name": "HTMLMathModel",
      "state": {
       "layout": "IPY_MODEL_2b847571497845718f19397ad203a358",
       "style": "IPY_MODEL_ee719995dfe448b49c0f959105385922",
       "value": "\n\t<div style=\"height:100%; min-height:700px; width:100%; min-width:600px\">\n\t\t<div style=\"\n\t\theight: 50%; \n\t\tmin-height: 450px; \n\t\tbackground-color: red; \n\t\twidth: 85%; min-width: 700px; \n\t\tdisplay: flex; \n\t\talign-items: center; \n\t\tpadding:20px\n\t\t\">\n\t\t\t<h1 style=\"color:white; font-size: 40px\">\n\t\t\t\tTitle of Your Presentation. A long, very long Title\n\t\t\t</h1>\n\t\t</div>\n\t\t<div \n\t\tstyle=\"display: flex; \n\t\tjustify-content: flex-end; \n\t\talign-items: center; \n\t\tmin-height: 100px; \n\t\tpadding-right: 50px\n\t\t\">\n\t\t\t<h4 style=\"\n\t\t\tfont-size: 20px;\n\t\t\t\">\n\t\t\t\tYour name, ...\n\t\t\t</h4>\n\t\t</div>\n\t</div>\n\t"
      }
     },
     "ca444627d8084e65bd8ca56d1f588e2c": {
      "model_module": "bqplot",
      "model_module_version": "^0.5.34",
      "model_name": "AxisModel",
      "state": {
       "scale": "IPY_MODEL_d2b8619b1461474ca5d6be32440fb1ef",
       "side": "bottom",
       "tick_values": null
      }
     },
     "cad6bc9b111e4188a0186776e3c3a87a": {
      "model_module": "@jupyter-widgets/base",
      "model_module_version": "1.2.0",
      "model_name": "LayoutModel",
      "state": {}
     },
     "cad6bf174aac4fabae82cc1b8d888d81": {
      "model_module": "@jupyter-widgets/base",
      "model_module_version": "1.2.0",
      "model_name": "LayoutModel",
      "state": {}
     },
     "cbd61ab08cb14f748d2c8a06b83c32e4": {
      "model_module": "bqplot",
      "model_module_version": "^0.5.34",
      "model_name": "AxisModel",
      "state": {
       "orientation": "vertical",
       "scale": "IPY_MODEL_4b440826adb3408d9a99581e0382a896",
       "side": "left",
       "tick_values": null
      }
     },
     "cc4dc6c0c57447d88fbd2bc1d8d4f681": {
      "model_module": "@jupyter-widgets/base",
      "model_module_version": "1.2.0",
      "model_name": "LayoutModel",
      "state": {
       "grid_area": "widget001"
      }
     },
     "ccb5068807e84807bd4e416fa2ca0b09": {
      "model_module": "bqplot",
      "model_module_version": "^0.5.34",
      "model_name": "LinearScaleModel",
      "state": {
       "allow_padding": false,
       "max": 1,
       "min": 0,
       "stabilized": false
      }
     },
     "ccdd38a64cc4448eb3bca25720cc5e33": {
      "model_module": "@jupyter-widgets/base",
      "model_module_version": "1.2.0",
      "model_name": "LayoutModel",
      "state": {}
     },
     "cd39e8d9e81941179dc67982da9bc911": {
      "model_module": "bqplot",
      "model_module_version": "^0.5.34",
      "model_name": "LinearScaleModel",
      "state": {
       "allow_padding": false,
       "max": 1,
       "min": 0,
       "stabilized": false
      }
     },
     "cda01e30035f4f77a5178bfae01bb678": {
      "model_module": "bqplot",
      "model_module_version": "^0.5.34",
      "model_name": "LinearScaleModel",
      "state": {
       "stabilized": false
      }
     },
     "cf5c3a3f3dbd4286aa928c8ae1304c43": {
      "model_module": "@jupyter-widgets/controls",
      "model_module_version": "1.5.0",
      "model_name": "DescriptionStyleModel",
      "state": {
       "description_width": ""
      }
     },
     "cfac8d5b710f454da3c7e94289767cd0": {
      "buffers": [
       {
        "data": "AQAAAAIAAAADAAAA",
        "encoding": "base64",
        "path": [
         "x",
         "value"
        ]
       },
       {
        "data": "BAAAAAUAAAAGAAAA",
        "encoding": "base64",
        "path": [
         "y",
         "value"
        ]
       }
      ],
      "model_module": "bqplot",
      "model_module_version": "^0.5.34",
      "model_name": "LinesModel",
      "state": {
       "fill_colors": [],
       "labels": [
        "C1"
       ],
       "scales": {
        "x": "IPY_MODEL_38e1cfe7ab0344f6868a8559788a5c8e",
        "y": "IPY_MODEL_4ff3be2db0274bc0938d997516a20366"
       },
       "x": {
        "dtype": "int32",
        "shape": [
         3
        ],
        "type": null
       },
       "y": {
        "dtype": "int32",
        "shape": [
         3
        ],
        "type": null
       }
      }
     },
     "cfb64795211940c29a5802140e1c4fec": {
      "model_module": "@jupyter-widgets/controls",
      "model_module_version": "1.5.0",
      "model_name": "HTMLMathModel",
      "state": {
       "layout": "IPY_MODEL_61ce481c94464d398940465db0936c55",
       "style": "IPY_MODEL_45788955fe0c4b859455fb3ba0f3f832",
       "value": "\n\t<div style=\"height:100%; min-height:700px; width:100%; min-width:600px\">\n\t\t<div style=\"\n\t\theight: 50%; \n\t\tmin-height: 450px; \n\t\tbackground-color: red; \n\t\twidth: 85%; min-width: 700px; \n\t\tdisplay: flex; \n\t\talign-items: center; \n\t\tpadding:20px\n\t\t\">\n\t\t\t<h1 style=\"color:white; font-size: 40px\">\n\t\t\t\tTitle of Your Presentation. <br>A long Title\n\t\t\t</h1>\n\t\t</div>\n\t\t<div \n\t\tstyle=\"display: flex; \n\t\tjustify-content: flex-end; \n\t\talign-items: center; \n\t\tmin-height: 100px; \n\t\tpadding-right: 50px\n\t\t\">\n\t\t\t<h4 style=\"\n\t\t\tfont-size: 20px;\n\t\t\t\">\n\t\t\t\tYour name, ...\n\t\t\t</h4>\n\t\t</div>\n\t</div>\n\t"
      }
     },
     "d0b407aba04946429108e21f9bb9253d": {
      "model_module": "bqplot",
      "model_module_version": "^0.5.34",
      "model_name": "LinearScaleModel",
      "state": {
       "stabilized": false
      }
     },
     "d237429f87974ab18fd8c46fbdfb7b05": {
      "buffers": [
       {
        "data": "AQAAAAIAAAADAAAA",
        "encoding": "base64",
        "path": [
         "x",
         "value"
        ]
       },
       {
        "data": "BAAAAAUAAAAGAAAA",
        "encoding": "base64",
        "path": [
         "y",
         "value"
        ]
       }
      ],
      "model_module": "bqplot",
      "model_module_version": "^0.5.34",
      "model_name": "LinesModel",
      "state": {
       "fill_colors": [],
       "labels": [
        "C1"
       ],
       "scales": {
        "x": "IPY_MODEL_412b7b13f5ce495daa6d2a44c516fe17",
        "y": "IPY_MODEL_6f1850669a604fd4b3f2a688dab71f63"
       },
       "x": {
        "dtype": "int32",
        "shape": [
         3
        ],
        "type": null
       },
       "y": {
        "dtype": "int32",
        "shape": [
         3
        ],
        "type": null
       }
      }
     },
     "d2b8619b1461474ca5d6be32440fb1ef": {
      "model_module": "bqplot",
      "model_module_version": "^0.5.34",
      "model_name": "LinearScaleModel",
      "state": {
       "stabilized": false
      }
     },
     "d2c0d9b278b543e389feb190b2da82ea": {
      "model_module": "bqplot",
      "model_module_version": "^0.5.34",
      "model_name": "FigureModel",
      "state": {
       "axes": [
        "IPY_MODEL_36f1128363244b3094260d6e4b63ef8c",
        "IPY_MODEL_9a967578f0e24428838e6b4dd00e56d7"
       ],
       "layout": "IPY_MODEL_a92c46348af64daa8294c6ce3eeacb02",
       "marks": [
        "IPY_MODEL_c6b3a4271fd14883b676d640609fd5e1"
       ],
       "scale_x": "IPY_MODEL_55096ea6050b47e4a240e25fcc5758a6",
       "scale_y": "IPY_MODEL_1b23f8d94dac4436a7d99144aa3ee1d5"
      }
     },
     "d3b9512d298447e495e4b941076026c7": {
      "model_module": "@jupyter-widgets/controls",
      "model_module_version": "1.5.0",
      "model_name": "GridBoxModel",
      "state": {
       "children": [
        "IPY_MODEL_85a9648870d1495495d51a7d854ce0e9",
        "IPY_MODEL_0b112e8e27ec4d1ead51842fb0ad6200",
        "IPY_MODEL_2d2f4d9782604edfb2c7f1850a7c9f7f"
       ],
       "layout": "IPY_MODEL_55ccb4e2de8c46719552b8ec2fe5dfba"
      }
     },
     "d502937a336d4654aa5f066a4e0a277f": {
      "model_module": "bqplot",
      "model_module_version": "^0.5.34",
      "model_name": "FigureModel",
      "state": {
       "axes": [
        "IPY_MODEL_dc51379784774fa49a1088ff55ba313e",
        "IPY_MODEL_e3aed09011af496e997dbaccbd7189d0"
       ],
       "layout": "IPY_MODEL_da67e4be208d4384aad5cca8c22e88fa",
       "marks": [
        "IPY_MODEL_132b519351eb4d26bbe7408be8067496"
       ],
       "scale_x": "IPY_MODEL_33e355912ef94c7fadaab7b1a2d871e8",
       "scale_y": "IPY_MODEL_1ad5c7ec5b264e77adcd6b53c0e4a69c"
      }
     },
     "d5f254c5068f4caaa1ad1f33fecc5383": {
      "buffers": [
       {
        "data": "AQAAAAIAAAADAAAA",
        "encoding": "base64",
        "path": [
         "x",
         "value"
        ]
       },
       {
        "data": "BAAAAAUAAAAGAAAA",
        "encoding": "base64",
        "path": [
         "y",
         "value"
        ]
       }
      ],
      "model_module": "bqplot",
      "model_module_version": "^0.5.34",
      "model_name": "LinesModel",
      "state": {
       "fill_colors": [],
       "labels": [
        "C1"
       ],
       "scales": {
        "x": "IPY_MODEL_148d9542803947e0807b976e7b4aec31",
        "y": "IPY_MODEL_9258c03d3a96493b8d657a539da9e94d"
       },
       "x": {
        "dtype": "int32",
        "shape": [
         3
        ],
        "type": null
       },
       "y": {
        "dtype": "int32",
        "shape": [
         3
        ],
        "type": null
       }
      }
     },
     "d66450d554ca4712bfc9ba923f4f1c64": {
      "model_module": "@jupyter-widgets/base",
      "model_module_version": "1.2.0",
      "model_name": "LayoutModel",
      "state": {}
     },
     "d6a95753bfc940c3b5a0d689860215e1": {
      "model_module": "@jupyter-widgets/base",
      "model_module_version": "1.2.0",
      "model_name": "LayoutModel",
      "state": {
       "grid_area": "widget001"
      }
     },
     "d71e4bdb3aa94594b1bc764b92743e88": {
      "model_module": "bqplot",
      "model_module_version": "^0.5.34",
      "model_name": "AxisModel",
      "state": {
       "scale": "IPY_MODEL_f863a9fa4d4b4fc087c9d61fd91221e7",
       "side": "bottom",
       "tick_values": null
      }
     },
     "d764b44401c94e8a997fc4f264bb3e04": {
      "model_module": "@jupyter-widgets/base",
      "model_module_version": "1.2.0",
      "model_name": "LayoutModel",
      "state": {}
     },
     "d7756556e2704d3aadd087d0f94f873e": {
      "model_module": "@jupyter-widgets/controls",
      "model_module_version": "1.5.0",
      "model_name": "DescriptionStyleModel",
      "state": {
       "description_width": ""
      }
     },
     "d77d82c93cfa45179f55d26e14fab9c9": {
      "model_module": "@jupyter-widgets/controls",
      "model_module_version": "1.5.0",
      "model_name": "HTMLModel",
      "state": {
       "layout": "IPY_MODEL_8d616ff7c1764b468d1ef9153f5daaa5",
       "style": "IPY_MODEL_d7756556e2704d3aadd087d0f94f873e",
       "value": "<h2>Testing</h2>"
      }
     },
     "d7905facef564f58b64885ff9c0d3d75": {
      "buffers": [
       {
        "data": "AQAAAAIAAAADAAAA",
        "encoding": "base64",
        "path": [
         "x",
         "value"
        ]
       },
       {
        "data": "AQAAAAIAAAADAAAA",
        "encoding": "base64",
        "path": [
         "y",
         "value"
        ]
       }
      ],
      "model_module": "bqplot",
      "model_module_version": "^0.5.34",
      "model_name": "LinesModel",
      "state": {
       "fill_colors": [],
       "labels": [
        "C1"
       ],
       "scales": {
        "x": "IPY_MODEL_9ddbd04e45a14245b61bd0191dc15fe4",
        "y": "IPY_MODEL_05855cd909e644b488ecc65ed6902a88"
       },
       "x": {
        "dtype": "int32",
        "shape": [
         3
        ],
        "type": null
       },
       "y": {
        "dtype": "int32",
        "shape": [
         3
        ],
        "type": null
       }
      }
     },
     "d7b46bba76794dd8be8b76a7be9464b5": {
      "model_module": "@jupyter-widgets/controls",
      "model_module_version": "1.5.0",
      "model_name": "DescriptionStyleModel",
      "state": {
       "description_width": ""
      }
     },
     "d895bb2cee034d6985450f0f2d89bd95": {
      "model_module": "bqplot",
      "model_module_version": "^0.5.34",
      "model_name": "FigureModel",
      "state": {
       "axes": [
        "IPY_MODEL_701c66e1ad304082abc21b2fde52c218",
        "IPY_MODEL_6942602235eb4ac98e9a83ceda8e4df7"
       ],
       "layout": "IPY_MODEL_c3a815bbe3274fd5baa89b9ed0b18b46",
       "marks": [
        "IPY_MODEL_4ce82da0433d4f63a8aa88c506a0d5f0"
       ],
       "scale_x": "IPY_MODEL_c2491de8108d48319c828cd3fc69e216",
       "scale_y": "IPY_MODEL_f2d3ce8dac464cefad80680256ce37c1"
      }
     },
     "d980bfb15d2546c19d64861c305afc48": {
      "model_module": "bqplot",
      "model_module_version": "^0.5.34",
      "model_name": "LinearScaleModel",
      "state": {
       "allow_padding": false,
       "max": 1,
       "min": 0,
       "stabilized": false
      }
     },
     "da276191ee3f494fba77f968f8ec5622": {
      "model_module": "@jupyter-widgets/base",
      "model_module_version": "1.2.0",
      "model_name": "LayoutModel",
      "state": {
       "grid_area": "widget002"
      }
     },
     "da67e4be208d4384aad5cca8c22e88fa": {
      "model_module": "@jupyter-widgets/base",
      "model_module_version": "1.2.0",
      "model_name": "LayoutModel",
      "state": {}
     },
     "db8c16847bc842e482f3d7b178ceea69": {
      "model_module": "@jupyter-widgets/controls",
      "model_module_version": "1.5.0",
      "model_name": "HTMLMathModel",
      "state": {
       "layout": "IPY_MODEL_0a8fcb291ca74bc5b039f5d26c81cdfe",
       "style": "IPY_MODEL_4530e11e082f45278b3eb66fdd14a505",
       "value": "\n\t<div style=\"height:100%; min-height:700px; width:100%; min-width:600px\">\n\t\t<div style=\"\n\t\theight: 50%; \n\t\tmin-height: 450px; \n\t\tbackground-color: red; \n\t\twidth: 85%; min-width: 700px; \n\t\tdisplay: flex; \n\t\talign-items: center; \n\t\tpadding:20px\n\t\t\">\n\t\t\t<h1 style=\"color:white; font-size: 40px\">\n\t\t\t\tTitle of Your Presentation. <br>A long, very long Title\n\t\t\t</h1>\n\t\t</div>\n\t\t<div \n\t\tstyle=\"display: flex; \n\t\tjustify-content: flex-end; \n\t\talign-items: center; \n\t\tmin-height: 100px; \n\t\tpadding-right: 50px\n\t\t\">\n\t\t\t<h4 style=\"\n\t\t\tfont-size: 20px;\n\t\t\t\">\n\t\t\t\tYour name, ...\n\t\t\t</h4>\n\t\t</div>\n\t</div>\n\t"
      }
     },
     "dc43a73101e04d3bb64f4c81b313f819": {
      "model_module": "bqplot",
      "model_module_version": "^0.5.34",
      "model_name": "LinearScaleModel",
      "state": {
       "stabilized": false
      }
     },
     "dc51379784774fa49a1088ff55ba313e": {
      "model_module": "bqplot",
      "model_module_version": "^0.5.34",
      "model_name": "AxisModel",
      "state": {
       "scale": "IPY_MODEL_2b650c4aa4c94a21b0f9a9f4196cf0fd",
       "side": "bottom",
       "tick_values": null
      }
     },
     "dceb82869dff45e282909e53a54ab716": {
      "model_module": "bqplot",
      "model_module_version": "^0.5.34",
      "model_name": "AxisModel",
      "state": {
       "scale": "IPY_MODEL_849551221fb64232b5a08754882f6a4c",
       "side": "bottom",
       "tick_values": null
      }
     },
     "ddfb6facc9314f2498597620d49e2fa9": {
      "model_module": "@jupyter-widgets/controls",
      "model_module_version": "1.5.0",
      "model_name": "HTMLModel",
      "state": {
       "layout": "IPY_MODEL_8995d05f1a8e4cdbb9d6c142cc2c3ffa",
       "style": "IPY_MODEL_af7ca28ad1364ca0b48300eb7657a7e3",
       "value": "<h1>Testing</h1>"
      }
     },
     "e093bd8c77094d9d88949db0dfb30677": {
      "model_module": "bqplot",
      "model_module_version": "^0.5.34",
      "model_name": "AxisModel",
      "state": {
       "scale": "IPY_MODEL_53612c1dc50147529758cfdaba35ef77",
       "side": "bottom",
       "tick_values": null
      }
     },
     "e0f28632ce5440538253544b03ffae1a": {
      "model_module": "bqplot",
      "model_module_version": "^0.5.34",
      "model_name": "LinearScaleModel",
      "state": {
       "allow_padding": false,
       "max": 1,
       "min": 0,
       "stabilized": false
      }
     },
     "e1635ba7426d4a669a900a9348e9108d": {
      "model_module": "bqplot",
      "model_module_version": "^0.5.34",
      "model_name": "LinearScaleModel",
      "state": {
       "allow_padding": false,
       "max": 1,
       "min": 0,
       "stabilized": false
      }
     },
     "e1fd7be546a4462bbcabc681ee4858c6": {
      "model_module": "bqplot",
      "model_module_version": "^0.5.34",
      "model_name": "LinearScaleModel",
      "state": {
       "allow_padding": false,
       "max": 1,
       "min": 0,
       "stabilized": false
      }
     },
     "e2473ed7e1f24851ae56899e24bc9421": {
      "model_module": "bqplot",
      "model_module_version": "^0.5.34",
      "model_name": "LinearScaleModel",
      "state": {
       "stabilized": false
      }
     },
     "e26b21989e964e6caf9f1856697a7644": {
      "model_module": "@jupyter-widgets/base",
      "model_module_version": "1.2.0",
      "model_name": "LayoutModel",
      "state": {}
     },
     "e3aed09011af496e997dbaccbd7189d0": {
      "model_module": "bqplot",
      "model_module_version": "^0.5.34",
      "model_name": "AxisModel",
      "state": {
       "orientation": "vertical",
       "scale": "IPY_MODEL_219c9931402d4f52bbac19c3a91d4935",
       "side": "left",
       "tick_values": null
      }
     },
     "e42572b419e44804b86de09c0656efec": {
      "buffers": [
       {
        "data": "AQAAAAIAAAADAAAA",
        "encoding": "base64",
        "path": [
         "x",
         "value"
        ]
       },
       {
        "data": "BAAAAAUAAAAGAAAA",
        "encoding": "base64",
        "path": [
         "y",
         "value"
        ]
       }
      ],
      "model_module": "bqplot",
      "model_module_version": "^0.5.34",
      "model_name": "LinesModel",
      "state": {
       "fill_colors": [],
       "labels": [
        "C1"
       ],
       "scales": {
        "x": "IPY_MODEL_d2b8619b1461474ca5d6be32440fb1ef",
        "y": "IPY_MODEL_700718618a2e4708a2ee22aae61e9057"
       },
       "x": {
        "dtype": "int32",
        "shape": [
         3
        ],
        "type": null
       },
       "y": {
        "dtype": "int32",
        "shape": [
         3
        ],
        "type": null
       }
      }
     },
     "e6abb8e06019418d82537f437760ccf8": {
      "model_module": "bqplot",
      "model_module_version": "^0.5.34",
      "model_name": "LinearScaleModel",
      "state": {
       "allow_padding": false,
       "max": 1,
       "min": 0,
       "stabilized": false
      }
     },
     "e6ed11eb1f6f405dbc96a74d0cfd2088": {
      "model_module": "@jupyter-widgets/controls",
      "model_module_version": "1.5.0",
      "model_name": "HTMLMathModel",
      "state": {
       "layout": "IPY_MODEL_70a6a1f8f7184b639c6d331aa997c528",
       "style": "IPY_MODEL_62aa5d6cbe6f413b882e3253aae63f35",
       "value": "Test_1"
      }
     },
     "e7a82e23b956436292b90b9f4629815a": {
      "model_module": "bqplot",
      "model_module_version": "^0.5.34",
      "model_name": "AxisModel",
      "state": {
       "orientation": "vertical",
       "scale": "IPY_MODEL_700718618a2e4708a2ee22aae61e9057",
       "side": "left",
       "tick_values": null
      }
     },
     "e86238d7a00c46e6a7d992c1885f2ab4": {
      "model_module": "@jupyter-widgets/base",
      "model_module_version": "1.2.0",
      "model_name": "LayoutModel",
      "state": {}
     },
     "eafb7f76e9234a9e8bc5e64ca3b79058": {
      "model_module": "@jupyter-widgets/controls",
      "model_module_version": "1.5.0",
      "model_name": "HTMLModel",
      "state": {
       "layout": "IPY_MODEL_2941d956c2d54939be21186c3989f6f6",
       "style": "IPY_MODEL_4c9f8bf6b17b40c58ac2d6a557b811be",
       "value": "<h1>Testing</h1>"
      }
     },
     "ebde13944d9e48be83de565422e66c45": {
      "model_module": "bqplot",
      "model_module_version": "^0.5.34",
      "model_name": "FigureModel",
      "state": {
       "axes": [
        "IPY_MODEL_dceb82869dff45e282909e53a54ab716",
        "IPY_MODEL_b9cadf9563064eacb4af5010a2b90544"
       ],
       "layout": "IPY_MODEL_cad6bf174aac4fabae82cc1b8d888d81",
       "marks": [
        "IPY_MODEL_7840eed8119c46c0bba564a09c5ecf8e"
       ],
       "scale_x": "IPY_MODEL_2f195ef84d6a4ee69729e9cc12e0ce13",
       "scale_y": "IPY_MODEL_e1635ba7426d4a669a900a9348e9108d"
      }
     },
     "ed21c76bf6e04b62891b5f69464e24cf": {
      "model_module": "@jupyter-widgets/output",
      "model_module_version": "1.0.0",
      "model_name": "OutputModel",
      "state": {
       "layout": "IPY_MODEL_871ded2e4cf34f9e9864e02c72baa9be"
      }
     },
     "ed6cbcba6cb04817ac35248b98570b2f": {
      "model_module": "@jupyter-widgets/base",
      "model_module_version": "1.2.0",
      "model_name": "LayoutModel",
      "state": {
       "grid_area": "widget002"
      }
     },
     "ede341a3b23d42cbbfec501f57fea788": {
      "model_module": "bqplot",
      "model_module_version": "^0.5.34",
      "model_name": "AxisModel",
      "state": {
       "orientation": "vertical",
       "scale": "IPY_MODEL_5bce2340664846b8bb3f803419f414f9",
       "side": "left",
       "tick_values": null
      }
     },
     "ee079ba625b644069ee930d3a694ef06": {
      "model_module": "@jupyter-widgets/controls",
      "model_module_version": "1.5.0",
      "model_name": "GridBoxModel",
      "state": {
       "children": [
        "IPY_MODEL_eafb7f76e9234a9e8bc5e64ca3b79058",
        "IPY_MODEL_63df97f2032e4b2ab6f656b21d1d7c1a",
        "IPY_MODEL_197997595ac24c43bf26a2c691a8bce9"
       ],
       "layout": "IPY_MODEL_42248a3a5ed444cc9393e67e95c76956"
      }
     },
     "ee719995dfe448b49c0f959105385922": {
      "model_module": "@jupyter-widgets/controls",
      "model_module_version": "1.5.0",
      "model_name": "DescriptionStyleModel",
      "state": {
       "description_width": ""
      }
     },
     "ef4eeb85aabe4d21a75519d89f2f704e": {
      "model_module": "bqplot",
      "model_module_version": "^0.5.34",
      "model_name": "LinearScaleModel",
      "state": {
       "stabilized": false
      }
     },
     "efd57cd115274b37b49174133fca07fc": {
      "model_module": "@jupyter-widgets/base",
      "model_module_version": "1.2.0",
      "model_name": "LayoutModel",
      "state": {}
     },
     "f21a84fe17924fb1967ea6f6300a589c": {
      "model_module": "bqplot",
      "model_module_version": "^0.5.34",
      "model_name": "AxisModel",
      "state": {
       "scale": "IPY_MODEL_57ede13ad5174135a4901df42b2910a1",
       "side": "bottom",
       "tick_values": null
      }
     },
     "f2d3ce8dac464cefad80680256ce37c1": {
      "model_module": "bqplot",
      "model_module_version": "^0.5.34",
      "model_name": "LinearScaleModel",
      "state": {
       "allow_padding": false,
       "max": 1,
       "min": 0,
       "stabilized": false
      }
     },
     "f33ff63501074ddfa51a749f77a0a5d8": {
      "buffers": [
       {
        "data": "AQAAAAIAAAADAAAA",
        "encoding": "base64",
        "path": [
         "x",
         "value"
        ]
       },
       {
        "data": "BAAAAAUAAAAGAAAA",
        "encoding": "base64",
        "path": [
         "y",
         "value"
        ]
       }
      ],
      "model_module": "bqplot",
      "model_module_version": "^0.5.34",
      "model_name": "LinesModel",
      "state": {
       "fill_colors": [],
       "labels": [
        "C1"
       ],
       "scales": {
        "x": "IPY_MODEL_7ce60f381f7a44f08180485617686944",
        "y": "IPY_MODEL_cda01e30035f4f77a5178bfae01bb678"
       },
       "x": {
        "dtype": "int32",
        "shape": [
         3
        ],
        "type": null
       },
       "y": {
        "dtype": "int32",
        "shape": [
         3
        ],
        "type": null
       }
      }
     },
     "f56b4779f7464b88a3348568a8e38cc1": {
      "model_module": "@jupyter-widgets/base",
      "model_module_version": "1.2.0",
      "model_name": "LayoutModel",
      "state": {}
     },
     "f81844104514459a96bcd2e3e8553e5b": {
      "buffers": [
       {
        "data": "AQAAAAIAAAADAAAA",
        "encoding": "base64",
        "path": [
         "x",
         "value"
        ]
       },
       {
        "data": "BAAAAAUAAAAGAAAA",
        "encoding": "base64",
        "path": [
         "y",
         "value"
        ]
       }
      ],
      "model_module": "bqplot",
      "model_module_version": "^0.5.34",
      "model_name": "LinesModel",
      "state": {
       "fill_colors": [],
       "labels": [
        "C1"
       ],
       "scales": {
        "x": "IPY_MODEL_b30453ed8a344ee0871a0c1ee3c71758",
        "y": "IPY_MODEL_ad167d73f03b47b6adc67dee590ad999"
       },
       "x": {
        "dtype": "int32",
        "shape": [
         3
        ],
        "type": null
       },
       "y": {
        "dtype": "int32",
        "shape": [
         3
        ],
        "type": null
       }
      }
     },
     "f863a9fa4d4b4fc087c9d61fd91221e7": {
      "model_module": "bqplot",
      "model_module_version": "^0.5.34",
      "model_name": "LinearScaleModel",
      "state": {
       "stabilized": false
      }
     },
     "f9406cc89ade4f22833dabd414671b37": {
      "model_module": "@jupyter-widgets/controls",
      "model_module_version": "1.5.0",
      "model_name": "GridBoxModel",
      "state": {
       "children": [
        "IPY_MODEL_054817d2ddcb41e8abd9f20b5a4eae94"
       ],
       "layout": "IPY_MODEL_5f9d2cf6956742d08a95fb4c8fc3d677"
      }
     },
     "faa4037534124265b9e7a715accaa6a5": {
      "model_module": "@jupyter-widgets/controls",
      "model_module_version": "1.5.0",
      "model_name": "DescriptionStyleModel",
      "state": {
       "description_width": ""
      }
     },
     "fbeca3f23aa8474da6597f13f39ca13f": {
      "model_module": "bqplot",
      "model_module_version": "^0.5.34",
      "model_name": "AxisModel",
      "state": {
       "orientation": "vertical",
       "scale": "IPY_MODEL_05855cd909e644b488ecc65ed6902a88",
       "side": "left",
       "tick_values": null
      }
     }
    },
    "version_major": 2,
    "version_minor": 0
   }
  }
 },
 "nbformat": 4,
 "nbformat_minor": 5
}

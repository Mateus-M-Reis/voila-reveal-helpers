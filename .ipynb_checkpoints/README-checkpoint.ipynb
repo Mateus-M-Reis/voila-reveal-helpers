{
 "cells": [
  {
   "cell_type": "markdown",
   "id": "14065244-d355-4665-b39b-662178cf095e",
   "metadata": {},
   "source": [
    "# Voila Presentation Templates\n",
    "\n",
    "These are utility tools to style your cells to be rendered with [voila]() using the reveal template.  \n",
    "See it in action [here]()"
   ]
  },
  {
   "cell_type": "markdown",
   "id": "aca1da1a-fefd-432e-a10e-3d7d135c264d",
   "metadata": {},
   "source": [
    "## What does it do\n",
    "The code in this module is contained in two files: [html_templates]() e [slides_templates]().  \n",
    "From the first one you can import a function that returns a template for the title slide of your presentation:"
   ]
  },
  {
   "cell_type": "code",
   "execution_count": 1,
   "id": "d6e391e4-df0e-48f5-96d1-585639bd3f42",
   "metadata": {
    "collapsed": true,
    "jupyter": {
     "outputs_hidden": true
    },
    "tags": []
   },
   "outputs": [
    {
     "data": {
      "application/vnd.jupyter.widget-view+json": {
       "model_id": "c50873916a2647129da5284110e909ac",
       "version_major": 2,
       "version_minor": 0
      },
      "text/plain": [
       "HTMLMath(value='\\n\\t<div style=\"height:100%; min-height:700px; width:100%; min-width:600px\">\\n\\t\\t<div style=\"…"
      ]
     },
     "metadata": {},
     "output_type": "display_data"
    }
   ],
   "source": [
    "from templates.html_templates import return_title_slide\n",
    "\n",
    "return_title_slide(\n",
    "    'Title of Your Presentation. <br>A long title', \n",
    "    'Your name, ...'\n",
    ")"
   ]
  },
  {
   "cell_type": "markdown",
   "id": "0851aeae-ef49-4042-a9c7-b26ae566c0a0",
   "metadata": {},
   "source": [
    "as well for index slides:"
   ]
  },
  {
   "cell_type": "code",
   "execution_count": 2,
   "id": "eedefa63-86a4-4d82-8c81-649aafd6bdd8",
   "metadata": {
    "collapsed": true,
    "jupyter": {
     "outputs_hidden": true
    },
    "tags": []
   },
   "outputs": [
    {
     "data": {
      "application/vnd.jupyter.widget-view+json": {
       "model_id": "5b59c287183f404c93da296a0a58d6bd",
       "version_major": 2,
       "version_minor": 0
      },
      "text/plain": [
       "HTMLMath(value='\\n\\t<div style=\"height:100%; min-height:700px; width:100%; min-width:600px\">\\n\\t\\t<div style=\"…"
      ]
     },
     "metadata": {},
     "output_type": "display_data"
    }
   ],
   "source": [
    "from templates.html_templates import return_index_slide\n",
    "\n",
    "return_index_slide(\n",
    "    'Introduction',\n",
    "    \"\"\"<ul>\n",
    "        <li>Item 1</li>\n",
    "        <li>Item 2</li>\n",
    "        <li>Item 3</li>\n",
    "    </ul>\"\"\"\n",
    ")"
   ]
  },
  {
   "cell_type": "markdown",
   "id": "ef3e4873-53cf-4a69-aae0-33c326b1ba0e",
   "metadata": {},
   "source": [
    "From the [slides_templates]() file the are utilities to build slides with tree different layouts (for now). The first template is that of a slide with one title and one content:"
   ]
  },
  {
   "cell_type": "code",
   "execution_count": 3,
   "id": "c8c64a6d-6841-4a05-a340-e88a5eab5bd1",
   "metadata": {
    "collapsed": true,
    "jupyter": {
     "outputs_hidden": true
    },
    "tags": []
   },
   "outputs": [
    {
     "data": {
      "application/vnd.jupyter.widget-view+json": {
       "model_id": "7d6488cea6cd41439ac4f36310fc3599",
       "version_major": 2,
       "version_minor": 0
      },
      "text/plain": [
       "GridspecLayout(children=(HTMLMath(value='<h1>A Title a Content Slide</h1>', layout=Layout(grid_area='widget001…"
      ]
     },
     "metadata": {},
     "output_type": "display_data"
    }
   ],
   "source": [
    "import numpy as np\n",
    "import pandas as pd\n",
    "import bqplot.pyplot as plt\n",
    "\n",
    "from templates.slides_templates import return_slide_1\n",
    "\n",
    "df = pd.DataFrame(np.random.randn(10,4).cumsum(0),\n",
    "                 columns=['A','B','C','D'],\n",
    "                 index=np.arange(0,100,10))\n",
    "fig = plt.figure()\n",
    "plt.plot(df.T)\n",
    "\n",
    "return_slide_1('One Title one Content Slide', fig)"
   ]
  },
  {
   "cell_type": "markdown",
   "id": "af600ca2-5597-48df-9f80-6e3c9f91eab5",
   "metadata": {},
   "source": []
  }
 ],
 "metadata": {
  "kernelspec": {
   "display_name": "Python 3 (ipykernel)",
   "language": "python",
   "name": "python3"
  },
  "language_info": {
   "codemirror_mode": {
    "name": "ipython",
    "version": 3
   },
   "file_extension": ".py",
   "mimetype": "text/x-python",
   "name": "python",
   "nbconvert_exporter": "python",
   "pygments_lexer": "ipython3",
   "version": "3.10.4"
  },
  "widgets": {
   "application/vnd.jupyter.widget-state+json": {
    "state": {
     "06454a89a5984d1da430f108dac7470c": {
      "model_module": "bqplot",
      "model_module_version": "^0.5.34",
      "model_name": "AxisModel",
      "state": {
       "orientation": "vertical",
       "scale": "IPY_MODEL_341fc92e54be41efbc80d6ade027ef35",
       "side": "left",
       "tick_values": null
      }
     },
     "0d99c5802191485fa448e0f492cb7924": {
      "model_module": "@jupyter-widgets/controls",
      "model_module_version": "1.5.0",
      "model_name": "GridBoxModel",
      "state": {
       "children": [
        "IPY_MODEL_f8f9e3b956024051979528584560891c",
        "IPY_MODEL_d303ae5f620d4e0aba64c98a0e29acc3"
       ],
       "layout": "IPY_MODEL_efdaa020d10d44b5bb0c4ea88a6b0c61"
      }
     },
     "265dc5eb72904953b9c877f9a0066be7": {
      "model_module": "@jupyter-widgets/base",
      "model_module_version": "1.2.0",
      "model_name": "LayoutModel",
      "state": {
       "grid_area": "widget001"
      }
     },
     "2d43a32ef128400d962408492fb58d8e": {
      "model_module": "bqplot",
      "model_module_version": "^0.5.34",
      "model_name": "LinearScaleModel",
      "state": {
       "allow_padding": false,
       "max": 1,
       "min": 0,
       "stabilized": false
      }
     },
     "303570230bcc4660a0b3df808be75bf5": {
      "model_module": "@jupyter-widgets/base",
      "model_module_version": "1.2.0",
      "model_name": "LayoutModel",
      "state": {
       "grid_area": "widget002"
      }
     },
     "341fc92e54be41efbc80d6ade027ef35": {
      "model_module": "bqplot",
      "model_module_version": "^0.5.34",
      "model_name": "LinearScaleModel",
      "state": {
       "stabilized": false
      }
     },
     "3fb847b5c0ad4eb2abfa80c4b009820d": {
      "buffers": [
       {
        "data": "AAAAAAEAAAACAAAAAwAAAAQAAAAFAAAABgAAAAcAAAAIAAAACQAAAA==",
        "encoding": "base64",
        "path": [
         "x",
         "value"
        ]
       },
       {
        "data": "YW2/JqgSA0BSxMZIe6D8P6f5WoUargBACDLn7Z6Q7D8+aa7QJh/VP4D1W6EcpOU/DN259QBkxT8Kj796iAH4v6m6z1SAqvm/HSvcYgwJAMA=",
        "encoding": "base64",
        "path": [
         "y",
         0,
         "value"
        ]
       },
       {
        "data": "FG0xlhovvD89nOdFZkYFwAdN6jnPgwnACIvn8B03AcB4xMdIP4ULwNj9e8r4qAjAexOajPfX979KHsSgdt/2v7WmFlj0uOC/RET4h44bwT8=",
        "encoding": "base64",
        "path": [
         "y",
         1,
         "value"
        ]
       },
       {
        "data": "SGGV+LfHAsBImtCoQE8RwFSmA0iOLADAQNHMje2DCcDFeuL7hioRwNXS4IiffxPACjXhwvErCcBfK34gidwKwBrTQbZ7rhPA6HrUCauDFsA=",
        "encoding": "base64",
        "path": [
         "y",
         2,
         "value"
        ]
       },
       {
        "data": "hrM+9AFO07/M0YxZPaD1vwToeA6x5Oa/eWdCIgQ5CMBwg8Y/hrkCwKDqbJO/QP6/3syfVn6S5r9E5xBb0JPyv3IaBqjDsui/QvLh+LNx978=",
        "encoding": "base64",
        "path": [
         "y",
         3,
         "value"
        ]
       }
      ],
      "model_module": "bqplot",
      "model_module_version": "^0.5.34",
      "model_name": "LinesModel",
      "state": {
       "fill_colors": [],
       "labels": [
        "C1",
        "C2",
        "C3",
        "C4"
       ],
       "scales": {
        "x": "IPY_MODEL_ab79a96cebb14fca97fc79bb4a86381a",
        "y": "IPY_MODEL_341fc92e54be41efbc80d6ade027ef35"
       },
       "x": {
        "dtype": "int32",
        "shape": [
         10
        ],
        "type": null
       },
       "y": [
        {
         "dtype": "float64",
         "shape": [
          10
         ],
         "type": null
        },
        {
         "dtype": "float64",
         "shape": [
          10
         ],
         "type": null
        },
        {
         "dtype": "float64",
         "shape": [
          10
         ],
         "type": null
        },
        {
         "dtype": "float64",
         "shape": [
          10
         ],
         "type": null
        }
       ]
      }
     },
     "48ae4b4086434e1097de1e01d4cbda21": {
      "model_module": "@jupyter-widgets/controls",
      "model_module_version": "1.5.0",
      "model_name": "HTMLMathModel",
      "state": {
       "layout": "IPY_MODEL_f2e4ab5ea5e341ec8fba83e49c06d27c",
       "style": "IPY_MODEL_908ea40da46b476eacada06c4afe5ed1",
       "value": "<h1>A Title a Content Slide</h1>"
      }
     },
     "55a43f8db7274e8b82f67669141ba338": {
      "model_module": "@jupyter-widgets/base",
      "model_module_version": "1.2.0",
      "model_name": "LayoutModel",
      "state": {
       "grid_area": "widget002"
      }
     },
     "582a09b982774a7aae47e5b181ca46c8": {
      "model_module": "@jupyter-widgets/base",
      "model_module_version": "1.2.0",
      "model_name": "LayoutModel",
      "state": {
       "grid_area": "widget001"
      }
     },
     "5f329d6625f8453db63e6217911d3802": {
      "model_module": "bqplot",
      "model_module_version": "^0.5.34",
      "model_name": "AxisModel",
      "state": {
       "orientation": "vertical",
       "scale": "IPY_MODEL_b7ce11e6cc1c4e469abc5acf3e648954",
       "side": "left",
       "tick_values": null
      }
     },
     "6249084bc99547018479976d9afc6ed3": {
      "buffers": [
       {
        "data": "AAAAAAEAAAACAAAAAwAAAA==",
        "encoding": "base64",
        "path": [
         "x",
         "value"
        ]
       },
       {
        "data": "Mw2BbQdB878BJSTy3FD0v1mTAPE3sPm/TNQKT54l8b8=",
        "encoding": "base64",
        "path": [
         "y",
         0,
         "value"
        ]
       },
       {
        "data": "mC5tp3D06b/90TPxJHzmv4cldjmVfO6/A/z6RmudAcA=",
        "encoding": "base64",
        "path": [
         "y",
         1,
         "value"
        ]
       },
       {
        "data": "chZL9QN6BsBRB1IFn6kEwJjtI1HSTgzA5FAJqzolAMA=",
        "encoding": "base64",
        "path": [
         "y",
         2,
         "value"
        ]
       },
       {
        "data": "4E71YbU5/z8SDyjFFZXpP11XszOyy/w/dePN820BEkA=",
        "encoding": "base64",
        "path": [
         "y",
         3,
         "value"
        ]
       },
       {
        "data": "7qQO6FGGwb9c97fgBF3ovzh8M6uKxvC/+WkGru0j+b8=",
        "encoding": "base64",
        "path": [
         "y",
         4,
         "value"
        ]
       },
       {
        "data": "twGxWpVE5T8imE41UKv0v3ybZGgESPK/ioL15tho+78=",
        "encoding": "base64",
        "path": [
         "y",
         5,
         "value"
        ]
       },
       {
        "data": "ybNjvSXH4r9YBozIQhPyP2gxd6rMbQFAsiKvyPj/BUA=",
        "encoding": "base64",
        "path": [
         "y",
         6,
         "value"
        ]
       },
       {
        "data": "n5ObUUs2nr83lRyR+QHsPymQDcrnlOG/xqlr0Wcc+78=",
        "encoding": "base64",
        "path": [
         "y",
         7,
         "value"
        ]
       },
       {
        "data": "EIn1568g6r88JecvPKHFPwBUJhvoFWG/3kd4dt8F9z8=",
        "encoding": "base64",
        "path": [
         "y",
         8,
         "value"
        ]
       },
       {
        "data": "Pn0ML3rb8L+Qhrc59PHhP6VQsnyaevw/zGHzHP4xBEA=",
        "encoding": "base64",
        "path": [
         "y",
         9,
         "value"
        ]
       }
      ],
      "model_module": "bqplot",
      "model_module_version": "^0.5.34",
      "model_name": "LinesModel",
      "state": {
       "fill_colors": [],
       "labels": [
        "C1",
        "C2",
        "C3",
        "C4",
        "C5",
        "C6",
        "C7",
        "C8",
        "C9",
        "C10"
       ],
       "scales": {
        "x": "IPY_MODEL_dd5a2ecf6d7940839c352f48ff6e03a3",
        "y": "IPY_MODEL_948eccd62df14cd4a9587c68569f930c"
       },
       "x": {
        "dtype": "int32",
        "shape": [
         4
        ],
        "type": null
       },
       "y": [
        {
         "dtype": "float64",
         "shape": [
          4
         ],
         "type": null
        },
        {
         "dtype": "float64",
         "shape": [
          4
         ],
         "type": null
        },
        {
         "dtype": "float64",
         "shape": [
          4
         ],
         "type": null
        },
        {
         "dtype": "float64",
         "shape": [
          4
         ],
         "type": null
        },
        {
         "dtype": "float64",
         "shape": [
          4
         ],
         "type": null
        },
        {
         "dtype": "float64",
         "shape": [
          4
         ],
         "type": null
        },
        {
         "dtype": "float64",
         "shape": [
          4
         ],
         "type": null
        },
        {
         "dtype": "float64",
         "shape": [
          4
         ],
         "type": null
        },
        {
         "dtype": "float64",
         "shape": [
          4
         ],
         "type": null
        },
        {
         "dtype": "float64",
         "shape": [
          4
         ],
         "type": null
        }
       ]
      }
     },
     "635dca248fb74002be981ec3c77efa02": {
      "model_module": "@jupyter-widgets/base",
      "model_module_version": "1.2.0",
      "model_name": "LayoutModel",
      "state": {
       "grid_template_areas": "\"widget001 widget001\"\n\"widget002 widget002\"\n\"widget002 widget002\"\n\"widget002 widget002\"\n\"widget002 widget002\"\n\"widget002 widget002\"\n\"widget002 widget002\"",
       "grid_template_columns": "repeat(2, 1fr)",
       "grid_template_rows": "repeat(7, 1fr)"
      }
     },
     "68b85863efc34e73ba8babab20eeefea": {
      "model_module": "bqplot",
      "model_module_version": "^0.5.34",
      "model_name": "LinearScaleModel",
      "state": {
       "allow_padding": false,
       "max": 1,
       "min": 0,
       "stabilized": false
      }
     },
     "69c1a8fcb9ef49fa978c7a3bff83649a": {
      "model_module": "bqplot",
      "model_module_version": "^0.5.34",
      "model_name": "AxisModel",
      "state": {
       "scale": "IPY_MODEL_9f6f3d289f324c25b5267a36fbf0e1d9",
       "side": "bottom",
       "tick_values": null
      }
     },
     "6b4615ea59b348279dc582f9da7bc29d": {
      "model_module": "@jupyter-widgets/controls",
      "model_module_version": "1.5.0",
      "model_name": "GridBoxModel",
      "state": {
       "children": [
        "IPY_MODEL_48ae4b4086434e1097de1e01d4cbda21",
        "IPY_MODEL_812bff3f84b7448c91eb41eaada1c5a8"
       ],
       "layout": "IPY_MODEL_635dca248fb74002be981ec3c77efa02"
      }
     },
     "6d5844addbfe4e859da9effe3d822438": {
      "model_module": "bqplot",
      "model_module_version": "^0.5.34",
      "model_name": "AxisModel",
      "state": {
       "scale": "IPY_MODEL_dd5a2ecf6d7940839c352f48ff6e03a3",
       "side": "bottom",
       "tick_values": null
      }
     },
     "7b16e85d6ded41bb83aae96e2d3018df": {
      "model_module": "bqplot",
      "model_module_version": "^0.5.34",
      "model_name": "LinearScaleModel",
      "state": {
       "allow_padding": false,
       "max": 1,
       "min": 0,
       "stabilized": false
      }
     },
     "7d6488cea6cd41439ac4f36310fc3599": {
      "model_module": "@jupyter-widgets/controls",
      "model_module_version": "1.5.0",
      "model_name": "GridBoxModel",
      "state": {
       "children": [
        "IPY_MODEL_b78211d62e374ee5b1d3de8e52bd28d4",
        "IPY_MODEL_bc5a1441274a46f0baa622c15ccc763c"
       ],
       "layout": "IPY_MODEL_fac85473082946d8ae07c947604c507a"
      }
     },
     "812bff3f84b7448c91eb41eaada1c5a8": {
      "model_module": "bqplot",
      "model_module_version": "^0.5.34",
      "model_name": "FigureModel",
      "state": {
       "axes": [
        "IPY_MODEL_69c1a8fcb9ef49fa978c7a3bff83649a",
        "IPY_MODEL_5f329d6625f8453db63e6217911d3802"
       ],
       "layout": "IPY_MODEL_303570230bcc4660a0b3df808be75bf5",
       "marks": [
        "IPY_MODEL_fb376fd79ff047299638f08b7e6b4852"
       ],
       "scale_x": "IPY_MODEL_c731383bfff24b1696267331f2f0b573",
       "scale_y": "IPY_MODEL_e476c0b5ce7343ab9c7e94f914a11d4f"
      }
     },
     "8c6e65c2c0544fe38d12c15e92d3cb00": {
      "model_module": "bqplot",
      "model_module_version": "^0.5.34",
      "model_name": "AxisModel",
      "state": {
       "orientation": "vertical",
       "scale": "IPY_MODEL_948eccd62df14cd4a9587c68569f930c",
       "side": "left",
       "tick_values": null
      }
     },
     "908ea40da46b476eacada06c4afe5ed1": {
      "model_module": "@jupyter-widgets/controls",
      "model_module_version": "1.5.0",
      "model_name": "DescriptionStyleModel",
      "state": {
       "description_width": ""
      }
     },
     "9244a83c4e27490ba009aeae2493a980": {
      "model_module": "@jupyter-widgets/controls",
      "model_module_version": "1.5.0",
      "model_name": "DescriptionStyleModel",
      "state": {
       "description_width": ""
      }
     },
     "948eccd62df14cd4a9587c68569f930c": {
      "model_module": "bqplot",
      "model_module_version": "^0.5.34",
      "model_name": "LinearScaleModel",
      "state": {
       "stabilized": false
      }
     },
     "9f6f3d289f324c25b5267a36fbf0e1d9": {
      "model_module": "bqplot",
      "model_module_version": "^0.5.34",
      "model_name": "LinearScaleModel",
      "state": {
       "stabilized": false
      }
     },
     "a3d4da470df941c19e8683d5e189541d": {
      "model_module": "bqplot",
      "model_module_version": "^0.5.34",
      "model_name": "LinearScaleModel",
      "state": {
       "allow_padding": false,
       "max": 1,
       "min": 0,
       "stabilized": false
      }
     },
     "ab79a96cebb14fca97fc79bb4a86381a": {
      "model_module": "bqplot",
      "model_module_version": "^0.5.34",
      "model_name": "LinearScaleModel",
      "state": {
       "stabilized": false
      }
     },
     "b74a7b00567e47dc9f50c7d96d415c26": {
      "model_module": "bqplot",
      "model_module_version": "^0.5.34",
      "model_name": "AxisModel",
      "state": {
       "scale": "IPY_MODEL_ab79a96cebb14fca97fc79bb4a86381a",
       "side": "bottom",
       "tick_values": null
      }
     },
     "b78211d62e374ee5b1d3de8e52bd28d4": {
      "model_module": "@jupyter-widgets/controls",
      "model_module_version": "1.5.0",
      "model_name": "HTMLMathModel",
      "state": {
       "layout": "IPY_MODEL_582a09b982774a7aae47e5b181ca46c8",
       "style": "IPY_MODEL_9244a83c4e27490ba009aeae2493a980",
       "value": "<h1>A Title a Content Slide</h1>"
      }
     },
     "b7ce11e6cc1c4e469abc5acf3e648954": {
      "model_module": "bqplot",
      "model_module_version": "^0.5.34",
      "model_name": "LinearScaleModel",
      "state": {
       "stabilized": false
      }
     },
     "bc5a1441274a46f0baa622c15ccc763c": {
      "model_module": "bqplot",
      "model_module_version": "^0.5.34",
      "model_name": "FigureModel",
      "state": {
       "axes": [
        "IPY_MODEL_b74a7b00567e47dc9f50c7d96d415c26",
        "IPY_MODEL_06454a89a5984d1da430f108dac7470c"
       ],
       "layout": "IPY_MODEL_55a43f8db7274e8b82f67669141ba338",
       "marks": [
        "IPY_MODEL_3fb847b5c0ad4eb2abfa80c4b009820d"
       ],
       "scale_x": "IPY_MODEL_7b16e85d6ded41bb83aae96e2d3018df",
       "scale_y": "IPY_MODEL_2d43a32ef128400d962408492fb58d8e"
      }
     },
     "c731383bfff24b1696267331f2f0b573": {
      "model_module": "bqplot",
      "model_module_version": "^0.5.34",
      "model_name": "LinearScaleModel",
      "state": {
       "allow_padding": false,
       "max": 1,
       "min": 0,
       "stabilized": false
      }
     },
     "d2469e20f2db477ca57a9c4b4a9ef4f5": {
      "model_module": "@jupyter-widgets/controls",
      "model_module_version": "1.5.0",
      "model_name": "DescriptionStyleModel",
      "state": {
       "description_width": ""
      }
     },
     "d303ae5f620d4e0aba64c98a0e29acc3": {
      "model_module": "bqplot",
      "model_module_version": "^0.5.34",
      "model_name": "FigureModel",
      "state": {
       "axes": [
        "IPY_MODEL_6d5844addbfe4e859da9effe3d822438",
        "IPY_MODEL_8c6e65c2c0544fe38d12c15e92d3cb00"
       ],
       "layout": "IPY_MODEL_fcc73f0508144ab89ff4e97fd32801b9",
       "marks": [
        "IPY_MODEL_6249084bc99547018479976d9afc6ed3"
       ],
       "scale_x": "IPY_MODEL_a3d4da470df941c19e8683d5e189541d",
       "scale_y": "IPY_MODEL_68b85863efc34e73ba8babab20eeefea"
      }
     },
     "dd5a2ecf6d7940839c352f48ff6e03a3": {
      "model_module": "bqplot",
      "model_module_version": "^0.5.34",
      "model_name": "LinearScaleModel",
      "state": {
       "stabilized": false
      }
     },
     "e476c0b5ce7343ab9c7e94f914a11d4f": {
      "model_module": "bqplot",
      "model_module_version": "^0.5.34",
      "model_name": "LinearScaleModel",
      "state": {
       "allow_padding": false,
       "max": 1,
       "min": 0,
       "stabilized": false
      }
     },
     "efdaa020d10d44b5bb0c4ea88a6b0c61": {
      "model_module": "@jupyter-widgets/base",
      "model_module_version": "1.2.0",
      "model_name": "LayoutModel",
      "state": {
       "grid_template_areas": "\"widget001 widget001\"\n\"widget002 widget002\"\n\"widget002 widget002\"\n\"widget002 widget002\"\n\"widget002 widget002\"\n\"widget002 widget002\"\n\"widget002 widget002\"",
       "grid_template_columns": "repeat(2, 1fr)",
       "grid_template_rows": "repeat(7, 1fr)"
      }
     },
     "f2e4ab5ea5e341ec8fba83e49c06d27c": {
      "model_module": "@jupyter-widgets/base",
      "model_module_version": "1.2.0",
      "model_name": "LayoutModel",
      "state": {
       "grid_area": "widget001"
      }
     },
     "f8f9e3b956024051979528584560891c": {
      "model_module": "@jupyter-widgets/controls",
      "model_module_version": "1.5.0",
      "model_name": "HTMLMathModel",
      "state": {
       "layout": "IPY_MODEL_265dc5eb72904953b9c877f9a0066be7",
       "style": "IPY_MODEL_d2469e20f2db477ca57a9c4b4a9ef4f5",
       "value": "<h1>A Title a Content Slide</h1>"
      }
     },
     "fac85473082946d8ae07c947604c507a": {
      "model_module": "@jupyter-widgets/base",
      "model_module_version": "1.2.0",
      "model_name": "LayoutModel",
      "state": {
       "grid_template_areas": "\"widget001 widget001\"\n\"widget002 widget002\"\n\"widget002 widget002\"\n\"widget002 widget002\"\n\"widget002 widget002\"\n\"widget002 widget002\"\n\"widget002 widget002\"",
       "grid_template_columns": "repeat(2, 1fr)",
       "grid_template_rows": "repeat(7, 1fr)"
      }
     },
     "fb376fd79ff047299638f08b7e6b4852": {
      "buffers": [
       {
        "data": "AAAAAAEAAAACAAAAAwAAAA==",
        "encoding": "base64",
        "path": [
         "x",
         "value"
        ]
       },
       {
        "data": "eKedVyV17z+lHBFIqov0vzsu6H6INPM/qsmuIVSX/j8=",
        "encoding": "base64",
        "path": [
         "y",
         0,
         "value"
        ]
       },
       {
        "data": "GoeBSa2n8L8SChEePNkGwNpEtBjy1NA/jM1Gdo02CEA=",
        "encoding": "base64",
        "path": [
         "y",
         1,
         "value"
        ]
       },
       {
        "data": "brgk3MxM5r8gcPsPslUIwJQG51pgDtG/UNrasdkk+D8=",
        "encoding": "base64",
        "path": [
         "y",
         2,
         "value"
        ]
       },
       {
        "data": "Jjdm9YxJAcBulPshqz8LwKgHiT6A7eC/mBJ/YB5rCEA=",
        "encoding": "base64",
        "path": [
         "y",
         3,
         "value"
        ]
       },
       {
        "data": "iIcDVhW6/r8Cve5B/WYFwKaSLcH/vsS/biX51GAiEEA=",
        "encoding": "base64",
        "path": [
         "y",
         4,
         "value"
        ]
       },
       {
        "data": "e/A3TL3xEsBM0Jf/WDIUwOYnfYuyx/G/yHqb+lWPEkA=",
        "encoding": "base64",
        "path": [
         "y",
         5,
         "value"
        ]
       },
       {
        "data": "cRfS1comE8Bv+pnE68wUwGD9OqjBBqM/ihoi/GOeGEA=",
        "encoding": "base64",
        "path": [
         "y",
         6,
         "value"
        ]
       },
       {
        "data": "gVGrkdhFFMD+kLcaR1MGwPfJtF8fReE/pnYFj64rFkA=",
        "encoding": "base64",
        "path": [
         "y",
         7,
         "value"
        ]
       },
       {
        "data": "jYAgYKuzF8BV5xvoCaUNwLAyQfCUmsK/4whkMSufEkA=",
        "encoding": "base64",
        "path": [
         "y",
         8,
         "value"
        ]
       },
       {
        "data": "oByp8tAUGMANl454GrIKwMZaB0XLU7Y/e9GdlCvLGEA=",
        "encoding": "base64",
        "path": [
         "y",
         9,
         "value"
        ]
       }
      ],
      "model_module": "bqplot",
      "model_module_version": "^0.5.34",
      "model_name": "LinesModel",
      "state": {
       "fill_colors": [],
       "labels": [
        "C1",
        "C2",
        "C3",
        "C4",
        "C5",
        "C6",
        "C7",
        "C8",
        "C9",
        "C10"
       ],
       "scales": {
        "x": "IPY_MODEL_9f6f3d289f324c25b5267a36fbf0e1d9",
        "y": "IPY_MODEL_b7ce11e6cc1c4e469abc5acf3e648954"
       },
       "x": {
        "dtype": "int32",
        "shape": [
         4
        ],
        "type": null
       },
       "y": [
        {
         "dtype": "float64",
         "shape": [
          4
         ],
         "type": null
        },
        {
         "dtype": "float64",
         "shape": [
          4
         ],
         "type": null
        },
        {
         "dtype": "float64",
         "shape": [
          4
         ],
         "type": null
        },
        {
         "dtype": "float64",
         "shape": [
          4
         ],
         "type": null
        },
        {
         "dtype": "float64",
         "shape": [
          4
         ],
         "type": null
        },
        {
         "dtype": "float64",
         "shape": [
          4
         ],
         "type": null
        },
        {
         "dtype": "float64",
         "shape": [
          4
         ],
         "type": null
        },
        {
         "dtype": "float64",
         "shape": [
          4
         ],
         "type": null
        },
        {
         "dtype": "float64",
         "shape": [
          4
         ],
         "type": null
        },
        {
         "dtype": "float64",
         "shape": [
          4
         ],
         "type": null
        }
       ]
      }
     },
     "fcc73f0508144ab89ff4e97fd32801b9": {
      "model_module": "@jupyter-widgets/base",
      "model_module_version": "1.2.0",
      "model_name": "LayoutModel",
      "state": {
       "grid_area": "widget002"
      }
     }
    },
    "version_major": 2,
    "version_minor": 0
   }
  }
 },
 "nbformat": 4,
 "nbformat_minor": 5
}

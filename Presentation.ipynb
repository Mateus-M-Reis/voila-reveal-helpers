{
 "cells": [
  {
   "cell_type": "code",
   "execution_count": 1,
   "id": "9a1aeac9-ca59-42a2-a1cf-e8d3d76630f5",
   "metadata": {},
   "outputs": [],
   "source": [
    "%reload_ext autoreload\n",
    "%autoreload 2"
   ]
  },
  {
   "cell_type": "code",
   "execution_count": 12,
   "id": "33f2f9f3-daec-4ca7-8afa-ed0237313aec",
   "metadata": {},
   "outputs": [],
   "source": [
    "from ipywidgets import HTMLMath\n",
    "import bqplot.pyplot as plt\n",
    "\n",
    "from templates.html_templates import return_title_slide, return_index_slide\n",
    "from templates.slides_templates import return_slide_11"
   ]
  },
  {
   "cell_type": "code",
   "execution_count": 27,
   "id": "cb38d0af-1dbd-4cf1-8de0-dca6cf97e4dd",
   "metadata": {
    "collapsed": true,
    "jupyter": {
     "outputs_hidden": true
    },
    "slideshow": {
     "slide_type": "slide"
    },
    "tags": []
   },
   "outputs": [
    {
     "data": {
      "application/vnd.jupyter.widget-view+json": {
       "model_id": "14eedd84edbb4570b20810c67a57b02c",
       "version_major": 2,
       "version_minor": 0
      },
      "text/plain": [
       "HTMLMath(value='\\n\\t<div style=\"height:100%; min-height:700px; width:100%; min-width:600px\">\\n\\t\\t<div style=\"…"
      ]
     },
     "metadata": {},
     "output_type": "display_data"
    }
   ],
   "source": [
    "return_title_slide(\n",
    "    'Title of Your Presentation. <br>A long title', \n",
    "    'Your name, ...'\n",
    ")\n"
   ]
  },
  {
   "cell_type": "code",
   "execution_count": 4,
   "id": "353cd761-1483-4cd2-8ed2-fefe6eaf677f",
   "metadata": {
    "collapsed": true,
    "jupyter": {
     "outputs_hidden": true
    },
    "slideshow": {
     "slide_type": "slide"
    },
    "tags": []
   },
   "outputs": [
    {
     "data": {
      "application/vnd.jupyter.widget-view+json": {
       "model_id": "7854e066776c461ba001973bca7ca79a",
       "version_major": 2,
       "version_minor": 0
      },
      "text/plain": [
       "HTMLMath(value='\\n\\t<div style=\"height:100%; min-height:700px; width:100%; min-width:600px\">\\n\\t\\t<div style=\"…"
      ]
     },
     "metadata": {},
     "output_type": "display_data"
    }
   ],
   "source": [
    "return_index_slide(\n",
    "    'Introduction', \n",
    "    \"\"\"<ul>\n",
    "        <li>Item 1</li>\n",
    "        <li>Item 2</li>\n",
    "        <li>Item 3</li>\n",
    "    </ul>\"\"\",\n",
    ")\n"
   ]
  },
  {
   "cell_type": "code",
   "execution_count": 33,
   "id": "38047aaf-b310-4ece-a12e-365af2a8eccb",
   "metadata": {
    "slideshow": {
     "slide_type": "slide"
    },
    "tags": []
   },
   "outputs": [
    {
     "data": {
      "application/vnd.jupyter.widget-view+json": {
       "model_id": "8958853cf1d64663b0cdf0423c30f816",
       "version_major": 2,
       "version_minor": 0
      },
      "text/plain": [
       "GridspecLayout(children=(HTMLMath(value='<h1>Testing</h1>', layout=Layout(grid_area='widget001')), HTMLMath(va…"
      ]
     },
     "metadata": {},
     "output_type": "display_data"
    }
   ],
   "source": [
    "fig_1 = plt.figure()\n",
    "plt.plot([1,2,3],[4,5,6])\n",
    "fig_2 = plt.figure()\n",
    "plt.plot([1,2,3],[1,2,3])\n",
    "\n",
    "return_slide_11(\"Testing\", \"<h1>Test_1</h1>\", fig_1)"
   ]
  }
 ],
 "metadata": {
  "kernelspec": {
   "display_name": "Python 3",
   "language": "python",
   "name": "python3"
  },
  "language_info": {
   "codemirror_mode": {
    "name": "ipython",
    "version": 3
   },
   "file_extension": ".py",
   "mimetype": "text/x-python",
   "name": "python",
   "nbconvert_exporter": "python",
   "pygments_lexer": "ipython3",
   "version": "3.9.12"
  },
  "widgets": {
   "application/vnd.jupyter.widget-state+json": {
    "state": {},
    "version_major": 2,
    "version_minor": 0
   }
  }
 },
 "nbformat": 4,
 "nbformat_minor": 5
}

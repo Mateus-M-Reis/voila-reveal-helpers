{
 "cells": [
  {
   "cell_type": "markdown",
   "id": "14065244-d355-4665-b39b-662178cf095e",
   "metadata": {},
   "source": [
    "# Voila Presentation Templates\n",
    "\n",
    "These are utility tools to style your cells to be rendered with [voila]() using the reveal template.  \n",
    "See it in action [here]()"
   ]
  },
  {
   "cell_type": "markdown",
   "id": "aca1da1a-fefd-432e-a10e-3d7d135c264d",
   "metadata": {},
   "source": [
    "## What does it do\n",
    "The code in this module is contained in two files: [html_templates]() e [slides_templates]().  \n",
    "From the first one you can import a function that returns a template for the title slide of your presentation:"
   ]
  },
  {
   "cell_type": "code",
   "execution_count": 1,
   "id": "d6e391e4-df0e-48f5-96d1-585639bd3f42",
   "metadata": {
    "collapsed": true,
    "jupyter": {
     "outputs_hidden": true
    },
    "tags": []
   },
   "outputs": [
    {
     "data": {
      "application/vnd.jupyter.widget-view+json": {
       "model_id": "c50873916a2647129da5284110e909ac",
       "version_major": 2,
       "version_minor": 0
      },
      "text/plain": [
       "HTMLMath(value='\\n\\t<div style=\"height:100%; min-height:700px; width:100%; min-width:600px\">\\n\\t\\t<div style=\"…"
      ]
     },
     "metadata": {},
     "output_type": "display_data"
    }
   ],
   "source": [
    "from templates.html_templates import return_title_slide\n",
    "\n",
    "return_title_slide(\n",
    "    'Title of Your Presentation. <br>A long title', \n",
    "    'Your name, ...'\n",
    ")"
   ]
  },
  {
   "cell_type": "markdown",
   "id": "0851aeae-ef49-4042-a9c7-b26ae566c0a0",
   "metadata": {},
   "source": [
    "as well for index slides:"
   ]
  },
  {
   "cell_type": "code",
   "execution_count": 2,
   "id": "eedefa63-86a4-4d82-8c81-649aafd6bdd8",
   "metadata": {
    "collapsed": true,
    "jupyter": {
     "outputs_hidden": true
    },
    "tags": []
   },
   "outputs": [
    {
     "data": {
      "application/vnd.jupyter.widget-view+json": {
       "model_id": "5b59c287183f404c93da296a0a58d6bd",
       "version_major": 2,
       "version_minor": 0
      },
      "text/plain": [
       "HTMLMath(value='\\n\\t<div style=\"height:100%; min-height:700px; width:100%; min-width:600px\">\\n\\t\\t<div style=\"…"
      ]
     },
     "metadata": {},
     "output_type": "display_data"
    }
   ],
   "source": [
    "from templates.html_templates import return_index_slide\n",
    "\n",
    "return_index_slide(\n",
    "    'Introduction',\n",
    "    \"\"\"<ul>\n",
    "        <li>Item 1</li>\n",
    "        <li>Item 2</li>\n",
    "        <li>Item 3</li>\n",
    "    </ul>\"\"\"\n",
    ")"
   ]
  },
  {
   "cell_type": "markdown",
   "id": "ef3e4873-53cf-4a69-aae0-33c326b1ba0e",
   "metadata": {},
   "source": [
    "From the [slides_templates]() file the are utilities to build slides with tree different layouts (for now). The first template is that of a slide with one title and one content:"
   ]
  },
  {
   "cell_type": "code",
   "execution_count": 3,
   "id": "c8c64a6d-6841-4a05-a340-e88a5eab5bd1",
   "metadata": {
    "collapsed": true,
    "jupyter": {
     "outputs_hidden": true
    },
    "tags": []
   },
   "outputs": [
    {
     "data": {
      "application/vnd.jupyter.widget-view+json": {
       "model_id": "7d6488cea6cd41439ac4f36310fc3599",
       "version_major": 2,
       "version_minor": 0
      },
      "text/plain": [
       "GridspecLayout(children=(HTMLMath(value='<h1>A Title a Content Slide</h1>', layout=Layout(grid_area='widget001…"
      ]
     },
     "metadata": {},
     "output_type": "display_data"
    }
   ],
   "source": [
    "import numpy as np\n",
    "import pandas as pd\n",
    "import bqplot.pyplot as plt\n",
    "\n",
    "from templates.slides_templates import return_slide_1\n",
    "\n",
    "df = pd.DataFrame(np.random.randn(10,4).cumsum(0),\n",
    "                 columns=['A','B','C','D'],\n",
    "                 index=np.arange(0,100,10))\n",
    "fig = plt.figure()\n",
    "plt.plot(df.T)\n",
    "\n",
    "return_slide_1('One Title one Content Slide', fig)"
   ]
  },
  {
   "cell_type": "markdown",
   "id": "af600ca2-5597-48df-9f80-6e3c9f91eab5",
   "metadata": {},
   "source": []
  }
 ],
 "metadata": {
  "kernelspec": {
   "display_name": "Python 3",
   "language": "python",
   "name": "python3"
  },
  "language_info": {
   "codemirror_mode": {
    "name": "ipython",
    "version": 3
   },
   "file_extension": ".py",
   "mimetype": "text/x-python",
   "name": "python",
   "nbconvert_exporter": "python",
   "pygments_lexer": "ipython3",
   "version": "3.9.12"
  },
  "widgets": {
   "application/vnd.jupyter.widget-state+json": {
    "state": {},
    "version_major": 2,
    "version_minor": 0
   }
  }
 },
 "nbformat": 4,
 "nbformat_minor": 5
}

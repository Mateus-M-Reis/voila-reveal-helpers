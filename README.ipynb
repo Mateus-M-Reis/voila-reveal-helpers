{
 "cells": [
  {
   "cell_type": "markdown",
   "id": "14065244-d355-4665-b39b-662178cf095e",
   "metadata": {
    "tags": []
   },
   "source": [
    "# Voila Presentation Templates\n",
    "\n",
    "These are utility tools to style your cells to be rendered with [voila]() using the reveal template.  "
   ]
  },
  {
   "cell_type": "markdown",
   "id": "aca1da1a-fefd-432e-a10e-3d7d135c264d",
   "metadata": {},
   "source": [
    "## What does it do\n",
    "The code in this module is contained in two files: [html_templates]() e [slides_templates]().  \n",
    "From the first one you can import a function that returns a template for the title slide of your presentation:"
   ]
  },
  {
   "cell_type": "code",
   "execution_count": 1,
   "id": "d6e391e4-df0e-48f5-96d1-585639bd3f42",
   "metadata": {
    "collapsed": true,
    "jupyter": {
     "outputs_hidden": true
    },
    "slideshow": {
     "slide_type": "slide"
    },
    "tags": []
   },
   "outputs": [
    {
     "data": {
      "application/vnd.jupyter.widget-view+json": {
       "model_id": "c50873916a2647129da5284110e909ac",
       "version_major": 2,
       "version_minor": 0
      },
      "text/plain": [
       "HTMLMath(value='\\n\\t<div style=\"height:100%; min-height:700px; width:100%; min-width:600px\">\\n\\t\\t<div style=\"…"
      ]
     },
     "metadata": {},
     "output_type": "display_data"
    }
   ],
   "source": [
    "from templates.html_templates import return_title_slide\n",
    "\n",
    "return_title_slide(\n",
    "    'Title of Your Presentation. <br>A long title', \n",
    "    'Your name, ...'\n",
    ")"
   ]
  },
  {
   "cell_type": "markdown",
   "id": "0851aeae-ef49-4042-a9c7-b26ae566c0a0",
   "metadata": {},
   "source": [
    "as well for index slides:"
   ]
  },
  {
   "cell_type": "code",
   "execution_count": 2,
   "id": "eedefa63-86a4-4d82-8c81-649aafd6bdd8",
   "metadata": {
    "collapsed": true,
    "jupyter": {
     "outputs_hidden": true
    },
    "slideshow": {
     "slide_type": "slide"
    },
    "tags": []
   },
   "outputs": [
    {
     "data": {
      "application/vnd.jupyter.widget-view+json": {
       "model_id": "5b59c287183f404c93da296a0a58d6bd",
       "version_major": 2,
       "version_minor": 0
      },
      "text/plain": [
       "HTMLMath(value='\\n\\t<div style=\"height:100%; min-height:700px; width:100%; min-width:600px\">\\n\\t\\t<div style=\"…"
      ]
     },
     "metadata": {},
     "output_type": "display_data"
    }
   ],
   "source": [
    "from templates.html_templates import return_index_slide\n",
    "\n",
    "return_index_slide(\n",
    "    'Introduction',\n",
    "    \"\"\"<ul>\n",
    "        <li>Item 1</li>\n",
    "        <li>Item 2</li>\n",
    "        <li>Item 3</li>\n",
    "    </ul>\"\"\"\n",
    ")"
   ]
  },
  {
   "cell_type": "markdown",
   "id": "ef3e4873-53cf-4a69-aae0-33c326b1ba0e",
   "metadata": {},
   "source": [
    "From the [slides_templates]() file the are utilities to build slides with tree different layouts for now.  \n",
    "The first template is that of a slide with one title and one content:"
   ]
  },
  {
   "cell_type": "code",
   "execution_count": 1,
   "id": "7ea8c87f-e962-4546-a08c-5bee698a8105",
   "metadata": {
    "slideshow": {
     "slide_type": "slide"
    },
    "tags": []
   },
   "outputs": [
    {
     "data": {
      "application/vnd.jupyter.widget-view+json": {
       "model_id": "e657d977227940baa9e07c6e4685c97a",
       "version_major": 2,
       "version_minor": 0
      },
      "text/plain": [
       "GridspecLayout(children=(HTMLMath(value='<h1>One Content Slide</h1>', layout=Layout(grid_area='widget001')), F…"
      ]
     },
     "metadata": {},
     "output_type": "display_data"
    }
   ],
   "source": [
    "import numpy as np\n",
    "import pandas as pd\n",
    "import bqplot.pyplot as plt\n",
    "\n",
    "from templates.slides_templates import return_slide_1\n",
    "\n",
    "df = pd.DataFrame(np.random.randn(10,4).cumsum(0),\n",
    "                 columns=['A','B','C','D'],\n",
    "                 index=np.arange(0,100,10))\n",
    "fig = plt.figure(0)\n",
    "plt.plot(df)\n",
    "\n",
    "return_slide_1('One Content Slide', fig)"
   ]
  },
  {
   "cell_type": "markdown",
   "id": "af600ca2-5597-48df-9f80-6e3c9f91eab5",
   "metadata": {
    "tags": []
   },
   "source": [
    "You can also build a slide with two columns:"
   ]
  },
  {
   "cell_type": "code",
   "execution_count": 2,
   "id": "8e45c65a-e8e7-40af-a8e2-92b8eef41994",
   "metadata": {
    "slideshow": {
     "slide_type": "slide"
    },
    "tags": []
   },
   "outputs": [
    {
     "data": {
      "application/vnd.jupyter.widget-view+json": {
       "model_id": "037ba4aaeccc4ec09bdc7ef3301ab2b1",
       "version_major": 2,
       "version_minor": 0
      },
      "text/plain": [
       "GridspecLayout(children=(HTMLMath(value='<h1>Two Columns Slide</h1>', layout=Layout(grid_area='widget001')), H…"
      ]
     },
     "metadata": {},
     "output_type": "display_data"
    }
   ],
   "source": [
    "from templates.slides_templates import return_slide_11\n",
    "\n",
    "df = pd.DataFrame(np.random.randn(10,4).cumsum(0),\n",
    "                 columns=['A','B','C','D'],\n",
    "                 index=np.arange(0,100,10))\n",
    "fig_1 = plt.figure(1)\n",
    "plt.plot(df)\n",
    "\n",
    "return_slide_11(\n",
    "    'Two Columns Slide', \n",
    "    \"\"\"<h2>Left Column HTML content</h2>\n",
    "    <p>bla bla bla</p>\n",
    "    $$E=mc^2$$\n",
    "    \"\"\", \n",
    "    fig_1\n",
    ")"
   ]
  },
  {
   "cell_type": "markdown",
   "id": "c6ceccfd-e3ab-465a-a345-d1d5f144afec",
   "metadata": {},
   "source": [
    "There is also a two columns two lines template:"
   ]
  },
  {
   "cell_type": "code",
   "execution_count": 10,
   "id": "81a30201-596f-4c62-9d7e-5f547d8f41b6",
   "metadata": {
    "slideshow": {
     "slide_type": "slide"
    },
    "tags": []
   },
   "outputs": [
    {
     "data": {
      "application/vnd.jupyter.widget-view+json": {
       "model_id": "b6d454e7209d4b3a817b98159fdb96a9",
       "version_major": 2,
       "version_minor": 0
      },
      "text/plain": [
       "GridspecLayout(children=(HTMLMath(value='<h1>Two Columns Two Lines Slide</h1>', layout=Layout(grid_area='widge…"
      ]
     },
     "metadata": {},
     "output_type": "display_data"
    }
   ],
   "source": [
    "from templates.slides_templates import return_slide_22\n",
    "\n",
    "fig_2 = plt.figure(2)\n",
    "plt.hist(df.T.iloc[0,:])\n",
    "fig_3 = plt.figure(3)\n",
    "plt.hist(df.T.iloc[1,:])\n",
    "fig_4 = plt.figure(4)\n",
    "plt.hist(df.T.iloc[2,:])\n",
    "\n",
    "return_slide_22(\n",
    "    'Two Columns Two Lines Slide', \n",
    "    \"\"\"<h2>Left Column HTML content</h2>\n",
    "    <p>bla bla bla</p>\n",
    "    $$E=mc^2$$\n",
    "    <p>bla bla bla</p>\n",
    "    <p>bla bla bla</p>\n",
    "    <p>bla bla bla</p>\n",
    "    <p>bla bla bla</p>\n",
    "    <p>bla bla bla</p>\n",
    "    \"\"\", \n",
    "    fig_2,\n",
    "    fig_3,\n",
    "    fig_4\n",
    ")"
   ]
  }
 ],
 "metadata": {
  "kernelspec": {
   "display_name": "Python 3",
   "language": "python",
   "name": "python3"
  },
  "language_info": {
   "codemirror_mode": {
    "name": "ipython",
    "version": 3
   },
   "file_extension": ".py",
   "mimetype": "text/x-python",
   "name": "python",
   "nbconvert_exporter": "python",
   "pygments_lexer": "ipython3",
   "version": "3.9.12"
  },
  "widgets": {
   "application/vnd.jupyter.widget-state+json": {
    "state": {
     "02075f1e751b4c32a6760b047d3de99b": {
      "model_module": "@jupyter-widgets/base",
      "model_module_version": "1.2.0",
      "model_name": "LayoutModel",
      "state": {
       "grid_area": "widget002",
       "height": "50%"
      }
     },
     "037b7ca1e03242f08cfc88e005c66a64": {
      "model_module": "@jupyter-widgets/controls",
      "model_module_version": "1.5.0",
      "model_name": "HTMLMathModel",
      "state": {
       "layout": "IPY_MODEL_bf1fcc1330854b31b42ecf1452dd513a",
       "style": "IPY_MODEL_aa2c410b8188455bba1d78d2ccb6cb25",
       "value": "<h1>Two Columns Two Lines Slide</h1>"
      }
     },
     "037ba4aaeccc4ec09bdc7ef3301ab2b1": {
      "model_module": "@jupyter-widgets/controls",
      "model_module_version": "1.5.0",
      "model_name": "GridBoxModel",
      "state": {
       "children": [
        "IPY_MODEL_6a2402eba2c549df8e39132c6439975d",
        "IPY_MODEL_a0dc78853a444177a7a1f06b157f2275",
        "IPY_MODEL_613b4de532ca4a99adcd02fe21af23a1"
       ],
       "layout": "IPY_MODEL_b3b3fe59c49c493b8d172fd2e1f4d95f"
      }
     },
     "037c6ebbbd534c109d0779bb98302c9d": {
      "buffers": [
       {
        "data": "AAAAAAAA8D8AAAAAAAAIQAAAAAAAAAAAAAAAAAAAAAAAAAAAAAAAAAAAAAAAAAAAAAAAAAAAAEAAAAAAAAAAAAAAAAAAAPA/AAAAAAAACEA=",
        "encoding": "base64",
        "path": [
         "count",
         "value"
        ]
       },
       {
        "data": "poi1G2Tt4T/3BS5upbjwP4jJajtc6/E/ax9DhIpK8j+gVy+XcavFvzGdNHDFi/q/s71HaEjF/L/zXt9BmpgBwDLYjS8yEfq/QDLxUVzFmD8=",
        "encoding": "base64",
        "path": [
         "sample",
         "value"
        ]
       }
      ],
      "model_module": "bqplot",
      "model_module_version": "^0.5.34",
      "model_name": "HistModel",
      "state": {
       "count": {
        "dtype": "float64",
        "shape": [
         10
        ],
        "type": null
       },
       "midpoints": [
        -2.032377398553196,
        -1.6981062507033076,
        -1.3638351028534186,
        -1.0295639550035296,
        -0.695292807153641,
        -0.3610216593037521,
        -0.026750511453863313,
        0.30752063639602545,
        0.6417917842459144
       ],
       "sample": {
        "dtype": "float64",
        "shape": [
         10
        ],
        "type": null
       },
       "scales": {
        "count": "IPY_MODEL_68445afa49d34649b98d9ca722695d41",
        "sample": "IPY_MODEL_0b43b0bd91dd4886bd42cd5e6c3a2f13"
       }
      }
     },
     "04bd94d7421c40519ae33546b7d870a9": {
      "model_module": "@jupyter-widgets/controls",
      "model_module_version": "1.5.0",
      "model_name": "HTMLMathModel",
      "state": {
       "layout": "IPY_MODEL_b36e2744d77a4522a4e57bd55882d682",
       "style": "IPY_MODEL_bc0056a11a5041a0a310bbb6108d82af",
       "value": "<h1>One Content Slide</h1>"
      }
     },
     "051320608e0a40689d3cbb410b70bbde": {
      "model_module": "bqplot",
      "model_module_version": "^0.5.34",
      "model_name": "LinearScaleModel",
      "state": {
       "stabilized": false
      }
     },
     "05da21b8e71944ddb89751b40da24272": {
      "model_module": "@jupyter-widgets/controls",
      "model_module_version": "1.5.0",
      "model_name": "HTMLMathModel",
      "state": {
       "layout": "IPY_MODEL_f0f504a1c80342b899e9deaa6d059853",
       "style": "IPY_MODEL_f7ade4a63bc74b7181b56a24d4ba963a",
       "value": "<h2>Left Column HTML content</h2>\n    <p>bla bla bla</p>\n    $$E=mc^2$$\n    <p>bla bla bla</p>\n    <p>bla bla bla</p>\n    <p>bla bla bla</p>\n    <p>bla bla bla</p>\n    <p>bla bla bla</p>\n    "
      }
     },
     "064406296a07465d8489c149c891a41d": {
      "model_module": "@jupyter-widgets/base",
      "model_module_version": "1.2.0",
      "model_name": "LayoutModel",
      "state": {
       "grid_area": "widget002",
       "height": "50%"
      }
     },
     "079d1ebd97864b3e93cf614dad20cea1": {
      "model_module": "@jupyter-widgets/controls",
      "model_module_version": "1.5.0",
      "model_name": "HTMLMathModel",
      "state": {
       "layout": "IPY_MODEL_1c39bc85fe3f4dcca118d11b85ec7d1c",
       "style": "IPY_MODEL_8973bc9812c740be917ced5ce25eff72",
       "value": "<h2>Left Column HTML content</h2>\n    <p>bla bla bla</p>\n    $$E=mc^2$$\n    <p>bla bla bla</p>\n    <p>bla bla bla</p>\n    <p>bla bla bla</p>\n    <p>bla bla bla</p>\n    <p>bla bla bla</p>\n    <p>bla bla bla</p>\n    <p>bla bla bla</p>\n    <p>bla bla bla</p>\n    "
      }
     },
     "08882620cbb748d3a30858c262ff4f11": {
      "model_module": "@jupyter-widgets/controls",
      "model_module_version": "1.5.0",
      "model_name": "VBoxModel",
      "state": {
       "children": [
        "IPY_MODEL_3d068f0c269d4b1bbb50f141d6608cc1",
        "IPY_MODEL_dde0e72f287145f594f8856b1d821dd6"
       ],
       "layout": "IPY_MODEL_d5334db990d24427be5acd32e2f77436"
      }
     },
     "0895084b551341fa8da31fc1d0e7c912": {
      "buffers": [
       {
        "data": "AAAAAAEAAAACAAAAAwAAAA==",
        "encoding": "base64",
        "path": [
         "x",
         "value"
        ]
       },
       {
        "data": "IMltWIfIxD+2X98KMHy2P6aItRtk7eE/mrRQfBUEAkA=",
        "encoding": "base64",
        "path": [
         "y",
         0,
         "value"
        ]
       },
       {
        "data": "KBo8ab7b2D8eOSj1NVXCP/cFLm6luPA/QG4EwJaEvj8=",
        "encoding": "base64",
        "path": [
         "y",
         1,
         "value"
        ]
       },
       {
        "data": "sr2kNmdU8j88PY9o5Z3iP4jJajtc6/E/y+VdHcub6D8=",
        "encoding": "base64",
        "path": [
         "y",
         2,
         "value"
        ]
       },
       {
        "data": "GWZKGfiXBEBYUn+SG9jMv2sfQ4SKSvI/X2a5KUxL9D8=",
        "encoding": "base64",
        "path": [
         "y",
         3,
         "value"
        ]
       },
       {
        "data": "wLFFqS10B0DUj0zfxAf2P6BXL5dxq8W/uNGsgD/0x78=",
        "encoding": "base64",
        "path": [
         "y",
         4,
         "value"
        ]
       },
       {
        "data": "JwdM8uErEEDAzHCcZB/4PzGdNHDFi/q/YIMOZVFj8T8=",
        "encoding": "base64",
        "path": [
         "y",
         5,
         "value"
        ]
       },
       {
        "data": "CAN9Pu6XDUAPbKBP6hroP7O9R2hIxfy/XEYy/0IB+j8=",
        "encoding": "base64",
        "path": [
         "y",
         6,
         "value"
        ]
       },
       {
        "data": "sgNgUv1iBkCwVLPRvk7Ev/Ne30GamAHAWG4nQNgV4j8=",
        "encoding": "base64",
        "path": [
         "y",
         7,
         "value"
        ]
       },
       {
        "data": "6vMdgBssC0BmcAZez2nQPzLYjS8yEfq/Vk2IHhnV1D8=",
        "encoding": "base64",
        "path": [
         "y",
         8,
         "value"
        ]
       },
       {
        "data": "ydrjoCXdCUDrMEIqIVTjv0Ay8VFcxZg/UC76A/sjs78=",
        "encoding": "base64",
        "path": [
         "y",
         9,
         "value"
        ]
       }
      ],
      "model_module": "bqplot",
      "model_module_version": "^0.5.34",
      "model_name": "LinesModel",
      "state": {
       "fill_colors": [],
       "labels": [
        "C1",
        "C2",
        "C3",
        "C4",
        "C5",
        "C6",
        "C7",
        "C8",
        "C9",
        "C10"
       ],
       "scales": {
        "x": "IPY_MODEL_99b805d6ba4d41998f700f9d434a906e",
        "y": "IPY_MODEL_051320608e0a40689d3cbb410b70bbde"
       },
       "x": {
        "dtype": "int32",
        "shape": [
         4
        ],
        "type": null
       },
       "y": [
        {
         "dtype": "float64",
         "shape": [
          4
         ],
         "type": null
        },
        {
         "dtype": "float64",
         "shape": [
          4
         ],
         "type": null
        },
        {
         "dtype": "float64",
         "shape": [
          4
         ],
         "type": null
        },
        {
         "dtype": "float64",
         "shape": [
          4
         ],
         "type": null
        },
        {
         "dtype": "float64",
         "shape": [
          4
         ],
         "type": null
        },
        {
         "dtype": "float64",
         "shape": [
          4
         ],
         "type": null
        },
        {
         "dtype": "float64",
         "shape": [
          4
         ],
         "type": null
        },
        {
         "dtype": "float64",
         "shape": [
          4
         ],
         "type": null
        },
        {
         "dtype": "float64",
         "shape": [
          4
         ],
         "type": null
        },
        {
         "dtype": "float64",
         "shape": [
          4
         ],
         "type": null
        }
       ]
      }
     },
     "0a09927c0f15400c94e2abb1b74d206f": {
      "model_module": "@jupyter-widgets/base",
      "model_module_version": "1.2.0",
      "model_name": "LayoutModel",
      "state": {
       "grid_area": "widget003"
      }
     },
     "0b43b0bd91dd4886bd42cd5e6c3a2f13": {
      "model_module": "bqplot",
      "model_module_version": "^0.5.34",
      "model_name": "LinearScaleModel",
      "state": {
       "stabilized": false
      }
     },
     "0c323fc1888f4a8999a2a51069278f0c": {
      "model_module": "@jupyter-widgets/base",
      "model_module_version": "1.2.0",
      "model_name": "LayoutModel",
      "state": {
       "grid_template_areas": "\"widget001 widget001\"\n\"widget002 widget003\"\n\"widget002 widget003\"\n\"widget002 widget003\"\n\"widget002 widget003\"\n\"widget002 widget003\"\n\"widget002 widget003\"",
       "grid_template_columns": "repeat(2, 1fr)",
       "grid_template_rows": "repeat(7, 1fr)"
      }
     },
     "0c69a6e148e847569ec4c9aa58284273": {
      "model_module": "@jupyter-widgets/controls",
      "model_module_version": "1.5.0",
      "model_name": "GridBoxModel",
      "state": {
       "children": [
        "IPY_MODEL_f1733845ddd04b5bb81493a5a4195b46",
        "IPY_MODEL_bc0b338cea3f4e55bdb44709d381598c",
        "IPY_MODEL_483fb64812d24808ad4895b800b8c07b"
       ],
       "layout": "IPY_MODEL_5966fa69bc5c40398656b0eafa0fdd1d"
      }
     },
     "0eb8c3d34a374cb497a588e9f1cf66c0": {
      "buffers": [
       {
        "data": "AAAAAAAAAEAAAAAAAAAAAAAAAAAAAPA/AAAAAAAAAAAAAAAAAAAAAAAAAAAAAAAAAAAAAAAAAEAAAAAAAAAAQAAAAAAAAPA/AAAAAAAAAEA=",
        "encoding": "base64",
        "path": [
         "count",
         "value"
        ]
       },
       {
        "data": "IMltWIfIxD8oGjxpvtvYP7K9pDZnVPI/GWZKGfiXBEDAsUWpLXQHQCcHTPLhKxBACAN9Pu6XDUCyA2BS/WIGQOrzHYAbLAtAydrjoCXdCUA=",
        "encoding": "base64",
        "path": [
         "sample",
         "value"
        ]
       }
      ],
      "model_module": "bqplot",
      "model_module_version": "^0.5.34",
      "model_name": "HistModel",
      "state": {
       "count": {
        "dtype": "float64",
        "shape": [
         10
        ],
        "type": null
       },
       "midpoints": [
        0.3563938727986916,
        0.7444423182821118,
        1.132490763765532,
        1.5205392092489523,
        1.9085876547323721,
        2.2966361002157925,
        2.6846845456992128,
        3.0727329911826327,
        3.460781436666053
       ],
       "sample": {
        "dtype": "float64",
        "shape": [
         10
        ],
        "type": null
       },
       "scales": {
        "count": "IPY_MODEL_47bfa63d072a42aabf1ad542177d5b1a",
        "sample": "IPY_MODEL_f74678e404754bbcafe8229c23b95f67"
       }
      }
     },
     "103b289298be49ecaa607ee828106fb8": {
      "model_module": "@jupyter-widgets/controls",
      "model_module_version": "1.5.0",
      "model_name": "VBoxModel",
      "state": {
       "children": [
        "IPY_MODEL_74fc10595b534d2b83f6371e0f178680",
        "IPY_MODEL_57a87696ba47484085fc696aa61062b3"
       ],
       "layout": "IPY_MODEL_e2d7491384674d00a3d837f4dba991b6"
      }
     },
     "10c958c11c63445aa08ffd1e313c3058": {
      "buffers": [
       {
        "data": "AAAAAAAA8D8AAAAAAAAIQAAAAAAAAAAAAAAAAAAAAAAAAAAAAAAAAAAAAAAAAAAAAAAAAAAAAEAAAAAAAAAAAAAAAAAAAPA/AAAAAAAACEA=",
        "encoding": "base64",
        "path": [
         "count",
         "value"
        ]
       },
       {
        "data": "poi1G2Tt4T/3BS5upbjwP4jJajtc6/E/ax9DhIpK8j+gVy+XcavFvzGdNHDFi/q/s71HaEjF/L/zXt9BmpgBwDLYjS8yEfq/QDLxUVzFmD8=",
        "encoding": "base64",
        "path": [
         "sample",
         "value"
        ]
       }
      ],
      "model_module": "bqplot",
      "model_module_version": "^0.5.34",
      "model_name": "HistModel",
      "state": {
       "count": {
        "dtype": "float64",
        "shape": [
         10
        ],
        "type": null
       },
       "midpoints": [
        -2.032377398553196,
        -1.6981062507033076,
        -1.3638351028534186,
        -1.0295639550035296,
        -0.695292807153641,
        -0.3610216593037521,
        -0.026750511453863313,
        0.30752063639602545,
        0.6417917842459144
       ],
       "sample": {
        "dtype": "float64",
        "shape": [
         10
        ],
        "type": null
       },
       "scales": {
        "count": "IPY_MODEL_68445afa49d34649b98d9ca722695d41",
        "sample": "IPY_MODEL_0b43b0bd91dd4886bd42cd5e6c3a2f13"
       }
      }
     },
     "12b56154d6b6439b8b2caac0578dccff": {
      "model_module": "@jupyter-widgets/controls",
      "model_module_version": "1.5.0",
      "model_name": "HTMLMathModel",
      "state": {
       "layout": "IPY_MODEL_67740e1395cc4d979b5c832f8ca8ebc4",
       "style": "IPY_MODEL_bbcec399561e4b60ba9adb9d9f4320f4",
       "value": "<h2>Left Column HTML content</h2>\n    <p>bla bla bla</p>\n    $$E=mc^2$$\n    <p>bla bla bla</p>\n    <p>bla bla bla</p>\n    <p>bla bla bla</p>\n    <p>bla bla bla</p>\n    <p>bla bla bla</p>\n    <p>bla bla bla</p>\n    <p>bla bla bla</p>\n    <p>bla bla bla</p>\n    <p>bla bla bla</p>\n    <p>bla bla bla</p>\n    <p>bla bla bla</p>\n    "
      }
     },
     "1887e68bc900423598bc5c059fbe5d57": {
      "model_module": "@jupyter-widgets/base",
      "model_module_version": "1.2.0",
      "model_name": "LayoutModel",
      "state": {
       "grid_area": "widget003",
       "height": "50%"
      }
     },
     "19d272445be44b9d8c8309509b227e52": {
      "model_module": "@jupyter-widgets/controls",
      "model_module_version": "1.5.0",
      "model_name": "DescriptionStyleModel",
      "state": {
       "description_width": ""
      }
     },
     "1b88e615bb0443fabe4562a0aa763129": {
      "buffers": [
       {
        "data": "AAAAAAAA8D8AAAAAAADwPwAAAAAAAPA/AAAAAAAAAEAAAAAAAADwPwAAAAAAAPA/AAAAAAAA8D8AAAAAAAAAAAAAAAAAAAAAAAAAAAAAAEA=",
        "encoding": "base64",
        "path": [
         "count",
         "value"
        ]
       },
       {
        "data": "tl/fCjB8tj8eOSj1NVXCPzw9j2jlneI/WFJ/khvYzL/Uj0zfxAf2P8DMcJxkH/g/D2ygT+oa6D+wVLPRvk7Ev2ZwBl7PadA/6zBCKiFU478=",
        "encoding": "base64",
        "path": [
         "sample",
         "value"
        ]
       }
      ],
      "model_module": "bqplot",
      "model_module_version": "^0.5.34",
      "model_name": "HistModel",
      "state": {
       "count": {
        "dtype": "float64",
        "shape": [
         10
        ],
        "type": null
       },
       "midpoints": [
        -0.49843551907980543,
        -0.2872671160615754,
        -0.07609871304334531,
        0.13506968997488478,
        0.3462380929931149,
        0.557406496011345,
        0.768574899029575,
        0.979743302047805,
        1.1909117050660352
       ],
       "sample": {
        "dtype": "float64",
        "shape": [
         10
        ],
        "type": null
       },
       "scales": {
        "count": "IPY_MODEL_9b3980068aab4fe1a3fdcc4caf9ce833",
        "sample": "IPY_MODEL_718cba3a3f4b42b79639adb37cdbe590"
       }
      }
     },
     "1c39bc85fe3f4dcca118d11b85ec7d1c": {
      "model_module": "@jupyter-widgets/base",
      "model_module_version": "1.2.0",
      "model_name": "LayoutModel",
      "state": {}
     },
     "1d040702c9b040c3826f7314b8181756": {
      "model_module": "@jupyter-widgets/base",
      "model_module_version": "1.2.0",
      "model_name": "LayoutModel",
      "state": {
       "grid_area": "widget002"
      }
     },
     "1e1626c6884b4330b1e97b5ade83a08b": {
      "model_module": "@jupyter-widgets/controls",
      "model_module_version": "1.5.0",
      "model_name": "GridBoxModel",
      "state": {
       "children": [
        "IPY_MODEL_5635854c22e441a786eb11084905337e",
        "IPY_MODEL_c03a799763304c14a64cf89d7c207559",
        "IPY_MODEL_cb23426bf7f942fe813348db02c8fd34"
       ],
       "layout": "IPY_MODEL_8e8ad1054b94479fb9c2fb28806bc1c0"
      }
     },
     "212089ff49c04ad2aba0143dd7067921": {
      "model_module": "@jupyter-widgets/controls",
      "model_module_version": "1.5.0",
      "model_name": "GridBoxModel",
      "state": {
       "children": [
        "IPY_MODEL_29d36f0f0c034f3e9edb7baa51bd864e",
        "IPY_MODEL_f84b0f50f44a4c13b43d58d6c308d0a6",
        "IPY_MODEL_5b87d4f884d745ef9ca5f65c1d0471e3"
       ],
       "layout": "IPY_MODEL_f9d6d699957f42d685413da0e6e1abfe"
      }
     },
     "21c30bc77b014a948b07e6a790267328": {
      "model_module": "@jupyter-widgets/base",
      "model_module_version": "1.2.0",
      "model_name": "LayoutModel",
      "state": {
       "grid_area": "widget003",
       "height": "50%"
      }
     },
     "26f2706bf5c14a83989a4e646f7406d6": {
      "model_module": "bqplot",
      "model_module_version": "^0.5.34",
      "model_name": "AxisModel",
      "state": {
       "scale": "IPY_MODEL_f74678e404754bbcafe8229c23b95f67",
       "side": "bottom",
       "tick_values": null
      }
     },
     "26ff8cf4f2b74ffa84c54710450ad655": {
      "buffers": [
       {
        "data": "AAAAAAAA8D8AAAAAAADwPwAAAAAAAPA/AAAAAAAAAEAAAAAAAADwPwAAAAAAAPA/AAAAAAAA8D8AAAAAAAAAAAAAAAAAAAAAAAAAAAAAAEA=",
        "encoding": "base64",
        "path": [
         "count",
         "value"
        ]
       },
       {
        "data": "tl/fCjB8tj8eOSj1NVXCPzw9j2jlneI/WFJ/khvYzL/Uj0zfxAf2P8DMcJxkH/g/D2ygT+oa6D+wVLPRvk7Ev2ZwBl7PadA/6zBCKiFU478=",
        "encoding": "base64",
        "path": [
         "sample",
         "value"
        ]
       }
      ],
      "model_module": "bqplot",
      "model_module_version": "^0.5.34",
      "model_name": "HistModel",
      "state": {
       "count": {
        "dtype": "float64",
        "shape": [
         10
        ],
        "type": null
       },
       "midpoints": [
        -0.49843551907980543,
        -0.2872671160615754,
        -0.07609871304334531,
        0.13506968997488478,
        0.3462380929931149,
        0.557406496011345,
        0.768574899029575,
        0.979743302047805,
        1.1909117050660352
       ],
       "sample": {
        "dtype": "float64",
        "shape": [
         10
        ],
        "type": null
       },
       "scales": {
        "count": "IPY_MODEL_9b3980068aab4fe1a3fdcc4caf9ce833",
        "sample": "IPY_MODEL_718cba3a3f4b42b79639adb37cdbe590"
       }
      }
     },
     "296e32303f7b4a0d97f01b7675b47799": {
      "model_module": "@jupyter-widgets/controls",
      "model_module_version": "1.5.0",
      "model_name": "VBoxModel",
      "state": {
       "children": [
        "IPY_MODEL_12b56154d6b6439b8b2caac0578dccff",
        "IPY_MODEL_dde0e72f287145f594f8856b1d821dd6"
       ],
       "layout": "IPY_MODEL_ea23a8e4154f44ec83744dcac1e52195"
      }
     },
     "29d36f0f0c034f3e9edb7baa51bd864e": {
      "model_module": "@jupyter-widgets/controls",
      "model_module_version": "1.5.0",
      "model_name": "HTMLMathModel",
      "state": {
       "layout": "IPY_MODEL_9ce605ded9004dd4a19a9abf99d07212",
       "style": "IPY_MODEL_55177157dae744c783aeec97924a767e",
       "value": "<h1>Two Columns Two Lines Slide</h1>"
      }
     },
     "2a8bd896760d48d3832fa69a19b723b4": {
      "model_module": "@jupyter-widgets/base",
      "model_module_version": "1.2.0",
      "model_name": "LayoutModel",
      "state": {
       "grid_area": "widget003",
       "height": "50%"
      }
     },
     "2e34a741b1494774abab1d04dc4b9d25": {
      "model_module": "@jupyter-widgets/base",
      "model_module_version": "1.2.0",
      "model_name": "LayoutModel",
      "state": {}
     },
     "2fe56f33c08b4a6fa107f50496a90290": {
      "model_module": "@jupyter-widgets/controls",
      "model_module_version": "1.5.0",
      "model_name": "GridBoxModel",
      "state": {
       "children": [
        "IPY_MODEL_f901471225ea4b43b6280475a9039695",
        "IPY_MODEL_08882620cbb748d3a30858c262ff4f11",
        "IPY_MODEL_4868347baea14df58171bd366d42d072"
       ],
       "layout": "IPY_MODEL_7ea60e7eafc24cc8b1b6f2a3905cfd8f"
      }
     },
     "2fea67f121184ca9a081a0a05ac689cf": {
      "model_module": "bqplot",
      "model_module_version": "^0.5.34",
      "model_name": "AxisModel",
      "state": {
       "orientation": "vertical",
       "scale": "IPY_MODEL_47bfa63d072a42aabf1ad542177d5b1a",
       "side": "left",
       "tick_values": null
      }
     },
     "2fedba09f3204c0cb963f8dd0e5aab6c": {
      "model_module": "@jupyter-widgets/controls",
      "model_module_version": "1.5.0",
      "model_name": "DescriptionStyleModel",
      "state": {
       "description_width": ""
      }
     },
     "2fef1f9793894fc28bdd425421831a73": {
      "buffers": [
       {
        "data": "AAAAAAAA8D8AAAAAAAAIQAAAAAAAAAAAAAAAAAAAAAAAAAAAAAAAAAAAAAAAAAAAAAAAAAAAAEAAAAAAAAAAAAAAAAAAAPA/AAAAAAAACEA=",
        "encoding": "base64",
        "path": [
         "count",
         "value"
        ]
       },
       {
        "data": "poi1G2Tt4T/3BS5upbjwP4jJajtc6/E/ax9DhIpK8j+gVy+XcavFvzGdNHDFi/q/s71HaEjF/L/zXt9BmpgBwDLYjS8yEfq/QDLxUVzFmD8=",
        "encoding": "base64",
        "path": [
         "sample",
         "value"
        ]
       }
      ],
      "model_module": "bqplot",
      "model_module_version": "^0.5.34",
      "model_name": "HistModel",
      "state": {
       "count": {
        "dtype": "float64",
        "shape": [
         10
        ],
        "type": null
       },
       "midpoints": [
        -2.032377398553196,
        -1.6981062507033076,
        -1.3638351028534186,
        -1.0295639550035296,
        -0.695292807153641,
        -0.3610216593037521,
        -0.026750511453863313,
        0.30752063639602545,
        0.6417917842459144
       ],
       "sample": {
        "dtype": "float64",
        "shape": [
         10
        ],
        "type": null
       },
       "scales": {
        "count": "IPY_MODEL_68445afa49d34649b98d9ca722695d41",
        "sample": "IPY_MODEL_0b43b0bd91dd4886bd42cd5e6c3a2f13"
       }
      }
     },
     "341808b6d804482586fca777d1b114ab": {
      "model_module": "bqplot",
      "model_module_version": "^0.5.34",
      "model_name": "LinearScaleModel",
      "state": {
       "allow_padding": false,
       "max": 1,
       "min": 0,
       "stabilized": false
      }
     },
     "34d706c3c08a4524bba06aafc2f2abca": {
      "model_module": "bqplot",
      "model_module_version": "^0.5.34",
      "model_name": "AxisModel",
      "state": {
       "orientation": "vertical",
       "scale": "IPY_MODEL_68445afa49d34649b98d9ca722695d41",
       "side": "left",
       "tick_values": null
      }
     },
     "368ab0c9052c4650abfd2af9775ceec3": {
      "model_module": "@jupyter-widgets/base",
      "model_module_version": "1.2.0",
      "model_name": "LayoutModel",
      "state": {
       "grid_area": "widget002",
       "height": "50%"
      }
     },
     "36cd55a49cda4c9ba81cd9cd617b8d03": {
      "model_module": "@jupyter-widgets/base",
      "model_module_version": "1.2.0",
      "model_name": "LayoutModel",
      "state": {}
     },
     "36d5df88bd0440d2a0c8fe0eaf0ce8e4": {
      "model_module": "@jupyter-widgets/controls",
      "model_module_version": "1.5.0",
      "model_name": "DescriptionStyleModel",
      "state": {
       "description_width": ""
      }
     },
     "370b6f11cd144d23b8dee0030a99a7f9": {
      "model_module": "bqplot",
      "model_module_version": "^0.5.34",
      "model_name": "LinearScaleModel",
      "state": {
       "allow_padding": false,
       "max": 1,
       "min": 0,
       "stabilized": false
      }
     },
     "3a219b59626d4e0a874093ee5a2684ee": {
      "model_module": "bqplot",
      "model_module_version": "^0.5.34",
      "model_name": "AxisModel",
      "state": {
       "scale": "IPY_MODEL_bd3deb47941842eea7a232b72c98bd86",
       "side": "bottom",
       "tick_values": null
      }
     },
     "3bacabee94214036a2f3be4472aa1b26": {
      "model_module": "bqplot",
      "model_module_version": "^0.5.34",
      "model_name": "LinearScaleModel",
      "state": {
       "allow_padding": false,
       "max": 1,
       "min": 0,
       "stabilized": false
      }
     },
     "3d068f0c269d4b1bbb50f141d6608cc1": {
      "model_module": "@jupyter-widgets/controls",
      "model_module_version": "1.5.0",
      "model_name": "HTMLMathModel",
      "state": {
       "layout": "IPY_MODEL_2e34a741b1494774abab1d04dc4b9d25",
       "style": "IPY_MODEL_be12fca3cf7e429a9257e2b88b5f223d",
       "value": "<h2>Left Column HTML content</h2>\n    <p>bla bla bla</p>\n    $$E=mc^2$$\n    <p>bla bla bla</p>\n    <p>bla bla bla</p>\n    <p>bla bla bla</p>\n    <p>bla bla bla</p>\n    <p>bla bla bla</p>\n    "
      }
     },
     "4048d58d4195422585ca5605ed726557": {
      "buffers": [
       {
        "data": "AAAAAAAA8D8AAAAAAADwPwAAAAAAAPA/AAAAAAAAAEAAAAAAAADwPwAAAAAAAPA/AAAAAAAA8D8AAAAAAAAAAAAAAAAAAAAAAAAAAAAAAEA=",
        "encoding": "base64",
        "path": [
         "count",
         "value"
        ]
       },
       {
        "data": "tl/fCjB8tj8eOSj1NVXCPzw9j2jlneI/WFJ/khvYzL/Uj0zfxAf2P8DMcJxkH/g/D2ygT+oa6D+wVLPRvk7Ev2ZwBl7PadA/6zBCKiFU478=",
        "encoding": "base64",
        "path": [
         "sample",
         "value"
        ]
       }
      ],
      "model_module": "bqplot",
      "model_module_version": "^0.5.34",
      "model_name": "HistModel",
      "state": {
       "count": {
        "dtype": "float64",
        "shape": [
         10
        ],
        "type": null
       },
       "midpoints": [
        -0.49843551907980543,
        -0.2872671160615754,
        -0.07609871304334531,
        0.13506968997488478,
        0.3462380929931149,
        0.557406496011345,
        0.768574899029575,
        0.979743302047805,
        1.1909117050660352
       ],
       "sample": {
        "dtype": "float64",
        "shape": [
         10
        ],
        "type": null
       },
       "scales": {
        "count": "IPY_MODEL_9b3980068aab4fe1a3fdcc4caf9ce833",
        "sample": "IPY_MODEL_718cba3a3f4b42b79639adb37cdbe590"
       }
      }
     },
     "414775de3f5646779491864e9187ce69": {
      "model_module": "@jupyter-widgets/controls",
      "model_module_version": "1.5.0",
      "model_name": "DescriptionStyleModel",
      "state": {
       "description_width": ""
      }
     },
     "425025dfdb9b430cb6e0a645bd56c65d": {
      "model_module": "@jupyter-widgets/controls",
      "model_module_version": "1.5.0",
      "model_name": "DescriptionStyleModel",
      "state": {
       "description_width": ""
      }
     },
     "4457aee081fd4d3da378ca8b675b3440": {
      "model_module": "bqplot",
      "model_module_version": "^0.5.34",
      "model_name": "AxisModel",
      "state": {
       "scale": "IPY_MODEL_0b43b0bd91dd4886bd42cd5e6c3a2f13",
       "side": "bottom",
       "tick_values": null
      }
     },
     "467b61b43d374c5d939a599bcdcdeafe": {
      "buffers": [
       {
        "data": "AAAAAAAAAEAAAAAAAAAAAAAAAAAAAPA/AAAAAAAAAAAAAAAAAAAAAAAAAAAAAAAAAAAAAAAAAEAAAAAAAAAAQAAAAAAAAPA/AAAAAAAAAEA=",
        "encoding": "base64",
        "path": [
         "count",
         "value"
        ]
       },
       {
        "data": "IMltWIfIxD8oGjxpvtvYP7K9pDZnVPI/GWZKGfiXBEDAsUWpLXQHQCcHTPLhKxBACAN9Pu6XDUCyA2BS/WIGQOrzHYAbLAtAydrjoCXdCUA=",
        "encoding": "base64",
        "path": [
         "sample",
         "value"
        ]
       }
      ],
      "model_module": "bqplot",
      "model_module_version": "^0.5.34",
      "model_name": "HistModel",
      "state": {
       "count": {
        "dtype": "float64",
        "shape": [
         10
        ],
        "type": null
       },
       "midpoints": [
        0.3563938727986916,
        0.7444423182821118,
        1.132490763765532,
        1.5205392092489523,
        1.9085876547323721,
        2.2966361002157925,
        2.6846845456992128,
        3.0727329911826327,
        3.460781436666053
       ],
       "sample": {
        "dtype": "float64",
        "shape": [
         10
        ],
        "type": null
       },
       "scales": {
        "count": "IPY_MODEL_47bfa63d072a42aabf1ad542177d5b1a",
        "sample": "IPY_MODEL_f74678e404754bbcafe8229c23b95f67"
       }
      }
     },
     "47bfa63d072a42aabf1ad542177d5b1a": {
      "model_module": "bqplot",
      "model_module_version": "^0.5.34",
      "model_name": "LinearScaleModel",
      "state": {
       "stabilized": false
      }
     },
     "47d7a92c242c4f0884968447f0edf982": {
      "model_module": "@jupyter-widgets/base",
      "model_module_version": "1.2.0",
      "model_name": "LayoutModel",
      "state": {
       "grid_area": "widget001"
      }
     },
     "483fb64812d24808ad4895b800b8c07b": {
      "model_module": "@jupyter-widgets/controls",
      "model_module_version": "1.5.0",
      "model_name": "VBoxModel",
      "state": {
       "children": [
        "IPY_MODEL_74fc10595b534d2b83f6371e0f178680",
        "IPY_MODEL_57a87696ba47484085fc696aa61062b3"
       ],
       "layout": "IPY_MODEL_f5695ab5fc7d4632848cd3dfaa5f8301"
      }
     },
     "4868347baea14df58171bd366d42d072": {
      "model_module": "@jupyter-widgets/controls",
      "model_module_version": "1.5.0",
      "model_name": "VBoxModel",
      "state": {
       "children": [
        "IPY_MODEL_74fc10595b534d2b83f6371e0f178680",
        "IPY_MODEL_57a87696ba47484085fc696aa61062b3"
       ],
       "layout": "IPY_MODEL_21c30bc77b014a948b07e6a790267328"
      }
     },
     "4c474fd1b57046da83fdfb92f6607f44": {
      "model_module": "bqplot",
      "model_module_version": "^0.5.34",
      "model_name": "LinearScaleModel",
      "state": {
       "allow_padding": false,
       "max": 1,
       "min": 0,
       "stabilized": false
      }
     },
     "4caaa15105724b85aa5df749488e38e1": {
      "model_module": "bqplot",
      "model_module_version": "^0.5.34",
      "model_name": "AxisModel",
      "state": {
       "orientation": "vertical",
       "scale": "IPY_MODEL_8ab5038c64b04c67bdbf200413d9595c",
       "side": "left",
       "tick_values": null
      }
     },
     "4f30a05a6a444746833d2ad42e739c7f": {
      "model_module": "@jupyter-widgets/base",
      "model_module_version": "1.2.0",
      "model_name": "LayoutModel",
      "state": {
       "grid_area": "widget002",
       "height": "50%"
      }
     },
     "505914f7676c4b2a8db02f3c5ea0d5be": {
      "model_module": "bqplot",
      "model_module_version": "^0.5.34",
      "model_name": "FigureModel",
      "state": {
       "axes": [
        "IPY_MODEL_3a219b59626d4e0a874093ee5a2684ee",
        "IPY_MODEL_4caaa15105724b85aa5df749488e38e1"
       ],
       "layout": "IPY_MODEL_ad1e5317b8584ae7b89b3008aa9f8a2f",
       "marks": [
        "IPY_MODEL_f3bd75fecac94ecea6b5c83a345c5185"
       ],
       "scale_x": "IPY_MODEL_a51000497e9e442ba13a0d3d14eb7cf0",
       "scale_y": "IPY_MODEL_370b6f11cd144d23b8dee0030a99a7f9",
       "title": "Figure 0"
      }
     },
     "534e8eaa9bf44164b809548e85d87cee": {
      "model_module": "@jupyter-widgets/controls",
      "model_module_version": "1.5.0",
      "model_name": "HTMLMathModel",
      "state": {
       "layout": "IPY_MODEL_36cd55a49cda4c9ba81cd9cd617b8d03",
       "style": "IPY_MODEL_f145152a0ef946c698a795f86458fb91",
       "value": "<h2>Left Column HTML content</h2>\n    <p>bla bla bla</p>\n    $$E=mc^2$$\n    <p>bla bla bla</p>\n    <p>bla bla bla</p>\n    <p>bla bla bla</p>\n    <p>bla bla bla</p>\n    <p>bla bla bla</p>\n    "
      }
     },
     "55177157dae744c783aeec97924a767e": {
      "model_module": "@jupyter-widgets/controls",
      "model_module_version": "1.5.0",
      "model_name": "DescriptionStyleModel",
      "state": {
       "description_width": ""
      }
     },
     "5635854c22e441a786eb11084905337e": {
      "model_module": "@jupyter-widgets/controls",
      "model_module_version": "1.5.0",
      "model_name": "HTMLMathModel",
      "state": {
       "layout": "IPY_MODEL_d86e2b67352146028def564cc9b2d12c",
       "style": "IPY_MODEL_61e633de2ea54fc5b11340a5f7fb377e",
       "value": "<h1>Two Columns Two Lines Slide</h1>"
      }
     },
     "57508d53cfd14322af7b51d46b3af0b7": {
      "model_module": "@jupyter-widgets/controls",
      "model_module_version": "1.5.0",
      "model_name": "GridBoxModel",
      "state": {
       "children": [
        "IPY_MODEL_037b7ca1e03242f08cfc88e005c66a64",
        "IPY_MODEL_96ece10955a6402a9fd3ab222beb5285",
        "IPY_MODEL_103b289298be49ecaa607ee828106fb8"
       ],
       "layout": "IPY_MODEL_bdda030f43be42f4a7f8ca3954f61ec8"
      }
     },
     "57a87696ba47484085fc696aa61062b3": {
      "model_module": "bqplot",
      "model_module_version": "^0.5.34",
      "model_name": "FigureModel",
      "state": {
       "axes": [
        "IPY_MODEL_34d706c3c08a4524bba06aafc2f2abca",
        "IPY_MODEL_4457aee081fd4d3da378ca8b675b3440"
       ],
       "layout": "IPY_MODEL_f0d9f6f904fe4bcba2022c4d50f1f665",
       "marks": [
        "IPY_MODEL_f3a69dc1ecd04816b06619ab00eead82",
        "IPY_MODEL_c918f0761409409fa5deb8a3f12d99b7",
        "IPY_MODEL_946d47830302428dbb3ad41f2bcbea71",
        "IPY_MODEL_2fef1f9793894fc28bdd425421831a73",
        "IPY_MODEL_8cb55568ca774278b5bff0ad22c59151",
        "IPY_MODEL_ef451bcc214d4b79aa54c1a932d2b111",
        "IPY_MODEL_10c958c11c63445aa08ffd1e313c3058",
        "IPY_MODEL_037c6ebbbd534c109d0779bb98302c9d"
       ],
       "scale_x": "IPY_MODEL_db42ad739b024001a3a957282adda89f",
       "scale_y": "IPY_MODEL_3bacabee94214036a2f3be4472aa1b26",
       "title": "Figure 4"
      }
     },
     "58bd42991f4944a6b40571fee0a40498": {
      "model_module": "@jupyter-widgets/base",
      "model_module_version": "1.2.0",
      "model_name": "LayoutModel",
      "state": {
       "grid_area": "widget001"
      }
     },
     "5966fa69bc5c40398656b0eafa0fdd1d": {
      "model_module": "@jupyter-widgets/base",
      "model_module_version": "1.2.0",
      "model_name": "LayoutModel",
      "state": {
       "grid_template_areas": "\"widget001 widget001\"\n\"widget002 widget003\"\n\"widget002 widget003\"\n\"widget002 widget003\"\n\"widget002 widget003\"\n\"widget002 widget003\"\n\"widget002 widget003\"",
       "grid_template_columns": "repeat(2, 1fr)",
       "grid_template_rows": "repeat(7, 1fr)"
      }
     },
     "5ae564c6860d41dd86b4272bc9b55f1f": {
      "model_module": "@jupyter-widgets/controls",
      "model_module_version": "1.5.0",
      "model_name": "HTMLMathModel",
      "state": {
       "layout": "IPY_MODEL_47d7a92c242c4f0884968447f0edf982",
       "style": "IPY_MODEL_19d272445be44b9d8c8309509b227e52",
       "value": "<h1>Two Columns Two Lines Slide</h1>"
      }
     },
     "5b87d4f884d745ef9ca5f65c1d0471e3": {
      "model_module": "@jupyter-widgets/controls",
      "model_module_version": "1.5.0",
      "model_name": "VBoxModel",
      "state": {
       "children": [
        "IPY_MODEL_74fc10595b534d2b83f6371e0f178680",
        "IPY_MODEL_57a87696ba47484085fc696aa61062b3"
       ],
       "layout": "IPY_MODEL_1887e68bc900423598bc5c059fbe5d57"
      }
     },
     "5f216d6650db4e598483d6c3b54f0a5d": {
      "buffers": [
       {
        "data": "AAAAAAAA8D8AAAAAAADwPwAAAAAAAPA/AAAAAAAAAEAAAAAAAADwPwAAAAAAAPA/AAAAAAAA8D8AAAAAAAAAAAAAAAAAAAAAAAAAAAAAAEA=",
        "encoding": "base64",
        "path": [
         "count",
         "value"
        ]
       },
       {
        "data": "tl/fCjB8tj8eOSj1NVXCPzw9j2jlneI/WFJ/khvYzL/Uj0zfxAf2P8DMcJxkH/g/D2ygT+oa6D+wVLPRvk7Ev2ZwBl7PadA/6zBCKiFU478=",
        "encoding": "base64",
        "path": [
         "sample",
         "value"
        ]
       }
      ],
      "model_module": "bqplot",
      "model_module_version": "^0.5.34",
      "model_name": "HistModel",
      "state": {
       "count": {
        "dtype": "float64",
        "shape": [
         10
        ],
        "type": null
       },
       "midpoints": [
        -0.49843551907980543,
        -0.2872671160615754,
        -0.07609871304334531,
        0.13506968997488478,
        0.3462380929931149,
        0.557406496011345,
        0.768574899029575,
        0.979743302047805,
        1.1909117050660352
       ],
       "sample": {
        "dtype": "float64",
        "shape": [
         10
        ],
        "type": null
       },
       "scales": {
        "count": "IPY_MODEL_9b3980068aab4fe1a3fdcc4caf9ce833",
        "sample": "IPY_MODEL_718cba3a3f4b42b79639adb37cdbe590"
       }
      }
     },
     "5f463b287268486ca4ec3a4cb390462e": {
      "model_module": "bqplot",
      "model_module_version": "^0.5.34",
      "model_name": "LinearScaleModel",
      "state": {
       "allow_padding": false,
       "max": 1,
       "min": 0,
       "stabilized": false
      }
     },
     "5f869289e8a140ffa60c36ba0d7b556f": {
      "buffers": [
       {
        "data": "AAAAAAAA8D8AAAAAAADwPwAAAAAAAPA/AAAAAAAAAEAAAAAAAADwPwAAAAAAAPA/AAAAAAAA8D8AAAAAAAAAAAAAAAAAAAAAAAAAAAAAAEA=",
        "encoding": "base64",
        "path": [
         "count",
         "value"
        ]
       },
       {
        "data": "tl/fCjB8tj8eOSj1NVXCPzw9j2jlneI/WFJ/khvYzL/Uj0zfxAf2P8DMcJxkH/g/D2ygT+oa6D+wVLPRvk7Ev2ZwBl7PadA/6zBCKiFU478=",
        "encoding": "base64",
        "path": [
         "sample",
         "value"
        ]
       }
      ],
      "model_module": "bqplot",
      "model_module_version": "^0.5.34",
      "model_name": "HistModel",
      "state": {
       "count": {
        "dtype": "float64",
        "shape": [
         10
        ],
        "type": null
       },
       "midpoints": [
        -0.49843551907980543,
        -0.2872671160615754,
        -0.07609871304334531,
        0.13506968997488478,
        0.3462380929931149,
        0.557406496011345,
        0.768574899029575,
        0.979743302047805,
        1.1909117050660352
       ],
       "sample": {
        "dtype": "float64",
        "shape": [
         10
        ],
        "type": null
       },
       "scales": {
        "count": "IPY_MODEL_9b3980068aab4fe1a3fdcc4caf9ce833",
        "sample": "IPY_MODEL_718cba3a3f4b42b79639adb37cdbe590"
       }
      }
     },
     "613b4de532ca4a99adcd02fe21af23a1": {
      "model_module": "bqplot",
      "model_module_version": "^0.5.34",
      "model_name": "FigureModel",
      "state": {
       "axes": [
        "IPY_MODEL_ea6abf7e3095475785330150865a65da",
        "IPY_MODEL_c1dc0bbf71fd48e281c15d87a7fe1d5c"
       ],
       "layout": "IPY_MODEL_0a09927c0f15400c94e2abb1b74d206f",
       "marks": [
        "IPY_MODEL_0895084b551341fa8da31fc1d0e7c912"
       ],
       "scale_x": "IPY_MODEL_5f463b287268486ca4ec3a4cb390462e",
       "scale_y": "IPY_MODEL_c3de918c2cd046eebe510b118e9ad886",
       "title": "Figure 1"
      }
     },
     "61e633de2ea54fc5b11340a5f7fb377e": {
      "model_module": "@jupyter-widgets/controls",
      "model_module_version": "1.5.0",
      "model_name": "DescriptionStyleModel",
      "state": {
       "description_width": ""
      }
     },
     "67740e1395cc4d979b5c832f8ca8ebc4": {
      "model_module": "@jupyter-widgets/base",
      "model_module_version": "1.2.0",
      "model_name": "LayoutModel",
      "state": {}
     },
     "68445afa49d34649b98d9ca722695d41": {
      "model_module": "bqplot",
      "model_module_version": "^0.5.34",
      "model_name": "LinearScaleModel",
      "state": {
       "stabilized": false
      }
     },
     "6a2402eba2c549df8e39132c6439975d": {
      "model_module": "@jupyter-widgets/controls",
      "model_module_version": "1.5.0",
      "model_name": "HTMLMathModel",
      "state": {
       "layout": "IPY_MODEL_fd3cd68e1edb43ba8dc31e60ae003167",
       "style": "IPY_MODEL_2fedba09f3204c0cb963f8dd0e5aab6c",
       "value": "<h1>Two Columns Slide</h1>"
      }
     },
     "718cba3a3f4b42b79639adb37cdbe590": {
      "model_module": "bqplot",
      "model_module_version": "^0.5.34",
      "model_name": "LinearScaleModel",
      "state": {
       "stabilized": false
      }
     },
     "72f1fa77b4914b8eb14f79dc5a2619b9": {
      "model_module": "@jupyter-widgets/controls",
      "model_module_version": "1.5.0",
      "model_name": "HTMLMathModel",
      "state": {
       "layout": "IPY_MODEL_be4178a5af9e444e90c1c56f4041c631",
       "style": "IPY_MODEL_425025dfdb9b430cb6e0a645bd56c65d",
       "value": "<h2>Left Column HTML content</h2>\n    <p>bla bla bla</p>\n    $$E=mc^2$$\n    <p>bla bla bla</p>\n    <p>bla bla bla</p>\n    <p>bla bla bla</p>\n    <p>bla bla bla</p>\n    <p>bla bla bla</p>\n    <p>bla bla bla</p>\n    <p>bla bla bla</p>\n    <p>bla bla bla</p>\n    "
      }
     },
     "74fc10595b534d2b83f6371e0f178680": {
      "model_module": "bqplot",
      "model_module_version": "^0.5.34",
      "model_name": "FigureModel",
      "state": {
       "axes": [
        "IPY_MODEL_d855870678ef47f3af73cbb002ba1343",
        "IPY_MODEL_cf388244a14d44da9b7316f2c9e89982"
       ],
       "layout": "IPY_MODEL_8bbdfaa6eb064bdc8ed0b46e4302d218",
       "marks": [
        "IPY_MODEL_d7f4dfcebd694ca2a01f7b582d75233c",
        "IPY_MODEL_8fb97137317849d6b4025ce770d6d202",
        "IPY_MODEL_5f216d6650db4e598483d6c3b54f0a5d",
        "IPY_MODEL_5f869289e8a140ffa60c36ba0d7b556f",
        "IPY_MODEL_4048d58d4195422585ca5605ed726557",
        "IPY_MODEL_1b88e615bb0443fabe4562a0aa763129",
        "IPY_MODEL_26ff8cf4f2b74ffa84c54710450ad655",
        "IPY_MODEL_a7f160dd40974be0b8e149de1bdc7fab"
       ],
       "scale_x": "IPY_MODEL_d9fcf4603e72483ca5d4a0e6c579dff8",
       "scale_y": "IPY_MODEL_f5ea8c508b744fe4ba52f54002af73e0",
       "title": "Figure 3"
      }
     },
     "7df8b99137934ef4bb4b6105276bb976": {
      "model_module": "@jupyter-widgets/base",
      "model_module_version": "1.2.0",
      "model_name": "LayoutModel",
      "state": {}
     },
     "7ea60e7eafc24cc8b1b6f2a3905cfd8f": {
      "model_module": "@jupyter-widgets/base",
      "model_module_version": "1.2.0",
      "model_name": "LayoutModel",
      "state": {
       "grid_template_areas": "\"widget001 widget001\"\n\"widget002 widget003\"\n\"widget002 widget003\"\n\"widget002 widget003\"\n\"widget002 widget003\"\n\"widget002 widget003\"\n\"widget002 widget003\"",
       "grid_template_columns": "repeat(2, 1fr)",
       "grid_template_rows": "repeat(7, 1fr)"
      }
     },
     "80c2aa73a76f4a119c3a281c04f1d860": {
      "model_module": "@jupyter-widgets/base",
      "model_module_version": "1.2.0",
      "model_name": "LayoutModel",
      "state": {
       "grid_template_areas": "\"widget001 widget001\"\n\"widget002 widget002\"\n\"widget002 widget002\"\n\"widget002 widget002\"\n\"widget002 widget002\"\n\"widget002 widget002\"\n\"widget002 widget002\"",
       "grid_template_columns": "repeat(2, 1fr)",
       "grid_template_rows": "repeat(7, 1fr)"
      }
     },
     "88dad6165f18469189b7af8535d70ee4": {
      "buffers": [
       {
        "data": "AAAAAAAAAEAAAAAAAAAAAAAAAAAAAPA/AAAAAAAAAAAAAAAAAAAAAAAAAAAAAAAAAAAAAAAAAEAAAAAAAAAAQAAAAAAAAPA/AAAAAAAAAEA=",
        "encoding": "base64",
        "path": [
         "count",
         "value"
        ]
       },
       {
        "data": "IMltWIfIxD8oGjxpvtvYP7K9pDZnVPI/GWZKGfiXBEDAsUWpLXQHQCcHTPLhKxBACAN9Pu6XDUCyA2BS/WIGQOrzHYAbLAtAydrjoCXdCUA=",
        "encoding": "base64",
        "path": [
         "sample",
         "value"
        ]
       }
      ],
      "model_module": "bqplot",
      "model_module_version": "^0.5.34",
      "model_name": "HistModel",
      "state": {
       "count": {
        "dtype": "float64",
        "shape": [
         10
        ],
        "type": null
       },
       "midpoints": [
        0.3563938727986916,
        0.7444423182821118,
        1.132490763765532,
        1.5205392092489523,
        1.9085876547323721,
        2.2966361002157925,
        2.6846845456992128,
        3.0727329911826327,
        3.460781436666053
       ],
       "sample": {
        "dtype": "float64",
        "shape": [
         10
        ],
        "type": null
       },
       "scales": {
        "count": "IPY_MODEL_47bfa63d072a42aabf1ad542177d5b1a",
        "sample": "IPY_MODEL_f74678e404754bbcafe8229c23b95f67"
       }
      }
     },
     "8973bc9812c740be917ced5ce25eff72": {
      "model_module": "@jupyter-widgets/controls",
      "model_module_version": "1.5.0",
      "model_name": "DescriptionStyleModel",
      "state": {
       "description_width": ""
      }
     },
     "8ab5038c64b04c67bdbf200413d9595c": {
      "model_module": "bqplot",
      "model_module_version": "^0.5.34",
      "model_name": "LinearScaleModel",
      "state": {
       "stabilized": false
      }
     },
     "8b3f451d10614628877cf463e2926977": {
      "model_module": "@jupyter-widgets/base",
      "model_module_version": "1.2.0",
      "model_name": "LayoutModel",
      "state": {
       "grid_area": "widget001"
      }
     },
     "8bbdfaa6eb064bdc8ed0b46e4302d218": {
      "model_module": "@jupyter-widgets/base",
      "model_module_version": "1.2.0",
      "model_name": "LayoutModel",
      "state": {}
     },
     "8ca05315386b4f88b0e2d3f78a200cee": {
      "model_module": "@jupyter-widgets/controls",
      "model_module_version": "1.5.0",
      "model_name": "HTMLMathModel",
      "state": {
       "layout": "IPY_MODEL_7df8b99137934ef4bb4b6105276bb976",
       "style": "IPY_MODEL_bee607d6dc4c4a679d2136e6ed08f600",
       "value": "<h2>Left Column HTML content</h2>\n    <p>bla bla bla</p>\n    $$E=mc^2$$\n    <p>bla bla bla</p>\n    <p>bla bla bla</p>\n    <p>bla bla bla</p>\n    <p>bla bla bla</p>\n    <p>bla bla bla</p>\n    <p>bla bla bla</p>\n    <p>bla bla bla</p>\n    <p>bla bla bla</p>\n    <p>bla bla bla</p>\n    <p>bla bla bla</p>\n    <p>bla bla bla</p>\n    <p>bla bla bla</p>\n    <p>bla bla bla</p>\n    <p>bla bla bla</p>\n    <p>bla bla bla</p>\n    "
      }
     },
     "8cb55568ca774278b5bff0ad22c59151": {
      "buffers": [
       {
        "data": "AAAAAAAA8D8AAAAAAAAIQAAAAAAAAAAAAAAAAAAAAAAAAAAAAAAAAAAAAAAAAAAAAAAAAAAAAEAAAAAAAAAAAAAAAAAAAPA/AAAAAAAACEA=",
        "encoding": "base64",
        "path": [
         "count",
         "value"
        ]
       },
       {
        "data": "poi1G2Tt4T/3BS5upbjwP4jJajtc6/E/ax9DhIpK8j+gVy+XcavFvzGdNHDFi/q/s71HaEjF/L/zXt9BmpgBwDLYjS8yEfq/QDLxUVzFmD8=",
        "encoding": "base64",
        "path": [
         "sample",
         "value"
        ]
       }
      ],
      "model_module": "bqplot",
      "model_module_version": "^0.5.34",
      "model_name": "HistModel",
      "state": {
       "count": {
        "dtype": "float64",
        "shape": [
         10
        ],
        "type": null
       },
       "midpoints": [
        -2.032377398553196,
        -1.6981062507033076,
        -1.3638351028534186,
        -1.0295639550035296,
        -0.695292807153641,
        -0.3610216593037521,
        -0.026750511453863313,
        0.30752063639602545,
        0.6417917842459144
       ],
       "sample": {
        "dtype": "float64",
        "shape": [
         10
        ],
        "type": null
       },
       "scales": {
        "count": "IPY_MODEL_68445afa49d34649b98d9ca722695d41",
        "sample": "IPY_MODEL_0b43b0bd91dd4886bd42cd5e6c3a2f13"
       }
      }
     },
     "8e8ad1054b94479fb9c2fb28806bc1c0": {
      "model_module": "@jupyter-widgets/base",
      "model_module_version": "1.2.0",
      "model_name": "LayoutModel",
      "state": {
       "grid_template_areas": "\"widget001 widget001\"\n\"widget002 widget003\"\n\"widget002 widget003\"\n\"widget002 widget003\"\n\"widget002 widget003\"\n\"widget002 widget003\"\n\"widget002 widget003\"",
       "grid_template_columns": "repeat(2, 1fr)",
       "grid_template_rows": "repeat(7, 1fr)"
      }
     },
     "8fb97137317849d6b4025ce770d6d202": {
      "buffers": [
       {
        "data": "AAAAAAAA8D8AAAAAAADwPwAAAAAAAPA/AAAAAAAAAEAAAAAAAADwPwAAAAAAAPA/AAAAAAAA8D8AAAAAAAAAAAAAAAAAAAAAAAAAAAAAAEA=",
        "encoding": "base64",
        "path": [
         "count",
         "value"
        ]
       },
       {
        "data": "tl/fCjB8tj8eOSj1NVXCPzw9j2jlneI/WFJ/khvYzL/Uj0zfxAf2P8DMcJxkH/g/D2ygT+oa6D+wVLPRvk7Ev2ZwBl7PadA/6zBCKiFU478=",
        "encoding": "base64",
        "path": [
         "sample",
         "value"
        ]
       }
      ],
      "model_module": "bqplot",
      "model_module_version": "^0.5.34",
      "model_name": "HistModel",
      "state": {
       "count": {
        "dtype": "float64",
        "shape": [
         10
        ],
        "type": null
       },
       "midpoints": [
        -0.49843551907980543,
        -0.2872671160615754,
        -0.07609871304334531,
        0.13506968997488478,
        0.3462380929931149,
        0.557406496011345,
        0.768574899029575,
        0.979743302047805,
        1.1909117050660352
       ],
       "sample": {
        "dtype": "float64",
        "shape": [
         10
        ],
        "type": null
       },
       "scales": {
        "count": "IPY_MODEL_9b3980068aab4fe1a3fdcc4caf9ce833",
        "sample": "IPY_MODEL_718cba3a3f4b42b79639adb37cdbe590"
       }
      }
     },
     "91b9529cb33b490783d30a84fe37a50a": {
      "model_module": "@jupyter-widgets/base",
      "model_module_version": "1.2.0",
      "model_name": "LayoutModel",
      "state": {
       "grid_area": "widget003",
       "height": "50%"
      }
     },
     "93f51cc2999e412f9991369101a0c397": {
      "buffers": [
       {
        "data": "AAAAAAAAAEAAAAAAAAAAAAAAAAAAAPA/AAAAAAAAAAAAAAAAAAAAAAAAAAAAAAAAAAAAAAAAAEAAAAAAAAAAQAAAAAAAAPA/AAAAAAAAAEA=",
        "encoding": "base64",
        "path": [
         "count",
         "value"
        ]
       },
       {
        "data": "IMltWIfIxD8oGjxpvtvYP7K9pDZnVPI/GWZKGfiXBEDAsUWpLXQHQCcHTPLhKxBACAN9Pu6XDUCyA2BS/WIGQOrzHYAbLAtAydrjoCXdCUA=",
        "encoding": "base64",
        "path": [
         "sample",
         "value"
        ]
       }
      ],
      "model_module": "bqplot",
      "model_module_version": "^0.5.34",
      "model_name": "HistModel",
      "state": {
       "count": {
        "dtype": "float64",
        "shape": [
         10
        ],
        "type": null
       },
       "midpoints": [
        0.3563938727986916,
        0.7444423182821118,
        1.132490763765532,
        1.5205392092489523,
        1.9085876547323721,
        2.2966361002157925,
        2.6846845456992128,
        3.0727329911826327,
        3.460781436666053
       ],
       "sample": {
        "dtype": "float64",
        "shape": [
         10
        ],
        "type": null
       },
       "scales": {
        "count": "IPY_MODEL_47bfa63d072a42aabf1ad542177d5b1a",
        "sample": "IPY_MODEL_f74678e404754bbcafe8229c23b95f67"
       }
      }
     },
     "946d47830302428dbb3ad41f2bcbea71": {
      "buffers": [
       {
        "data": "AAAAAAAA8D8AAAAAAAAIQAAAAAAAAAAAAAAAAAAAAAAAAAAAAAAAAAAAAAAAAAAAAAAAAAAAAEAAAAAAAAAAAAAAAAAAAPA/AAAAAAAACEA=",
        "encoding": "base64",
        "path": [
         "count",
         "value"
        ]
       },
       {
        "data": "poi1G2Tt4T/3BS5upbjwP4jJajtc6/E/ax9DhIpK8j+gVy+XcavFvzGdNHDFi/q/s71HaEjF/L/zXt9BmpgBwDLYjS8yEfq/QDLxUVzFmD8=",
        "encoding": "base64",
        "path": [
         "sample",
         "value"
        ]
       }
      ],
      "model_module": "bqplot",
      "model_module_version": "^0.5.34",
      "model_name": "HistModel",
      "state": {
       "count": {
        "dtype": "float64",
        "shape": [
         10
        ],
        "type": null
       },
       "midpoints": [
        -2.032377398553196,
        -1.6981062507033076,
        -1.3638351028534186,
        -1.0295639550035296,
        -0.695292807153641,
        -0.3610216593037521,
        -0.026750511453863313,
        0.30752063639602545,
        0.6417917842459144
       ],
       "sample": {
        "dtype": "float64",
        "shape": [
         10
        ],
        "type": null
       },
       "scales": {
        "count": "IPY_MODEL_68445afa49d34649b98d9ca722695d41",
        "sample": "IPY_MODEL_0b43b0bd91dd4886bd42cd5e6c3a2f13"
       }
      }
     },
     "950566e0e18745759e6f6c4802ce7f1a": {
      "model_module": "@jupyter-widgets/controls",
      "model_module_version": "1.5.0",
      "model_name": "GridBoxModel",
      "state": {
       "children": [
        "IPY_MODEL_5ae564c6860d41dd86b4272bc9b55f1f",
        "IPY_MODEL_296e32303f7b4a0d97f01b7675b47799",
        "IPY_MODEL_abd12b990ebe45db935f41a391260631"
       ],
       "layout": "IPY_MODEL_e08c34e8307a4d5e894be1c50f358f21"
      }
     },
     "96ece10955a6402a9fd3ab222beb5285": {
      "model_module": "@jupyter-widgets/controls",
      "model_module_version": "1.5.0",
      "model_name": "VBoxModel",
      "state": {
       "children": [
        "IPY_MODEL_079d1ebd97864b3e93cf614dad20cea1",
        "IPY_MODEL_dde0e72f287145f594f8856b1d821dd6"
       ],
       "layout": "IPY_MODEL_4f30a05a6a444746833d2ad42e739c7f"
      }
     },
     "99b805d6ba4d41998f700f9d434a906e": {
      "model_module": "bqplot",
      "model_module_version": "^0.5.34",
      "model_name": "LinearScaleModel",
      "state": {
       "stabilized": false
      }
     },
     "9b3980068aab4fe1a3fdcc4caf9ce833": {
      "model_module": "bqplot",
      "model_module_version": "^0.5.34",
      "model_name": "LinearScaleModel",
      "state": {
       "stabilized": false
      }
     },
     "9c08b27c4a204583b39d71a2a1ed0460": {
      "model_module": "@jupyter-widgets/controls",
      "model_module_version": "1.5.0",
      "model_name": "VBoxModel",
      "state": {
       "children": [
        "IPY_MODEL_534e8eaa9bf44164b809548e85d87cee",
        "IPY_MODEL_dde0e72f287145f594f8856b1d821dd6"
       ],
       "layout": "IPY_MODEL_e3ba845f8b1e490ebfefc4e00d8ff7f0"
      }
     },
     "9c2e46cc0ab942669b106419d19cee9d": {
      "model_module": "@jupyter-widgets/controls",
      "model_module_version": "1.5.0",
      "model_name": "DescriptionStyleModel",
      "state": {
       "description_width": ""
      }
     },
     "9ce605ded9004dd4a19a9abf99d07212": {
      "model_module": "@jupyter-widgets/base",
      "model_module_version": "1.2.0",
      "model_name": "LayoutModel",
      "state": {
       "grid_area": "widget001"
      }
     },
     "a0dc78853a444177a7a1f06b157f2275": {
      "model_module": "@jupyter-widgets/controls",
      "model_module_version": "1.5.0",
      "model_name": "HTMLMathModel",
      "state": {
       "layout": "IPY_MODEL_1d040702c9b040c3826f7314b8181756",
       "style": "IPY_MODEL_e45c31b8b92745fb9a046ff68ac19768",
       "value": "<h2>Left Column HTML content</h2>\n    <p>bla bla bla</p>\n    $$E=mc^2$$\n    "
      }
     },
     "a51000497e9e442ba13a0d3d14eb7cf0": {
      "model_module": "bqplot",
      "model_module_version": "^0.5.34",
      "model_name": "LinearScaleModel",
      "state": {
       "allow_padding": false,
       "max": 1,
       "min": 0,
       "stabilized": false
      }
     },
     "a7f160dd40974be0b8e149de1bdc7fab": {
      "buffers": [
       {
        "data": "AAAAAAAA8D8AAAAAAADwPwAAAAAAAPA/AAAAAAAAAEAAAAAAAADwPwAAAAAAAPA/AAAAAAAA8D8AAAAAAAAAAAAAAAAAAAAAAAAAAAAAAEA=",
        "encoding": "base64",
        "path": [
         "count",
         "value"
        ]
       },
       {
        "data": "tl/fCjB8tj8eOSj1NVXCPzw9j2jlneI/WFJ/khvYzL/Uj0zfxAf2P8DMcJxkH/g/D2ygT+oa6D+wVLPRvk7Ev2ZwBl7PadA/6zBCKiFU478=",
        "encoding": "base64",
        "path": [
         "sample",
         "value"
        ]
       }
      ],
      "model_module": "bqplot",
      "model_module_version": "^0.5.34",
      "model_name": "HistModel",
      "state": {
       "count": {
        "dtype": "float64",
        "shape": [
         10
        ],
        "type": null
       },
       "midpoints": [
        -0.49843551907980543,
        -0.2872671160615754,
        -0.07609871304334531,
        0.13506968997488478,
        0.3462380929931149,
        0.557406496011345,
        0.768574899029575,
        0.979743302047805,
        1.1909117050660352
       ],
       "sample": {
        "dtype": "float64",
        "shape": [
         10
        ],
        "type": null
       },
       "scales": {
        "count": "IPY_MODEL_9b3980068aab4fe1a3fdcc4caf9ce833",
        "sample": "IPY_MODEL_718cba3a3f4b42b79639adb37cdbe590"
       }
      }
     },
     "aa2c410b8188455bba1d78d2ccb6cb25": {
      "model_module": "@jupyter-widgets/controls",
      "model_module_version": "1.5.0",
      "model_name": "DescriptionStyleModel",
      "state": {
       "description_width": ""
      }
     },
     "abd12b990ebe45db935f41a391260631": {
      "model_module": "@jupyter-widgets/controls",
      "model_module_version": "1.5.0",
      "model_name": "VBoxModel",
      "state": {
       "children": [
        "IPY_MODEL_74fc10595b534d2b83f6371e0f178680",
        "IPY_MODEL_57a87696ba47484085fc696aa61062b3"
       ],
       "layout": "IPY_MODEL_2a8bd896760d48d3832fa69a19b723b4"
      }
     },
     "ad1e5317b8584ae7b89b3008aa9f8a2f": {
      "model_module": "@jupyter-widgets/base",
      "model_module_version": "1.2.0",
      "model_name": "LayoutModel",
      "state": {
       "grid_area": "widget002"
      }
     },
     "ad301fc048de46be998fbc66225f51c4": {
      "buffers": [
       {
        "data": "AAAAAAAAAEAAAAAAAAAAAAAAAAAAAPA/AAAAAAAAAAAAAAAAAAAAAAAAAAAAAAAAAAAAAAAAAEAAAAAAAAAAQAAAAAAAAPA/AAAAAAAAAEA=",
        "encoding": "base64",
        "path": [
         "count",
         "value"
        ]
       },
       {
        "data": "IMltWIfIxD8oGjxpvtvYP7K9pDZnVPI/GWZKGfiXBEDAsUWpLXQHQCcHTPLhKxBACAN9Pu6XDUCyA2BS/WIGQOrzHYAbLAtAydrjoCXdCUA=",
        "encoding": "base64",
        "path": [
         "sample",
         "value"
        ]
       }
      ],
      "model_module": "bqplot",
      "model_module_version": "^0.5.34",
      "model_name": "HistModel",
      "state": {
       "count": {
        "dtype": "float64",
        "shape": [
         10
        ],
        "type": null
       },
       "midpoints": [
        0.3563938727986916,
        0.7444423182821118,
        1.132490763765532,
        1.5205392092489523,
        1.9085876547323721,
        2.2966361002157925,
        2.6846845456992128,
        3.0727329911826327,
        3.460781436666053
       ],
       "sample": {
        "dtype": "float64",
        "shape": [
         10
        ],
        "type": null
       },
       "scales": {
        "count": "IPY_MODEL_47bfa63d072a42aabf1ad542177d5b1a",
        "sample": "IPY_MODEL_f74678e404754bbcafe8229c23b95f67"
       }
      }
     },
     "b36e2744d77a4522a4e57bd55882d682": {
      "model_module": "@jupyter-widgets/base",
      "model_module_version": "1.2.0",
      "model_name": "LayoutModel",
      "state": {
       "grid_area": "widget001"
      }
     },
     "b3b3fe59c49c493b8d172fd2e1f4d95f": {
      "model_module": "@jupyter-widgets/base",
      "model_module_version": "1.2.0",
      "model_name": "LayoutModel",
      "state": {
       "grid_template_areas": "\"widget001 widget001\"\n\"widget002 widget003\"\n\"widget002 widget003\"\n\"widget002 widget003\"\n\"widget002 widget003\"\n\"widget002 widget003\"\n\"widget002 widget003\"",
       "grid_template_columns": "repeat(2, 1fr)",
       "grid_template_rows": "repeat(7, 1fr)"
      }
     },
     "b5e855668a6c4aa2ae4338730bd66102": {
      "buffers": [
       {
        "data": "AAAAAAAAAEAAAAAAAAAAAAAAAAAAAPA/AAAAAAAAAAAAAAAAAAAAAAAAAAAAAAAAAAAAAAAAAEAAAAAAAAAAQAAAAAAAAPA/AAAAAAAAAEA=",
        "encoding": "base64",
        "path": [
         "count",
         "value"
        ]
       },
       {
        "data": "IMltWIfIxD8oGjxpvtvYP7K9pDZnVPI/GWZKGfiXBEDAsUWpLXQHQCcHTPLhKxBACAN9Pu6XDUCyA2BS/WIGQOrzHYAbLAtAydrjoCXdCUA=",
        "encoding": "base64",
        "path": [
         "sample",
         "value"
        ]
       }
      ],
      "model_module": "bqplot",
      "model_module_version": "^0.5.34",
      "model_name": "HistModel",
      "state": {
       "count": {
        "dtype": "float64",
        "shape": [
         10
        ],
        "type": null
       },
       "midpoints": [
        0.3563938727986916,
        0.7444423182821118,
        1.132490763765532,
        1.5205392092489523,
        1.9085876547323721,
        2.2966361002157925,
        2.6846845456992128,
        3.0727329911826327,
        3.460781436666053
       ],
       "sample": {
        "dtype": "float64",
        "shape": [
         10
        ],
        "type": null
       },
       "scales": {
        "count": "IPY_MODEL_47bfa63d072a42aabf1ad542177d5b1a",
        "sample": "IPY_MODEL_f74678e404754bbcafe8229c23b95f67"
       }
      }
     },
     "b6783752ebfd40fa957c6043575bcb57": {
      "model_module": "@jupyter-widgets/base",
      "model_module_version": "1.2.0",
      "model_name": "LayoutModel",
      "state": {
       "grid_area": "widget003",
       "height": "50%"
      }
     },
     "b6d454e7209d4b3a817b98159fdb96a9": {
      "model_module": "@jupyter-widgets/controls",
      "model_module_version": "1.5.0",
      "model_name": "GridBoxModel",
      "state": {
       "children": [
        "IPY_MODEL_c70934e9646c47349191671d00f155e7",
        "IPY_MODEL_9c08b27c4a204583b39d71a2a1ed0460",
        "IPY_MODEL_e3294e5d4fb841f0b62152323a0bbfb5"
       ],
       "layout": "IPY_MODEL_0c323fc1888f4a8999a2a51069278f0c"
      }
     },
     "bbcec399561e4b60ba9adb9d9f4320f4": {
      "model_module": "@jupyter-widgets/controls",
      "model_module_version": "1.5.0",
      "model_name": "DescriptionStyleModel",
      "state": {
       "description_width": ""
      }
     },
     "bc0056a11a5041a0a310bbb6108d82af": {
      "model_module": "@jupyter-widgets/controls",
      "model_module_version": "1.5.0",
      "model_name": "DescriptionStyleModel",
      "state": {
       "description_width": ""
      }
     },
     "bc0b338cea3f4e55bdb44709d381598c": {
      "model_module": "@jupyter-widgets/controls",
      "model_module_version": "1.5.0",
      "model_name": "VBoxModel",
      "state": {
       "children": [
        "IPY_MODEL_8ca05315386b4f88b0e2d3f78a200cee",
        "IPY_MODEL_dde0e72f287145f594f8856b1d821dd6"
       ],
       "layout": "IPY_MODEL_368ab0c9052c4650abfd2af9775ceec3"
      }
     },
     "bd3deb47941842eea7a232b72c98bd86": {
      "model_module": "bqplot",
      "model_module_version": "^0.5.34",
      "model_name": "LinearScaleModel",
      "state": {
       "stabilized": false
      }
     },
     "bdda030f43be42f4a7f8ca3954f61ec8": {
      "model_module": "@jupyter-widgets/base",
      "model_module_version": "1.2.0",
      "model_name": "LayoutModel",
      "state": {
       "grid_template_areas": "\"widget001 widget001\"\n\"widget002 widget003\"\n\"widget002 widget003\"\n\"widget002 widget003\"\n\"widget002 widget003\"\n\"widget002 widget003\"\n\"widget002 widget003\"",
       "grid_template_columns": "repeat(2, 1fr)",
       "grid_template_rows": "repeat(7, 1fr)"
      }
     },
     "be12fca3cf7e429a9257e2b88b5f223d": {
      "model_module": "@jupyter-widgets/controls",
      "model_module_version": "1.5.0",
      "model_name": "DescriptionStyleModel",
      "state": {
       "description_width": ""
      }
     },
     "be4178a5af9e444e90c1c56f4041c631": {
      "model_module": "@jupyter-widgets/base",
      "model_module_version": "1.2.0",
      "model_name": "LayoutModel",
      "state": {}
     },
     "bee607d6dc4c4a679d2136e6ed08f600": {
      "model_module": "@jupyter-widgets/controls",
      "model_module_version": "1.5.0",
      "model_name": "DescriptionStyleModel",
      "state": {
       "description_width": ""
      }
     },
     "bf1fcc1330854b31b42ecf1452dd513a": {
      "model_module": "@jupyter-widgets/base",
      "model_module_version": "1.2.0",
      "model_name": "LayoutModel",
      "state": {
       "grid_area": "widget001"
      }
     },
     "c03a799763304c14a64cf89d7c207559": {
      "model_module": "@jupyter-widgets/controls",
      "model_module_version": "1.5.0",
      "model_name": "VBoxModel",
      "state": {
       "children": [
        "IPY_MODEL_72f1fa77b4914b8eb14f79dc5a2619b9",
        "IPY_MODEL_dde0e72f287145f594f8856b1d821dd6"
       ],
       "layout": "IPY_MODEL_02075f1e751b4c32a6760b047d3de99b"
      }
     },
     "c1934fecc2b6457c9709b1971ee1e04e": {
      "buffers": [
       {
        "data": "AAAAAAAAAEAAAAAAAAAAAAAAAAAAAPA/AAAAAAAAAAAAAAAAAAAAAAAAAAAAAAAAAAAAAAAAAEAAAAAAAAAAQAAAAAAAAPA/AAAAAAAAAEA=",
        "encoding": "base64",
        "path": [
         "count",
         "value"
        ]
       },
       {
        "data": "IMltWIfIxD8oGjxpvtvYP7K9pDZnVPI/GWZKGfiXBEDAsUWpLXQHQCcHTPLhKxBACAN9Pu6XDUCyA2BS/WIGQOrzHYAbLAtAydrjoCXdCUA=",
        "encoding": "base64",
        "path": [
         "sample",
         "value"
        ]
       }
      ],
      "model_module": "bqplot",
      "model_module_version": "^0.5.34",
      "model_name": "HistModel",
      "state": {
       "count": {
        "dtype": "float64",
        "shape": [
         10
        ],
        "type": null
       },
       "midpoints": [
        0.3563938727986916,
        0.7444423182821118,
        1.132490763765532,
        1.5205392092489523,
        1.9085876547323721,
        2.2966361002157925,
        2.6846845456992128,
        3.0727329911826327,
        3.460781436666053
       ],
       "sample": {
        "dtype": "float64",
        "shape": [
         10
        ],
        "type": null
       },
       "scales": {
        "count": "IPY_MODEL_47bfa63d072a42aabf1ad542177d5b1a",
        "sample": "IPY_MODEL_f74678e404754bbcafe8229c23b95f67"
       }
      }
     },
     "c1dc0bbf71fd48e281c15d87a7fe1d5c": {
      "model_module": "bqplot",
      "model_module_version": "^0.5.34",
      "model_name": "AxisModel",
      "state": {
       "orientation": "vertical",
       "scale": "IPY_MODEL_051320608e0a40689d3cbb410b70bbde",
       "side": "left",
       "tick_values": null
      }
     },
     "c3de918c2cd046eebe510b118e9ad886": {
      "model_module": "bqplot",
      "model_module_version": "^0.5.34",
      "model_name": "LinearScaleModel",
      "state": {
       "allow_padding": false,
       "max": 1,
       "min": 0,
       "stabilized": false
      }
     },
     "c70934e9646c47349191671d00f155e7": {
      "model_module": "@jupyter-widgets/controls",
      "model_module_version": "1.5.0",
      "model_name": "HTMLMathModel",
      "state": {
       "layout": "IPY_MODEL_8b3f451d10614628877cf463e2926977",
       "style": "IPY_MODEL_9c2e46cc0ab942669b106419d19cee9d",
       "value": "<h1>Two Columns Two Lines Slide</h1>"
      }
     },
     "c918f0761409409fa5deb8a3f12d99b7": {
      "buffers": [
       {
        "data": "AAAAAAAA8D8AAAAAAAAIQAAAAAAAAAAAAAAAAAAAAAAAAAAAAAAAAAAAAAAAAAAAAAAAAAAAAEAAAAAAAAAAAAAAAAAAAPA/AAAAAAAACEA=",
        "encoding": "base64",
        "path": [
         "count",
         "value"
        ]
       },
       {
        "data": "poi1G2Tt4T/3BS5upbjwP4jJajtc6/E/ax9DhIpK8j+gVy+XcavFvzGdNHDFi/q/s71HaEjF/L/zXt9BmpgBwDLYjS8yEfq/QDLxUVzFmD8=",
        "encoding": "base64",
        "path": [
         "sample",
         "value"
        ]
       }
      ],
      "model_module": "bqplot",
      "model_module_version": "^0.5.34",
      "model_name": "HistModel",
      "state": {
       "count": {
        "dtype": "float64",
        "shape": [
         10
        ],
        "type": null
       },
       "midpoints": [
        -2.032377398553196,
        -1.6981062507033076,
        -1.3638351028534186,
        -1.0295639550035296,
        -0.695292807153641,
        -0.3610216593037521,
        -0.026750511453863313,
        0.30752063639602545,
        0.6417917842459144
       ],
       "sample": {
        "dtype": "float64",
        "shape": [
         10
        ],
        "type": null
       },
       "scales": {
        "count": "IPY_MODEL_68445afa49d34649b98d9ca722695d41",
        "sample": "IPY_MODEL_0b43b0bd91dd4886bd42cd5e6c3a2f13"
       }
      }
     },
     "cb23426bf7f942fe813348db02c8fd34": {
      "model_module": "@jupyter-widgets/controls",
      "model_module_version": "1.5.0",
      "model_name": "VBoxModel",
      "state": {
       "children": [
        "IPY_MODEL_74fc10595b534d2b83f6371e0f178680",
        "IPY_MODEL_57a87696ba47484085fc696aa61062b3"
       ],
       "layout": "IPY_MODEL_91b9529cb33b490783d30a84fe37a50a"
      }
     },
     "cf388244a14d44da9b7316f2c9e89982": {
      "model_module": "bqplot",
      "model_module_version": "^0.5.34",
      "model_name": "AxisModel",
      "state": {
       "scale": "IPY_MODEL_718cba3a3f4b42b79639adb37cdbe590",
       "side": "bottom",
       "tick_values": null
      }
     },
     "d5334db990d24427be5acd32e2f77436": {
      "model_module": "@jupyter-widgets/base",
      "model_module_version": "1.2.0",
      "model_name": "LayoutModel",
      "state": {
       "grid_area": "widget002",
       "height": "50%"
      }
     },
     "d7f4dfcebd694ca2a01f7b582d75233c": {
      "buffers": [
       {
        "data": "AAAAAAAA8D8AAAAAAADwPwAAAAAAAPA/AAAAAAAAAEAAAAAAAADwPwAAAAAAAPA/AAAAAAAA8D8AAAAAAAAAAAAAAAAAAAAAAAAAAAAAAEA=",
        "encoding": "base64",
        "path": [
         "count",
         "value"
        ]
       },
       {
        "data": "tl/fCjB8tj8eOSj1NVXCPzw9j2jlneI/WFJ/khvYzL/Uj0zfxAf2P8DMcJxkH/g/D2ygT+oa6D+wVLPRvk7Ev2ZwBl7PadA/6zBCKiFU478=",
        "encoding": "base64",
        "path": [
         "sample",
         "value"
        ]
       }
      ],
      "model_module": "bqplot",
      "model_module_version": "^0.5.34",
      "model_name": "HistModel",
      "state": {
       "count": {
        "dtype": "float64",
        "shape": [
         10
        ],
        "type": null
       },
       "midpoints": [
        -0.49843551907980543,
        -0.2872671160615754,
        -0.07609871304334531,
        0.13506968997488478,
        0.3462380929931149,
        0.557406496011345,
        0.768574899029575,
        0.979743302047805,
        1.1909117050660352
       ],
       "sample": {
        "dtype": "float64",
        "shape": [
         10
        ],
        "type": null
       },
       "scales": {
        "count": "IPY_MODEL_9b3980068aab4fe1a3fdcc4caf9ce833",
        "sample": "IPY_MODEL_718cba3a3f4b42b79639adb37cdbe590"
       }
      }
     },
     "d855870678ef47f3af73cbb002ba1343": {
      "model_module": "bqplot",
      "model_module_version": "^0.5.34",
      "model_name": "AxisModel",
      "state": {
       "orientation": "vertical",
       "scale": "IPY_MODEL_9b3980068aab4fe1a3fdcc4caf9ce833",
       "side": "left",
       "tick_values": null
      }
     },
     "d86e2b67352146028def564cc9b2d12c": {
      "model_module": "@jupyter-widgets/base",
      "model_module_version": "1.2.0",
      "model_name": "LayoutModel",
      "state": {
       "grid_area": "widget001"
      }
     },
     "d9fcf4603e72483ca5d4a0e6c579dff8": {
      "model_module": "bqplot",
      "model_module_version": "^0.5.34",
      "model_name": "LinearScaleModel",
      "state": {
       "allow_padding": false,
       "max": 1,
       "min": 0,
       "stabilized": false
      }
     },
     "dae563e6f9694f3487887efda5057812": {
      "model_module": "@jupyter-widgets/base",
      "model_module_version": "1.2.0",
      "model_name": "LayoutModel",
      "state": {}
     },
     "db42ad739b024001a3a957282adda89f": {
      "model_module": "bqplot",
      "model_module_version": "^0.5.34",
      "model_name": "LinearScaleModel",
      "state": {
       "allow_padding": false,
       "max": 1,
       "min": 0,
       "stabilized": false
      }
     },
     "dde0e72f287145f594f8856b1d821dd6": {
      "model_module": "bqplot",
      "model_module_version": "^0.5.34",
      "model_name": "FigureModel",
      "state": {
       "axes": [
        "IPY_MODEL_2fea67f121184ca9a081a0a05ac689cf",
        "IPY_MODEL_26f2706bf5c14a83989a4e646f7406d6"
       ],
       "layout": "IPY_MODEL_dae563e6f9694f3487887efda5057812",
       "marks": [
        "IPY_MODEL_ad301fc048de46be998fbc66225f51c4",
        "IPY_MODEL_88dad6165f18469189b7af8535d70ee4",
        "IPY_MODEL_0eb8c3d34a374cb497a588e9f1cf66c0",
        "IPY_MODEL_467b61b43d374c5d939a599bcdcdeafe",
        "IPY_MODEL_b5e855668a6c4aa2ae4338730bd66102",
        "IPY_MODEL_c1934fecc2b6457c9709b1971ee1e04e",
        "IPY_MODEL_e3f677c497e44c1a8b25a47506f6f99a",
        "IPY_MODEL_93f51cc2999e412f9991369101a0c397"
       ],
       "scale_x": "IPY_MODEL_4c474fd1b57046da83fdfb92f6607f44",
       "scale_y": "IPY_MODEL_341808b6d804482586fca777d1b114ab",
       "title": "Figure 2"
      }
     },
     "e08c34e8307a4d5e894be1c50f358f21": {
      "model_module": "@jupyter-widgets/base",
      "model_module_version": "1.2.0",
      "model_name": "LayoutModel",
      "state": {
       "grid_template_areas": "\"widget001 widget001\"\n\"widget002 widget003\"\n\"widget002 widget003\"\n\"widget002 widget003\"\n\"widget002 widget003\"\n\"widget002 widget003\"\n\"widget002 widget003\"",
       "grid_template_columns": "repeat(2, 1fr)",
       "grid_template_rows": "repeat(7, 1fr)"
      }
     },
     "e2d7491384674d00a3d837f4dba991b6": {
      "model_module": "@jupyter-widgets/base",
      "model_module_version": "1.2.0",
      "model_name": "LayoutModel",
      "state": {
       "grid_area": "widget003",
       "height": "50%"
      }
     },
     "e3294e5d4fb841f0b62152323a0bbfb5": {
      "model_module": "@jupyter-widgets/controls",
      "model_module_version": "1.5.0",
      "model_name": "VBoxModel",
      "state": {
       "children": [
        "IPY_MODEL_74fc10595b534d2b83f6371e0f178680",
        "IPY_MODEL_57a87696ba47484085fc696aa61062b3"
       ],
       "layout": "IPY_MODEL_b6783752ebfd40fa957c6043575bcb57"
      }
     },
     "e3ba845f8b1e490ebfefc4e00d8ff7f0": {
      "model_module": "@jupyter-widgets/base",
      "model_module_version": "1.2.0",
      "model_name": "LayoutModel",
      "state": {
       "grid_area": "widget002",
       "height": "50%"
      }
     },
     "e3f677c497e44c1a8b25a47506f6f99a": {
      "buffers": [
       {
        "data": "AAAAAAAAAEAAAAAAAAAAAAAAAAAAAPA/AAAAAAAAAAAAAAAAAAAAAAAAAAAAAAAAAAAAAAAAAEAAAAAAAAAAQAAAAAAAAPA/AAAAAAAAAEA=",
        "encoding": "base64",
        "path": [
         "count",
         "value"
        ]
       },
       {
        "data": "IMltWIfIxD8oGjxpvtvYP7K9pDZnVPI/GWZKGfiXBEDAsUWpLXQHQCcHTPLhKxBACAN9Pu6XDUCyA2BS/WIGQOrzHYAbLAtAydrjoCXdCUA=",
        "encoding": "base64",
        "path": [
         "sample",
         "value"
        ]
       }
      ],
      "model_module": "bqplot",
      "model_module_version": "^0.5.34",
      "model_name": "HistModel",
      "state": {
       "count": {
        "dtype": "float64",
        "shape": [
         10
        ],
        "type": null
       },
       "midpoints": [
        0.3563938727986916,
        0.7444423182821118,
        1.132490763765532,
        1.5205392092489523,
        1.9085876547323721,
        2.2966361002157925,
        2.6846845456992128,
        3.0727329911826327,
        3.460781436666053
       ],
       "sample": {
        "dtype": "float64",
        "shape": [
         10
        ],
        "type": null
       },
       "scales": {
        "count": "IPY_MODEL_47bfa63d072a42aabf1ad542177d5b1a",
        "sample": "IPY_MODEL_f74678e404754bbcafe8229c23b95f67"
       }
      }
     },
     "e45c31b8b92745fb9a046ff68ac19768": {
      "model_module": "@jupyter-widgets/controls",
      "model_module_version": "1.5.0",
      "model_name": "DescriptionStyleModel",
      "state": {
       "description_width": ""
      }
     },
     "e657d977227940baa9e07c6e4685c97a": {
      "model_module": "@jupyter-widgets/controls",
      "model_module_version": "1.5.0",
      "model_name": "GridBoxModel",
      "state": {
       "children": [
        "IPY_MODEL_04bd94d7421c40519ae33546b7d870a9",
        "IPY_MODEL_505914f7676c4b2a8db02f3c5ea0d5be"
       ],
       "layout": "IPY_MODEL_80c2aa73a76f4a119c3a281c04f1d860"
      }
     },
     "ea23a8e4154f44ec83744dcac1e52195": {
      "model_module": "@jupyter-widgets/base",
      "model_module_version": "1.2.0",
      "model_name": "LayoutModel",
      "state": {
       "grid_area": "widget002",
       "height": "50%"
      }
     },
     "ea44861655424e3283a4ed56eea57a0f": {
      "model_module": "@jupyter-widgets/base",
      "model_module_version": "1.2.0",
      "model_name": "LayoutModel",
      "state": {
       "grid_area": "widget001"
      }
     },
     "ea6abf7e3095475785330150865a65da": {
      "model_module": "bqplot",
      "model_module_version": "^0.5.34",
      "model_name": "AxisModel",
      "state": {
       "scale": "IPY_MODEL_99b805d6ba4d41998f700f9d434a906e",
       "side": "bottom",
       "tick_values": null
      }
     },
     "ef451bcc214d4b79aa54c1a932d2b111": {
      "buffers": [
       {
        "data": "AAAAAAAA8D8AAAAAAAAIQAAAAAAAAAAAAAAAAAAAAAAAAAAAAAAAAAAAAAAAAAAAAAAAAAAAAEAAAAAAAAAAAAAAAAAAAPA/AAAAAAAACEA=",
        "encoding": "base64",
        "path": [
         "count",
         "value"
        ]
       },
       {
        "data": "poi1G2Tt4T/3BS5upbjwP4jJajtc6/E/ax9DhIpK8j+gVy+XcavFvzGdNHDFi/q/s71HaEjF/L/zXt9BmpgBwDLYjS8yEfq/QDLxUVzFmD8=",
        "encoding": "base64",
        "path": [
         "sample",
         "value"
        ]
       }
      ],
      "model_module": "bqplot",
      "model_module_version": "^0.5.34",
      "model_name": "HistModel",
      "state": {
       "count": {
        "dtype": "float64",
        "shape": [
         10
        ],
        "type": null
       },
       "midpoints": [
        -2.032377398553196,
        -1.6981062507033076,
        -1.3638351028534186,
        -1.0295639550035296,
        -0.695292807153641,
        -0.3610216593037521,
        -0.026750511453863313,
        0.30752063639602545,
        0.6417917842459144
       ],
       "sample": {
        "dtype": "float64",
        "shape": [
         10
        ],
        "type": null
       },
       "scales": {
        "count": "IPY_MODEL_68445afa49d34649b98d9ca722695d41",
        "sample": "IPY_MODEL_0b43b0bd91dd4886bd42cd5e6c3a2f13"
       }
      }
     },
     "f0d9f6f904fe4bcba2022c4d50f1f665": {
      "model_module": "@jupyter-widgets/base",
      "model_module_version": "1.2.0",
      "model_name": "LayoutModel",
      "state": {}
     },
     "f0f504a1c80342b899e9deaa6d059853": {
      "model_module": "@jupyter-widgets/base",
      "model_module_version": "1.2.0",
      "model_name": "LayoutModel",
      "state": {}
     },
     "f145152a0ef946c698a795f86458fb91": {
      "model_module": "@jupyter-widgets/controls",
      "model_module_version": "1.5.0",
      "model_name": "DescriptionStyleModel",
      "state": {
       "description_width": ""
      }
     },
     "f1733845ddd04b5bb81493a5a4195b46": {
      "model_module": "@jupyter-widgets/controls",
      "model_module_version": "1.5.0",
      "model_name": "HTMLMathModel",
      "state": {
       "layout": "IPY_MODEL_58bd42991f4944a6b40571fee0a40498",
       "style": "IPY_MODEL_36d5df88bd0440d2a0c8fe0eaf0ce8e4",
       "value": "<h1>Two Columns Two Lines Slide</h1>"
      }
     },
     "f3a69dc1ecd04816b06619ab00eead82": {
      "buffers": [
       {
        "data": "AAAAAAAA8D8AAAAAAAAIQAAAAAAAAAAAAAAAAAAAAAAAAAAAAAAAAAAAAAAAAAAAAAAAAAAAAEAAAAAAAAAAAAAAAAAAAPA/AAAAAAAACEA=",
        "encoding": "base64",
        "path": [
         "count",
         "value"
        ]
       },
       {
        "data": "poi1G2Tt4T/3BS5upbjwP4jJajtc6/E/ax9DhIpK8j+gVy+XcavFvzGdNHDFi/q/s71HaEjF/L/zXt9BmpgBwDLYjS8yEfq/QDLxUVzFmD8=",
        "encoding": "base64",
        "path": [
         "sample",
         "value"
        ]
       }
      ],
      "model_module": "bqplot",
      "model_module_version": "^0.5.34",
      "model_name": "HistModel",
      "state": {
       "count": {
        "dtype": "float64",
        "shape": [
         10
        ],
        "type": null
       },
       "midpoints": [
        -2.032377398553196,
        -1.6981062507033076,
        -1.3638351028534186,
        -1.0295639550035296,
        -0.695292807153641,
        -0.3610216593037521,
        -0.026750511453863313,
        0.30752063639602545,
        0.6417917842459144
       ],
       "sample": {
        "dtype": "float64",
        "shape": [
         10
        ],
        "type": null
       },
       "scales": {
        "count": "IPY_MODEL_68445afa49d34649b98d9ca722695d41",
        "sample": "IPY_MODEL_0b43b0bd91dd4886bd42cd5e6c3a2f13"
       }
      }
     },
     "f3bd75fecac94ecea6b5c83a345c5185": {
      "buffers": [
       {
        "data": "AAAAAAEAAAACAAAAAwAAAA==",
        "encoding": "base64",
        "path": [
         "x",
         "value"
        ]
       },
       {
        "data": "KeqMPW4L4z9qcKCMluOJP1Xg4xUypdQ//iSggEiX8T8=",
        "encoding": "base64",
        "path": [
         "y",
         0,
         "value"
        ]
       },
       {
        "data": "bv8gHqkE1z8SN7E8RDvhv7KqSqPshNA/6lNLMGU97j8=",
        "encoding": "base64",
        "path": [
         "y",
         1,
         "value"
        ]
       },
       {
        "data": "Gzg1kWNw6r8qOQfciG3YP9wV3zghqtK/NkvjwlcGCkA=",
        "encoding": "base64",
        "path": [
         "y",
         2,
         "value"
        ]
       },
       {
        "data": "YIuJz56hAMCJ8rtC+VTtP63QScm6zeO/6sSeNEJQ/z8=",
        "encoding": "base64",
        "path": [
         "y",
         3,
         "value"
        ]
       },
       {
        "data": "m8xtgC5u/L+0VOIrT8fDP/0vatucDum/wGAIqKnY4j8=",
        "encoding": "base64",
        "path": [
         "y",
         4,
         "value"
        ]
       },
       {
        "data": "gHq4hPuiy7+sBD1qzZHhv7ZRwpbjRwfA/lpveIgn7D8=",
        "encoding": "base64",
        "path": [
         "y",
         5,
         "value"
        ]
       },
       {
        "data": "4Ikiw+wfxj+U/uoBh4f7v/DA32Wfjw3AehII5oLm8b8=",
        "encoding": "base64",
        "path": [
         "y",
         6,
         "value"
        ]
       },
       {
        "data": "svUgScqt2j8fhAP76QX6v1gJk/htBw/ACNuFsIOE+b8=",
        "encoding": "base64",
        "path": [
         "y",
         7,
         "value"
        ]
       },
       {
        "data": "hG1dNWQH+79s4PcQVjwLwF6buCtpORTApBbPbUc63b8=",
        "encoding": "base64",
        "path": [
         "y",
         8,
         "value"
        ]
       },
       {
        "data": "1mUqylyNBsCupafKnS0HwKb2lelVkxjALMA3wRJn878=",
        "encoding": "base64",
        "path": [
         "y",
         9,
         "value"
        ]
       }
      ],
      "model_module": "bqplot",
      "model_module_version": "^0.5.34",
      "model_name": "LinesModel",
      "state": {
       "fill_colors": [],
       "labels": [
        "C1",
        "C2",
        "C3",
        "C4",
        "C5",
        "C6",
        "C7",
        "C8",
        "C9",
        "C10"
       ],
       "scales": {
        "x": "IPY_MODEL_bd3deb47941842eea7a232b72c98bd86",
        "y": "IPY_MODEL_8ab5038c64b04c67bdbf200413d9595c"
       },
       "x": {
        "dtype": "int32",
        "shape": [
         4
        ],
        "type": null
       },
       "y": [
        {
         "dtype": "float64",
         "shape": [
          4
         ],
         "type": null
        },
        {
         "dtype": "float64",
         "shape": [
          4
         ],
         "type": null
        },
        {
         "dtype": "float64",
         "shape": [
          4
         ],
         "type": null
        },
        {
         "dtype": "float64",
         "shape": [
          4
         ],
         "type": null
        },
        {
         "dtype": "float64",
         "shape": [
          4
         ],
         "type": null
        },
        {
         "dtype": "float64",
         "shape": [
          4
         ],
         "type": null
        },
        {
         "dtype": "float64",
         "shape": [
          4
         ],
         "type": null
        },
        {
         "dtype": "float64",
         "shape": [
          4
         ],
         "type": null
        },
        {
         "dtype": "float64",
         "shape": [
          4
         ],
         "type": null
        },
        {
         "dtype": "float64",
         "shape": [
          4
         ],
         "type": null
        }
       ]
      }
     },
     "f5695ab5fc7d4632848cd3dfaa5f8301": {
      "model_module": "@jupyter-widgets/base",
      "model_module_version": "1.2.0",
      "model_name": "LayoutModel",
      "state": {
       "grid_area": "widget003",
       "height": "50%"
      }
     },
     "f5ea8c508b744fe4ba52f54002af73e0": {
      "model_module": "bqplot",
      "model_module_version": "^0.5.34",
      "model_name": "LinearScaleModel",
      "state": {
       "allow_padding": false,
       "max": 1,
       "min": 0,
       "stabilized": false
      }
     },
     "f74678e404754bbcafe8229c23b95f67": {
      "model_module": "bqplot",
      "model_module_version": "^0.5.34",
      "model_name": "LinearScaleModel",
      "state": {
       "stabilized": false
      }
     },
     "f7ade4a63bc74b7181b56a24d4ba963a": {
      "model_module": "@jupyter-widgets/controls",
      "model_module_version": "1.5.0",
      "model_name": "DescriptionStyleModel",
      "state": {
       "description_width": ""
      }
     },
     "f84b0f50f44a4c13b43d58d6c308d0a6": {
      "model_module": "@jupyter-widgets/controls",
      "model_module_version": "1.5.0",
      "model_name": "VBoxModel",
      "state": {
       "children": [
        "IPY_MODEL_05da21b8e71944ddb89751b40da24272",
        "IPY_MODEL_dde0e72f287145f594f8856b1d821dd6"
       ],
       "layout": "IPY_MODEL_064406296a07465d8489c149c891a41d"
      }
     },
     "f901471225ea4b43b6280475a9039695": {
      "model_module": "@jupyter-widgets/controls",
      "model_module_version": "1.5.0",
      "model_name": "HTMLMathModel",
      "state": {
       "layout": "IPY_MODEL_ea44861655424e3283a4ed56eea57a0f",
       "style": "IPY_MODEL_414775de3f5646779491864e9187ce69",
       "value": "<h1>Two Columns Two Lines Slide</h1>"
      }
     },
     "f9d6d699957f42d685413da0e6e1abfe": {
      "model_module": "@jupyter-widgets/base",
      "model_module_version": "1.2.0",
      "model_name": "LayoutModel",
      "state": {
       "grid_template_areas": "\"widget001 widget001\"\n\"widget002 widget003\"\n\"widget002 widget003\"\n\"widget002 widget003\"\n\"widget002 widget003\"\n\"widget002 widget003\"\n\"widget002 widget003\"",
       "grid_template_columns": "repeat(2, 1fr)",
       "grid_template_rows": "repeat(7, 1fr)"
      }
     },
     "fd3cd68e1edb43ba8dc31e60ae003167": {
      "model_module": "@jupyter-widgets/base",
      "model_module_version": "1.2.0",
      "model_name": "LayoutModel",
      "state": {
       "grid_area": "widget001"
      }
     }
    },
    "version_major": 2,
    "version_minor": 0
   }
  }
 },
 "nbformat": 4,
 "nbformat_minor": 5
}
